{
 "cells": [
  {
   "cell_type": "code",
   "execution_count": 2,
   "metadata": {
    "collapsed": true
   },
   "outputs": [],
   "source": [
    "source(\"2-model_tests.R\")"
   ]
  },
  {
   "cell_type": "code",
   "execution_count": 3,
   "metadata": {
    "collapsed": true
   },
   "outputs": [],
   "source": [
    "models <- list(\"fda\", \"earth\")\n",
    "noTune <- list(tuneGrid = NULL)\n",
    "# nprune = 11, degree = 1\n",
    "marsGrid <- list(tuneGrid = expand.grid(.degree = 1:2, .nprune = 2:38))\n",
    "tune <- list(noTune, marsGrid)\n",
    "prep <- list(NULL)"
   ]
  },
  {
   "cell_type": "code",
   "execution_count": 4,
   "metadata": {
    "collapsed": true
   },
   "outputs": [],
   "source": [
    "vars <- hc.dv"
   ]
  },
  {
   "cell_type": "code",
   "execution_count": null,
   "metadata": {
    "collapsed": false
   },
   "outputs": [
    {
     "name": "stderr",
     "output_type": "stream",
     "text": [
      "Loading required package: earth\n",
      "Loading required package: plotmo\n",
      "Loading required package: plotrix\n",
      "Loading required package: TeachingDemos\n",
      "Loading required package: mda\n",
      "Loading required package: class\n",
      "Loaded mda 0.4-8\n",
      "\n"
     ]
    }
   ],
   "source": [
    "mods1 <- run_models(train.dv, valid.dv, vars, models, tune, prep, trCtrl)"
   ]
  },
  {
   "cell_type": "code",
   "execution_count": null,
   "metadata": {
    "collapsed": true
   },
   "outputs": [],
   "source": [
    "mods1"
   ]
  },
  {
   "cell_type": "code",
   "execution_count": null,
   "metadata": {
    "collapsed": true
   },
   "outputs": [],
   "source": [
    "models <- list(\"svmRadial\")\n",
    "sigmaRangeReduced <- sigest(as.matrix(train.dv[, -c(1, vars)]))\n",
    "svmGrid <- list(tuneGrid = expand.grid(.sigma = sigmaRangeReduced, .C = 2^(seq(-4, 4))))\n",
    "tune <- list(svmGrid)\n",
    "prep <- list(list(c(\"center\", \"scale\")))"
   ]
  },
  {
   "cell_type": "code",
   "execution_count": null,
   "metadata": {
    "collapsed": true
   },
   "outputs": [],
   "source": [
    "mods2 <- run_models(train.dv, valid.dv, vars, models, tune, prep, trCtrl, fit = FALSE)\n",
    "mods2"
   ]
  },
  {
   "cell_type": "code",
   "execution_count": null,
   "metadata": {
    "collapsed": true
   },
   "outputs": [],
   "source": [
    "models <- list(\"knn\")\n",
    "knnGrid <- list(tuneGrid = data.frame(.k = c(4 * (0:5) +1, 20 * (1:5) + 1, 50 * (2:9) + 1)))\n",
    "tune <- list(knnGrid)"
   ]
  },
  {
   "cell_type": "code",
   "execution_count": null,
   "metadata": {
    "collapsed": true
   },
   "outputs": [],
   "source": [
    "mods3 <- run_models(train.dv, valid.dv, vars, models, tune, prep, trCtrl)\n",
    "mods3"
   ]
  },
  {
   "cell_type": "code",
   "execution_count": null,
   "metadata": {
    "collapsed": true
   },
   "outputs": [],
   "source": [
    "models <- list(\"nb\")\n",
    "nbGrid <- list(tuneGrid = expand.grid(.fL = c(0, 2), .userkernal = c(TRUE, FALSE), .adjust = 1))\n",
    "vars <- NULL"
   ]
  },
  {
   "cell_type": "code",
   "execution_count": null,
   "metadata": {
    "collapsed": true
   },
   "outputs": [],
   "source": [
    "mods4 <- run_models(train.set, valid.set, vars, models, tune, prep, trCtrl)\n",
    "mods4"
   ]
  },
  {
   "cell_type": "code",
   "execution_count": null,
   "metadata": {
    "collapsed": true
   },
   "outputs": [],
   "source": [
    "models <- list(\"nnet\")\n",
    "# nnetGrid <- list(tuneGrid = expand.grid(.size = 1:10, .decay = c(0, 0.1, 1, 2)))\n",
    "# previous model found size = 1 and decay = 2 produced best fit\n",
    "nnetGrid <- list(tuneGrid = expand.grid(.size = 1, .decay = 2))\n",
    "tune <- list(nnetGrid)\n",
    "prep <- list(list(c(\"center\", \"scale\", \"spatialSign\")))\n",
    "maxSize <- max(nnetGrid$tuneGrid$.size)\n",
    "numWts <- 1 * (maxSize * (length(train.dv[, -c(1, vars)]) + 1) + maxSize + 1)\n",
    "mods5 <- run_models(train.dv, valid.dv, vars, models, tune, prep, trCtrl, trace = FALSE, maxit = 2000, MaxNWts = numWts)\n",
    "mods5"
   ]
  }
 ],
 "metadata": {
  "kernelspec": {
   "display_name": "R",
   "language": "R",
   "name": "ir"
  },
  "language_info": {
   "codemirror_mode": "r",
   "file_extension": ".r",
   "mimetype": "text/x-r-source",
   "name": "R",
   "pygments_lexer": "r",
   "version": "3.3.0"
  }
 },
 "nbformat": 4,
 "nbformat_minor": 0
}
