{
 "cells": [
  {
   "cell_type": "code",
   "execution_count": 1,
   "metadata": {
    "collapsed": false
   },
   "outputs": [
    {
     "name": "stderr",
     "output_type": "stream",
     "text": [
      "\n",
      "Attaching package: 'dplyr'\n",
      "\n",
      "The following objects are masked from 'package:plyr':\n",
      "\n",
      "    arrange, count, desc, failwith, id, mutate, rename, summarise,\n",
      "    summarize\n",
      "\n",
      "The following objects are masked from 'package:stats':\n",
      "\n",
      "    filter, lag\n",
      "\n",
      "The following objects are masked from 'package:base':\n",
      "\n",
      "    intersect, setdiff, setequal, union\n",
      "\n",
      "\n",
      "Attaching package: 'tibble'\n",
      "\n",
      "The following objects are masked from 'package:dplyr':\n",
      "\n",
      "    as_data_frame, data_frame, data_frame_, frame_data, glimpse,\n",
      "    knit_print.trunc_mat, tibble, trunc_mat, type_sum\n",
      "\n",
      "Loading required package: lattice\n",
      "Loading required package: ggplot2\n",
      "\n",
      "Attaching package: 'purrr'\n",
      "\n",
      "The following object is masked from 'package:caret':\n",
      "\n",
      "    lift\n",
      "\n",
      "The following object is masked from 'package:dplyr':\n",
      "\n",
      "    order_by\n",
      "\n",
      "The following object is masked from 'package:plyr':\n",
      "\n",
      "    compact\n",
      "\n"
     ]
    },
    {
     "ename": "ERROR",
     "evalue": "Error in eval(expr, envir, enclos): object 'Party' not found\n",
     "output_type": "error",
     "traceback": [
      "Error in eval(expr, envir, enclos): object 'Party' not found\nTraceback:\n",
      "1. source(\"2-model_tests.R\")",
      "2. withVisible(eval(ei, envir))",
      "3. eval(ei, envir)",
      "4. eval(expr, envir, enclos)",
      "5. source(\"1-data_sets.R\")",
      "6. withVisible(eval(ei, envir))",
      "7. eval(ei, envir)",
      "8. eval(expr, envir, enclos)",
      "9. testing %>% mutate_each(funs(as.character), -USER_ID, -YOB, -Party) %>% \n .     mutate_each(funs(ifelse(is.na(.), \"Unknown\", .)), -USER_ID, \n .         -YOB, -Party) %>% mutate_each(funs(as.factor), -USER_ID, \n .     -YOB, -Party)",
      "10. withVisible(eval(quote(`_fseq`(`_lhs`)), env, env))",
      "11. eval(quote(`_fseq`(`_lhs`)), env, env)",
      "12. eval(expr, envir, enclos)",
      "13. `_fseq`(`_lhs`)",
      "14. freduce(value, `_function_list`)",
      "15. function_list[[i]](value)",
      "16. mutate_each(., funs(as.character), -USER_ID, -YOB, -Party)",
      "17. mutate_each_(tbl, funs, lazyeval::lazy_dots(...))",
      "18. colwise_(tbl, funs_(funs), vars)",
      "19. select_vars_(tbl_vars(tbl), vars, exclude = as.character(groups(tbl)))",
      "20. lazyeval::lazy_eval(args, c(names_list, select_funs))",
      "21. lapply(x, lazy_eval, data = data)",
      "22. FUN(X[[i]], ...)",
      "23. eval(x$expr, data, x$env)",
      "24. eval(expr, envir, enclos)"
     ]
    }
   ],
   "source": [
    "source(\"2-model_tests.R\")"
   ]
  },
  {
   "cell_type": "markdown",
   "metadata": {},
   "source": [
    "### Linear Discriminant Analysis"
   ]
  },
  {
   "cell_type": "markdown",
   "metadata": {},
   "source": [
    "#### Notes on Models\n",
    "\n",
    "* train.set with KNN imputing\n",
    "    - NZV makes no difference\n",
    "    - BoxCox makes no difference\n",
    "    - PCA makes no difference\n",
    "* train.dv improves over train.set but gives warning for collinearity\n",
    "* train.hc improves over train.dv but gives warning for collinearity unless nzv removed\n",
    "    - PCA slightly decreases accuracy, kappa, and specificity; slightly increases sensitivity; no warning for collinearity"
   ]
  },
  {
   "cell_type": "code",
   "execution_count": null,
   "metadata": {
    "collapsed": false
   },
   "outputs": [],
   "source": [
    "set.seed(1056)\n",
    "lda3 <- train(x = train.hc[, -1], y = train.party, method = \"lda\", trControl = trCtrl, metric = \"ROC\",\n",
    "              preProcess = c(\"nzv\", \"knnImpute\"))"
   ]
  },
  {
   "cell_type": "code",
   "execution_count": null,
   "metadata": {
    "collapsed": true
   },
   "outputs": [],
   "source": [
    "pred.lda3 <- predict(lda3, newdata = valid.hc[, -1], na.action = na.pass)\n",
    "cm.lda3 <- confusionMatrix(pred.lda3, valid.party)"
   ]
  },
  {
   "cell_type": "code",
   "execution_count": null,
   "metadata": {
    "collapsed": false
   },
   "outputs": [],
   "source": [
    "lda3"
   ]
  },
  {
   "cell_type": "code",
   "execution_count": null,
   "metadata": {
    "collapsed": false
   },
   "outputs": [],
   "source": [
    "cm.lda3"
   ]
  },
  {
   "cell_type": "code",
   "execution_count": null,
   "metadata": {
    "collapsed": true
   },
   "outputs": [],
   "source": [
    "predTest <- predict(lda3, newdata = test.set, na.action = na.pass)\n",
    "\n",
    "test.submit <- data_frame(USER_ID = testing$USER_ID, Predictions = predTest)\n",
    "\n",
    "mod <- str_replace_all(as.character(Sys.time()), \"-|:| \", \"\")\n",
    "write_csv(test.submit, paste0(\"submission_\", mod, \".csv\"))\n"
   ]
  },
  {
   "cell_type": "markdown",
   "metadata": {},
   "source": [
    "### Partial Least Squares Discriminant Analysis"
   ]
  },
  {
   "cell_type": "markdown",
   "metadata": {},
   "source": [
    "#### Notes on Models\n",
    "- train.dv2 improves accuracy over top LDA model\n",
    "- train.hc2 improves accuracy over train.dv2"
   ]
  },
  {
   "cell_type": "code",
   "execution_count": null,
   "metadata": {
    "collapsed": false
   },
   "outputs": [],
   "source": [
    "set.seed(1056)\n",
    "pls1 <- train(x = train.dv2[, -1], y = train.party, method = \"pls\", trControl = trCtrl, metric = \"ROC\",\n",
    "              preProcess = \"knnImpute\", tuneGrid = expand.grid(.ncomp = 1:10))"
   ]
  },
  {
   "cell_type": "code",
   "execution_count": null,
   "metadata": {
    "collapsed": true
   },
   "outputs": [],
   "source": [
    "pred.pls1 <- predict(pls1, newdata = valid.dv2[, -1], na.action = na.pass)\n",
    "cm.pls1 <- confusionMatrix(pred.pls1, valid.party)"
   ]
  },
  {
   "cell_type": "code",
   "execution_count": null,
   "metadata": {
    "collapsed": false
   },
   "outputs": [],
   "source": [
    "pls1"
   ]
  },
  {
   "cell_type": "code",
   "execution_count": null,
   "metadata": {
    "collapsed": false
   },
   "outputs": [],
   "source": [
    "cm.pls1"
   ]
  },
  {
   "cell_type": "code",
   "execution_count": null,
   "metadata": {
    "collapsed": true
   },
   "outputs": [],
   "source": [
    "set.seed(1056)\n",
    "pls2 <- train(x = train.hc2[, -1], y = train.party, method = \"pls\", trControl = trCtrl, metric = \"ROC\",\n",
    "              preProcess = c(\"nzv\", \"knnImpute\"), tuneGrid = expand.grid(.ncomp = 1:10))"
   ]
  },
  {
   "cell_type": "code",
   "execution_count": null,
   "metadata": {
    "collapsed": true
   },
   "outputs": [],
   "source": [
    "pred.pls2 <- predict(pls2, newdata = valid.hc2[, -1], na.action = na.pass)\n",
    "cm.pls2 <- confusionMatrix(pred.pls2, valid.party)"
   ]
  },
  {
   "cell_type": "code",
   "execution_count": null,
   "metadata": {
    "collapsed": false
   },
   "outputs": [],
   "source": [
    "pls2"
   ]
  },
  {
   "cell_type": "code",
   "execution_count": null,
   "metadata": {
    "collapsed": false
   },
   "outputs": [],
   "source": [
    "cm.pls2"
   ]
  },
  {
   "cell_type": "code",
   "execution_count": null,
   "metadata": {
    "collapsed": true
   },
   "outputs": [],
   "source": [
    "set.seed(1056)\n",
    "pls3 <- train(x = train.lc[, -1], y = train.party, method = \"pls\", trControl = trCtrl, metric = \"ROC\",\n",
    "              preProcess = c(\"nzv\", \"knnImpute\"), tuneGrid = expand.grid(.ncomp = 1:10))"
   ]
  },
  {
   "cell_type": "code",
   "execution_count": null,
   "metadata": {
    "collapsed": true
   },
   "outputs": [],
   "source": [
    "pred.pls3 <- predict(pls3, newdata = valid.lc[, -1], na.action = na.pass)\n",
    "cm.pls3 <- confusionMatrix(pred.pls3, valid.party)"
   ]
  },
  {
   "cell_type": "code",
   "execution_count": null,
   "metadata": {
    "collapsed": true
   },
   "outputs": [],
   "source": [
    "pls3"
   ]
  },
  {
   "cell_type": "code",
   "execution_count": null,
   "metadata": {
    "collapsed": true
   },
   "outputs": [],
   "source": [
    "cm.pls3"
   ]
  }
 ],
 "metadata": {
  "kernelspec": {
   "display_name": "R",
   "language": "R",
   "name": "ir"
  },
  "language_info": {
   "codemirror_mode": "r",
   "file_extension": ".r",
   "mimetype": "text/x-r-source",
   "name": "R",
   "pygments_lexer": "r",
   "version": "3.3.0"
  }
 },
 "nbformat": 4,
 "nbformat_minor": 0
}
