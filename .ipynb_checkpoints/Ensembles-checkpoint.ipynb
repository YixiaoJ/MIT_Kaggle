{
 "cells": [
  {
   "cell_type": "markdown",
   "metadata": {},
   "source": [
    "## Model Ensemble\n",
    "\n",
    "* Linear Classifications\n",
    "    - Partial Least Squares\n",
    "        + method = \"pls\"\n",
    "        + pre-process: nzv, pca\n",
    "        + vars: hc.dv\n",
    "        + train.dv\n",
    "        + tune: ncomp = 3\n",
    "* Nonlinear Classifications\n",
    "    - Flexible Discriminant Analysis\n",
    "        + method = \"earth\"\n",
    "        + pre-process: none\n",
    "        + vars: hc.dv\n",
    "        + train.dv\n",
    "        + tune: nprune = 11; degree = 1\n",
    "    - Neural Network\n",
    "        + method = \"nnet\"\n",
    "        + pre-process = center, scale, spatialSign\n",
    "        + vars: hc.dv\n",
    "        + train.dv\n",
    "        + tune: size = 1; decay = 2\n",
    "        + extra: maxSize = 1; MaxNWts, trace = FALSE, maxit\n",
    "* Classification Trees \n",
    "    - eXtreme Gradient Boosting\n",
    "        + method = \"xgbTree\"\n",
    "        + pre-process = none\n",
    "        + vars: hc.dv\n",
    "        + as.matrix(train.dv)\n",
    "        + tune: max_depth = 2; eta = 0.01"
   ]
  }
 ],
 "metadata": {
  "kernelspec": {
   "display_name": "R",
   "language": "R",
   "name": "ir"
  },
  "language_info": {
   "codemirror_mode": "r",
   "file_extension": ".r",
   "mimetype": "text/x-r-source",
   "name": "R",
   "pygments_lexer": "r",
   "version": "3.3.0"
  }
 },
 "nbformat": 4,
 "nbformat_minor": 0
}
