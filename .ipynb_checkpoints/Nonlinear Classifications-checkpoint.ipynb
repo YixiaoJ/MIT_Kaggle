{
 "cells": [
  {
   "cell_type": "markdown",
   "metadata": {},
   "source": [
    "## Nonlinear Classification Models\n",
    "\n",
    "* Quadratic Discriminant Analysis\n",
    "* Regularized Discriminant Analysis\n",
    "* Mixture Discriminant Analysis\n",
    "* Flexible Discriminant Analysis\n",
    "* Neural Networks"
   ]
  },
  {
   "cell_type": "code",
   "execution_count": 8,
   "metadata": {
    "collapsed": false,
    "scrolled": true
   },
   "outputs": [],
   "source": [
    "source(\"2-model_tests.R\")"
   ]
  },
  {
   "cell_type": "code",
   "execution_count": 3,
   "metadata": {
    "collapsed": true
   },
   "outputs": [],
   "source": [
    "models <- list(\"qda\", \"rda\", \"mda\", \"fda\", \"earth\")\n",
    "noTune <- list(tuneGrid = NULL)\n",
    "rdaGrid <- list(tuneLength = 10)\n",
    "mdaGrid <- list(tuneGrid = expand.grid(.subclasses = 1:8))\n",
    "marsGrid <- list(tuneGrid = expand.grid(.degree = 1:2, .nprune = 2:38))\n",
    "tune <- list(noTune, rdaGrid, mdaGrid, marsGrid, marsGrid)\n",
    "prep <- list(NULL)"
   ]
  },
  {
   "cell_type": "code",
   "execution_count": 4,
   "metadata": {
    "collapsed": true
   },
   "outputs": [],
   "source": [
    "vars <- hc2"
   ]
  },
  {
   "cell_type": "code",
   "execution_count": null,
   "metadata": {
    "collapsed": true
   },
   "outputs": [],
   "source": [
    "mods1 <- run_models(train.dv2i, valid.dv2i, vars, models, tune, prep, trCtrl)\n",
    "mods1"
   ]
  },
  {
   "cell_type": "code",
   "execution_count": 6,
   "metadata": {
    "collapsed": false
   },
   "outputs": [
    {
     "name": "stderr",
     "output_type": "stream",
     "text": [
      "Warning message:\n",
      "In max(nnetGrid$.size): no non-missing arguments to max; returning -Inf"
     ]
    },
    {
     "ename": "ERROR",
     "evalue": "Error in caretList(x = data[, -c(1, vars)], y = train.party, metric = \"ROC\", : caret:train failed for all models.  Please inspect your data.\n",
     "output_type": "error",
     "traceback": [
      "Error in caretList(x = data[, -c(1, vars)], y = train.party, metric = \"ROC\", : caret:train failed for all models.  Please inspect your data.\nTraceback:\n",
      "1. run_models(train.dv2i, valid.dv2i, vars, models, tune, prep, \n .     trCtrl, trace = FALSE, maxit = 2000, MaxNWts = numWts)",
      "2. caretList(x = data[, -c(1, vars)], y = train.party, metric = \"ROC\", \n .     trControl = ctrl, tuneList = specs, continue_on_fail = TRUE, \n .     ...)",
      "3. stop(\"caret:train failed for all models.  Please inspect your data.\")"
     ]
    }
   ],
   "source": [
    "models <- list(\"nnet\")\n",
    "nnetGrid <- list(tuneGrid = expand.grid(.size = 1:10, .decay = c(0, 0.1, 1, 2)))\n",
    "tune <- list(nnetGrid)\n",
    "prep <- list(list(c(\"center\", \"scale\", \"spatialSign\")))\n",
    "maxSize <- max(nnetGrid$.size)\n",
    "numWts <- 1 * (maxSize * (length(train.dv2i[, -c(1, vars)]) + 1) + maxSize + 1)\n",
    "mods2 <- run_models(train.dv2i, valid.dv2i, vars, models, tune, prep, trCtrl, trace = FALSE, maxit = 2000, MaxNWts = numWts)\n",
    "mods2"
   ]
  },
  {
   "cell_type": "code",
   "execution_count": null,
   "metadata": {
    "collapsed": false
   },
   "outputs": [
    {
     "name": "stderr",
     "output_type": "stream",
     "text": [
      "Warning message:\n",
      "In train.default(x = train.dv2i[, -c(1, vars)], y = train.party, : The metric \"Accuracy\" was not in the result set. ROC will be used instead."
     ]
    }
   ],
   "source": [
    "mdl <- train(x = train.dv2i[, -c(1, vars)], y = train.party, method = \"nnet\", \n",
    "             tuneGrid = expand.grid(.size = 1:10, .decay = c(0, 0.1, 1, 2)), trace = FALSE, maxit = 2000, \n",
    "             MaxNWts = numWts, trControl = trCtrl, metric = \"ROC\")"
   ]
  }
 ],
 "metadata": {
  "kernelspec": {
   "display_name": "R",
   "language": "R",
   "name": "ir"
  },
  "language_info": {
   "codemirror_mode": "r",
   "file_extension": ".r",
   "mimetype": "text/x-r-source",
   "name": "R",
   "pygments_lexer": "r",
   "version": "3.3.0"
  }
 },
 "nbformat": 4,
 "nbformat_minor": 0
}
