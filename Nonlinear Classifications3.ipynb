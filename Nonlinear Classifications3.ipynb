{
 "cells": [
  {
   "cell_type": "code",
   "execution_count": 1,
   "metadata": {
    "collapsed": false,
    "scrolled": true
   },
   "outputs": [
    {
     "name": "stderr",
     "output_type": "stream",
     "text": [
      "\n",
      "Attaching package: 'dplyr'\n",
      "\n",
      "The following objects are masked from 'package:plyr':\n",
      "\n",
      "    arrange, count, desc, failwith, id, mutate, rename, summarise,\n",
      "    summarize\n",
      "\n",
      "The following objects are masked from 'package:stats':\n",
      "\n",
      "    filter, lag\n",
      "\n",
      "The following objects are masked from 'package:base':\n",
      "\n",
      "    intersect, setdiff, setequal, union\n",
      "\n",
      "\n",
      "Attaching package: 'tibble'\n",
      "\n",
      "The following objects are masked from 'package:dplyr':\n",
      "\n",
      "    as_data_frame, data_frame, data_frame_, frame_data, glimpse,\n",
      "    knit_print.trunc_mat, tbl_df, tibble, trunc_mat, type_sum\n",
      "\n",
      "Loading required package: lattice\n",
      "Loading required package: ggplot2\n",
      "\n",
      "Attaching package: 'purrr'\n",
      "\n",
      "The following object is masked from 'package:caret':\n",
      "\n",
      "    lift\n",
      "\n",
      "The following object is masked from 'package:dplyr':\n",
      "\n",
      "    order_by\n",
      "\n",
      "The following object is masked from 'package:plyr':\n",
      "\n",
      "    compact\n",
      "\n",
      "Loading required package: Rcpp\n",
      "mice 2.25 2015-11-09\n",
      "Loading required package: foreach\n",
      "\n",
      "Attaching package: 'foreach'\n",
      "\n",
      "The following objects are masked from 'package:purrr':\n",
      "\n",
      "    accumulate, when\n",
      "\n",
      "Loading required package: iterators\n",
      "Loading required package: parallel\n"
     ]
    }
   ],
   "source": [
    "source(\"2-model_tests.R\")"
   ]
  },
  {
   "cell_type": "code",
   "execution_count": 3,
   "metadata": {
    "collapsed": true
   },
   "outputs": [],
   "source": [
    "models <- list(\"fda\", \"earth\")\n",
    "noTune <- list(tuneGrid = NULL)\n",
    "# nprune = 11, degree = 1\n",
    "marsGrid <- list(tuneGrid = expand.grid(.degree = 1:2, .nprune = 2:38))\n",
    "tune <- list(noTune, marsGrid)\n",
    "prep <- list(NULL)"
   ]
  },
  {
   "cell_type": "code",
   "execution_count": 2,
   "metadata": {
    "collapsed": true
   },
   "outputs": [],
   "source": [
    "vars <- hc.dv"
   ]
  },
  {
   "cell_type": "code",
   "execution_count": 6,
   "metadata": {
    "collapsed": false
   },
   "outputs": [
    {
     "name": "stderr",
     "output_type": "stream",
     "text": [
      "Loading required package: earth\n",
      "Loading required package: plotmo\n",
      "Loading required package: plotrix\n",
      "Loading required package: TeachingDemos\n",
      "Loading required package: mda\n",
      "Loading required package: class\n",
      "Loaded mda 0.4-8\n",
      "\n"
     ]
    }
   ],
   "source": [
    "mods1 <- run_models(train.dv, valid.dv, vars, models, tune, prep, trCtrl)"
   ]
  },
  {
   "cell_type": "code",
   "execution_count": 7,
   "metadata": {
    "collapsed": false,
    "scrolled": false
   },
   "outputs": [
    {
     "data": {
      "text/plain": [
       "$cl\n",
       "$fda\n",
       "Flexible Discriminant Analysis \n",
       "\n",
       "4455 samples\n",
       " 315 predictor\n",
       "   2 classes: 'Democrat', 'Republican' \n",
       "\n",
       "No pre-processing\n",
       "Resampling: Cross-Validated (10 fold, repeated 5 times) \n",
       "Summary of sample sizes: 4010, 4009, 4010, 4009, 4010, 4009, ... \n",
       "Resampling results across tuning parameters:\n",
       "\n",
       "  nprune  ROC        Sens       Spec     \n",
       "   2      0.4090097  0.2507402  0.9312404\n",
       "   8      0.6536742  0.7055367  0.5253092\n",
       "  14      0.6708258  0.6755510  0.5513898\n",
       "\n",
       "Tuning parameter 'degree' was held constant at a value of 1\n",
       "ROC was used to select the optimal model using  the largest value.\n",
       "The final values used for the model were degree = 1 and nprune = 14. \n",
       "\n",
       "$earth\n",
       "Multivariate Adaptive Regression Spline \n",
       "\n",
       "4455 samples\n",
       " 315 predictor\n",
       "   2 classes: 'Democrat', 'Republican' \n",
       "\n",
       "No pre-processing\n",
       "Resampling: Cross-Validated (10 fold, repeated 5 times) \n",
       "Summary of sample sizes: 4010, 4009, 4010, 4009, 4010, 4009, ... \n",
       "Resampling results across tuning parameters:\n",
       "\n",
       "  degree  nprune  ROC        Sens       Spec     \n",
       "  1        2      0.4090097  0.2507402  0.9312404\n",
       "  1        3      0.3607895  0.8708135  0.2884502\n",
       "  1        4      0.3667790  0.7715297  0.4387810\n",
       "  1        5      0.4465862  0.7616130  0.4600542\n",
       "  1        6      0.5711228  0.7620461  0.4713525\n",
       "  1        7      0.6300069  0.7340867  0.4942643\n",
       "  1        8      0.6484079  0.7092655  0.5226421\n",
       "  1        9      0.6667504  0.6880848  0.5462165\n",
       "  1       10      0.6674913  0.6829203  0.5521618\n",
       "  1       11      0.6727892  0.6848695  0.5513037\n",
       "  1       12      0.6721220  0.6806283  0.5492003\n",
       "  1       13      0.6712908  0.6785983  0.5512996\n",
       "  1       14      0.6711798  0.6763988  0.5540656\n",
       "  1       15      0.6707297  0.6719077  0.5534969\n",
       "  1       16      0.6697992  0.6680977  0.5563650\n",
       "  1       17      0.6697083  0.6714890  0.5576929\n",
       "  1       18      0.6692618  0.6673375  0.5575028\n",
       "  1       19      0.6687092  0.6643682  0.5607469\n",
       "  1       20      0.6684598  0.6620822  0.5606503\n",
       "  1       21      0.6686081  0.6616592  0.5603705\n",
       "  1       22      0.6685335  0.6625896  0.5599868\n",
       "  1       23      0.6687815  0.6627598  0.5601791\n",
       "  1       24      0.6685998  0.6620818  0.5600816\n",
       "  1       25      0.6685766  0.6620818  0.5597959\n",
       "  1       26      0.6685766  0.6620818  0.5597959\n",
       "  1       27      0.6685766  0.6620818  0.5597959\n",
       "  1       28      0.6685766  0.6620818  0.5597959\n",
       "  1       29      0.6685766  0.6620818  0.5597959\n",
       "  1       30      0.6685766  0.6620818  0.5597959\n",
       "  1       31      0.6685766  0.6620818  0.5597959\n",
       "  1       32      0.6685766  0.6620818  0.5597959\n",
       "  1       33      0.6685766  0.6620818  0.5597959\n",
       "  1       34      0.6685766  0.6620818  0.5597959\n",
       "  1       35      0.6685766  0.6620818  0.5597959\n",
       "  1       36      0.6685766  0.6620818  0.5597959\n",
       "  1       37      0.6685766  0.6620818  0.5597959\n",
       "  1       38      0.6685766  0.6620818  0.5597959\n",
       "  2        2      0.4090097  0.2507402  0.9312404\n",
       "  2        3      0.3614233  0.8712372  0.2862493\n",
       "  2        4      0.3624054  0.7771151  0.4245377\n",
       "  2        5      0.4349398  0.7510849  0.4353224\n",
       "  2        6      0.4673469  0.7489069  0.4475821\n",
       "  2        7      0.5006765  0.7336609  0.4663723\n",
       "  2        8      0.5224748  0.7248580  0.4685013\n",
       "  2        9      0.5463752  0.7043571  0.4929255\n",
       "  2       10      0.5713791  0.7040403  0.4946726\n",
       "  2       11      0.5919749  0.6999567  0.4985778\n",
       "  2       12      0.6036620  0.6930226  0.5026867\n",
       "  2       13      0.6146788  0.6911560  0.5009815\n",
       "  2       14      0.6276786  0.6827676  0.5192112\n",
       "  2       15      0.6209931  0.6879293  0.5096528\n",
       "  2       16      0.6340664  0.6843721  0.5148166\n",
       "  2       17      0.6405210  0.6836097  0.5145322\n",
       "  2       18      0.6465421  0.6822492  0.5165318\n",
       "  2       19      0.6508783  0.6806386  0.5217817\n",
       "  2       20      0.6546381  0.6824197  0.5194960\n",
       "  2       21      0.6506315  0.6762379  0.5257936\n",
       "  2       22      0.6525362  0.6769145  0.5239786\n",
       "  2       23      0.6527430  0.6714900  0.5292231\n",
       "  2       24      0.6527612  0.6748784  0.5257867\n",
       "  2       25      0.6526752  0.6698816  0.5291306\n",
       "  2       26      0.6519404  0.6672524  0.5289506\n",
       "  2       27      0.6521441  0.6670003  0.5311542\n",
       "  2       28      0.6507609  0.6627669  0.5343855\n",
       "  2       29      0.6510914  0.6672599  0.5315334\n",
       "  2       30      0.6505089  0.6642945  0.5336282\n",
       "  2       31      0.6493590  0.6629346  0.5361103\n",
       "  2       32      0.6494707  0.6648845  0.5330558\n",
       "  2       33      0.6479293  0.6606486  0.5338145\n",
       "  2       34      0.6482016  0.6608185  0.5344794\n",
       "  2       35      0.6474422  0.6589516  0.5341016\n",
       "  2       36      0.6468145  0.6615762  0.5310463\n",
       "  2       37      0.6462580  0.6615741  0.5295120\n",
       "  2       38      0.6465456  0.6590320  0.5330504\n",
       "\n",
       "ROC was used to select the optimal model using  the largest value.\n",
       "The final values used for the model were nprune = 11 and degree = 1. \n",
       "\n",
       "attr(,\"class\")\n",
       "[1] \"caretList\"\n",
       "\n",
       "$cm\n",
       "$cm$fda\n",
       "Confusion Matrix and Statistics\n",
       "\n",
       "            Reference\n",
       "Prediction   Democrat Republican\n",
       "  Democrat        405        219\n",
       "  Republican      185        304\n",
       "                                         \n",
       "               Accuracy : 0.637          \n",
       "                 95% CI : (0.608, 0.6653)\n",
       "    No Information Rate : 0.5301         \n",
       "    P-Value [Acc > NIR] : 3.621e-13      \n",
       "                                         \n",
       "                  Kappa : 0.2687         \n",
       " Mcnemar's Test P-Value : 0.1006         \n",
       "                                         \n",
       "            Sensitivity : 0.6864         \n",
       "            Specificity : 0.5813         \n",
       "         Pos Pred Value : 0.6490         \n",
       "         Neg Pred Value : 0.6217         \n",
       "             Prevalence : 0.5301         \n",
       "         Detection Rate : 0.3639         \n",
       "   Detection Prevalence : 0.5606         \n",
       "      Balanced Accuracy : 0.6339         \n",
       "                                         \n",
       "       'Positive' Class : Democrat       \n",
       "                                         \n",
       "\n",
       "$cm$earth\n",
       "Confusion Matrix and Statistics\n",
       "\n",
       "            Reference\n",
       "Prediction   Democrat Republican\n",
       "  Democrat        399        219\n",
       "  Republican      191        304\n",
       "                                        \n",
       "               Accuracy : 0.6316        \n",
       "                 95% CI : (0.6025, 0.66)\n",
       "    No Information Rate : 0.5301        \n",
       "    P-Value [Acc > NIR] : 4.974e-12     \n",
       "                                        \n",
       "                  Kappa : 0.2583        \n",
       " Mcnemar's Test P-Value : 0.1824        \n",
       "                                        \n",
       "            Sensitivity : 0.6763        \n",
       "            Specificity : 0.5813        \n",
       "         Pos Pred Value : 0.6456        \n",
       "         Neg Pred Value : 0.6141        \n",
       "             Prevalence : 0.5301        \n",
       "         Detection Rate : 0.3585        \n",
       "   Detection Prevalence : 0.5553        \n",
       "      Balanced Accuracy : 0.6288        \n",
       "                                        \n",
       "       'Positive' Class : Democrat      \n",
       "                                        \n",
       "\n"
      ]
     },
     "metadata": {},
     "output_type": "display_data"
    }
   ],
   "source": [
    "mods1"
   ]
  },
  {
   "cell_type": "code",
   "execution_count": 4,
   "metadata": {
    "collapsed": false
   },
   "outputs": [
    {
     "name": "stderr",
     "output_type": "stream",
     "text": [
      "\n",
      "Attaching package: 'kernlab'\n",
      "\n",
      "The following object is masked from 'package:ggplot2':\n",
      "\n",
      "    alpha\n",
      "\n"
     ]
    }
   ],
   "source": [
    "models <- list(\"svmRadial\")\n",
    "library(kernlab)\n",
    "sigmaRangeReduced <- sigest(as.matrix(train.dv[, -c(1, vars)]))\n",
    "svmGrid <- list(tuneGrid = expand.grid(.sigma = sigmaRangeReduced, .C = 2^(seq(-4, 4))))\n",
    "tune <- list(svmGrid)\n",
    "prep <- list(list(c(\"center\", \"scale\")))"
   ]
  },
  {
   "cell_type": "code",
   "execution_count": null,
   "metadata": {
    "collapsed": false
   },
   "outputs": [
    {
     "name": "stderr",
     "output_type": "stream",
     "text": [
      "Loading required package: caretEnsemble\n",
      "\n",
      "Attaching package: 'caretEnsemble'\n",
      "\n",
      "The following object is masked from 'package:ggplot2':\n",
      "\n",
      "    autoplot\n",
      "\n"
     ]
    }
   ],
   "source": [
    "mods2 <- run_models(train.dv, valid.dv, vars, models, tune, prep, trCtrl, fit = FALSE)\n",
    "mods2"
   ]
  },
  {
   "cell_type": "code",
   "execution_count": null,
   "metadata": {
    "collapsed": true
   },
   "outputs": [],
   "source": [
    "models <- list(\"knn\")\n",
    "knnGrid <- list(tuneGrid = data.frame(.k = c(4 * (0:5) +1, 20 * (1:5) + 1, 50 * (2:9) + 1)))\n",
    "tune <- list(knnGrid)"
   ]
  },
  {
   "cell_type": "code",
   "execution_count": null,
   "metadata": {
    "collapsed": true
   },
   "outputs": [],
   "source": [
    "mods3 <- run_models(train.dv, valid.dv, vars, models, tune, prep, trCtrl)\n",
    "mods3"
   ]
  },
  {
   "cell_type": "code",
   "execution_count": null,
   "metadata": {
    "collapsed": true
   },
   "outputs": [],
   "source": [
    "models <- list(\"nb\")\n",
    "nbGrid <- list(tuneGrid = expand.grid(.fL = c(0, 2), .userkernal = c(TRUE, FALSE), .adjust = 1))\n",
    "vars <- NULL"
   ]
  },
  {
   "cell_type": "code",
   "execution_count": null,
   "metadata": {
    "collapsed": true
   },
   "outputs": [],
   "source": [
    "mods4 <- run_models(train.set, valid.set, vars, models, tune, prep, trCtrl)\n",
    "mods4"
   ]
  },
  {
   "cell_type": "code",
   "execution_count": null,
   "metadata": {
    "collapsed": true
   },
   "outputs": [],
   "source": [
    "models <- list(\"nnet\")\n",
    "# nnetGrid <- list(tuneGrid = expand.grid(.size = 1:10, .decay = c(0, 0.1, 1, 2)))\n",
    "# previous model found size = 1 and decay = 2 produced best fit\n",
    "nnetGrid <- list(tuneGrid = expand.grid(.size = 1, .decay = 2))\n",
    "tune <- list(nnetGrid)\n",
    "prep <- list(list(c(\"center\", \"scale\", \"spatialSign\")))\n",
    "maxSize <- max(nnetGrid$tuneGrid$.size)\n",
    "numWts <- 1 * (maxSize * (length(train.dv[, -c(1, vars)]) + 1) + maxSize + 1)\n",
    "mods5 <- run_models(train.dv, valid.dv, vars, models, tune, prep, trCtrl, trace = FALSE, maxit = 2000, MaxNWts = numWts)\n",
    "mods5"
   ]
  }
 ],
 "metadata": {
  "kernelspec": {
   "display_name": "R",
   "language": "R",
   "name": "ir"
  },
  "language_info": {
   "codemirror_mode": "r",
   "file_extension": ".r",
   "mimetype": "text/x-r-source",
   "name": "R",
   "pygments_lexer": "r",
   "version": "3.3.0"
  }
 },
 "nbformat": 4,
 "nbformat_minor": 0
}
