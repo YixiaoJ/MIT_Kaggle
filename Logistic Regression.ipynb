{
 "cells": [
  {
   "cell_type": "code",
   "execution_count": 1,
   "metadata": {
    "collapsed": false
   },
   "outputs": [
    {
     "name": "stderr",
     "output_type": "stream",
     "text": [
      "\n",
      "Attaching package: 'dplyr'\n",
      "\n",
      "The following objects are masked from 'package:plyr':\n",
      "\n",
      "    arrange, count, desc, failwith, id, mutate, rename, summarise,\n",
      "    summarize\n",
      "\n",
      "The following objects are masked from 'package:stats':\n",
      "\n",
      "    filter, lag\n",
      "\n",
      "The following objects are masked from 'package:base':\n",
      "\n",
      "    intersect, setdiff, setequal, union\n",
      "\n",
      "\n",
      "Attaching package: 'tibble'\n",
      "\n",
      "The following objects are masked from 'package:dplyr':\n",
      "\n",
      "    as_data_frame, data_frame, data_frame_, frame_data, glimpse,\n",
      "    knit_print.trunc_mat, tibble, trunc_mat, type_sum\n",
      "\n",
      "Loading required package: lattice\n",
      "Loading required package: ggplot2\n",
      "\n",
      "Attaching package: 'purrr'\n",
      "\n",
      "The following object is masked from 'package:caret':\n",
      "\n",
      "    lift\n",
      "\n",
      "The following object is masked from 'package:dplyr':\n",
      "\n",
      "    order_by\n",
      "\n",
      "The following object is masked from 'package:plyr':\n",
      "\n",
      "    compact\n",
      "\n",
      "Loading required package: foreach\n",
      "\n",
      "Attaching package: 'foreach'\n",
      "\n",
      "The following objects are masked from 'package:purrr':\n",
      "\n",
      "    accumulate, when\n",
      "\n",
      "Loading required package: iterators\n",
      "Loading required package: parallel\n"
     ]
    }
   ],
   "source": [
    "source(\"2-model_tests.R\")"
   ]
  },
  {
   "cell_type": "code",
   "execution_count": 2,
   "metadata": {
    "collapsed": true
   },
   "outputs": [],
   "source": [
    "set.seed(1056)\n",
    "glm1 <- train(x = train.set[, -1], y = train.party, method = \"glm\", trControl = trCtrl, metric = \"ROC\",\n",
    "              preProcess = \"knnImpute\")"
   ]
  },
  {
   "cell_type": "code",
   "execution_count": 3,
   "metadata": {
    "collapsed": true
   },
   "outputs": [],
   "source": [
    "pred.glm1 <- predict(glm1, newdata = valid.set[, -1], na.action = na.pass)\n",
    "cm.glm1 <- confusionMatrix(pred.glm1, valid.party)"
   ]
  },
  {
   "cell_type": "code",
   "execution_count": 4,
   "metadata": {
    "collapsed": false
   },
   "outputs": [
    {
     "name": "stderr",
     "output_type": "stream",
     "text": [
      "Warning message:\n",
      "In gsub(\"knnImpute\", paste(x$k, \"nearest neighbor imputation\"), : argument 'replacement' has length > 1 and only the first element will be usedWarning message:\n",
      "In gsub(\"knnImpute\", paste(x$k, \"nearest neighbor imputation\"), : argument 'replacement' has length > 1 and only the first element will be used"
     ]
    },
    {
     "data": {
      "text/plain": [
       "Generalized Linear Model \n",
       "\n",
       "4455 samples\n",
       " 106 predictor\n",
       "   2 classes: 'Democrat', 'Republican' \n",
       "\n",
       "Pre-processing: YOB nearest neighbor imputation (106), centered (106),\n",
       " scaled (106) \n",
       "Resampling: Cross-Validated (10 fold, repeated 5 times) \n",
       "Summary of sample sizes: 4010, 4010, 4009, 4009, 4010, 4010, ... \n",
       "Resampling results:\n",
       "\n",
       "  ROC        Sens       Spec     \n",
       "  0.6645803  0.6430147  0.5783117\n",
       "\n",
       " "
      ]
     },
     "metadata": {},
     "output_type": "display_data"
    }
   ],
   "source": [
    "glm1"
   ]
  },
  {
   "cell_type": "code",
   "execution_count": 5,
   "metadata": {
    "collapsed": false
   },
   "outputs": [
    {
     "data": {
      "text/plain": [
       "Confusion Matrix and Statistics\n",
       "\n",
       "            Reference\n",
       "Prediction   Democrat Republican\n",
       "  Democrat        364        195\n",
       "  Republican      226        328\n",
       "                                          \n",
       "               Accuracy : 0.6217          \n",
       "                 95% CI : (0.5925, 0.6503)\n",
       "    No Information Rate : 0.5301          \n",
       "    P-Value [Acc > NIR] : 4.258e-10       \n",
       "                                          \n",
       "                  Kappa : 0.2433          \n",
       " Mcnemar's Test P-Value : 0.1437          \n",
       "                                          \n",
       "            Sensitivity : 0.6169          \n",
       "            Specificity : 0.6272          \n",
       "         Pos Pred Value : 0.6512          \n",
       "         Neg Pred Value : 0.5921          \n",
       "             Prevalence : 0.5301          \n",
       "         Detection Rate : 0.3270          \n",
       "   Detection Prevalence : 0.5022          \n",
       "      Balanced Accuracy : 0.6221          \n",
       "                                          \n",
       "       'Positive' Class : Democrat        \n",
       "                                          "
      ]
     },
     "metadata": {},
     "output_type": "display_data"
    }
   ],
   "source": [
    "cm.glm1"
   ]
  },
  {
   "cell_type": "code",
   "execution_count": 6,
   "metadata": {
    "collapsed": true
   },
   "outputs": [],
   "source": [
    "set.seed(1056)\n",
    "glm2 <- train(x = train.dv[, -1], y = train.party, method = \"glm\", trControl = trCtrl, metric = \"ROC\",\n",
    "              preProcess = \"knnImpute\")"
   ]
  },
  {
   "cell_type": "code",
   "execution_count": 8,
   "metadata": {
    "collapsed": false
   },
   "outputs": [
    {
     "name": "stderr",
     "output_type": "stream",
     "text": [
      "Warning message:\n",
      "In predict.lm(object, newdata, se.fit, scale = 1, type = ifelse(type == : prediction from a rank-deficient fit may be misleading"
     ]
    }
   ],
   "source": [
    "pred.glm2 <- predict(glm2, newdata = valid.dv[, -1], na.action = na.pass)\n",
    "cm.glm2 <- confusionMatrix(pred.glm2, valid.party)"
   ]
  },
  {
   "cell_type": "code",
   "execution_count": 9,
   "metadata": {
    "collapsed": false
   },
   "outputs": [
    {
     "name": "stderr",
     "output_type": "stream",
     "text": [
      "Warning message:\n",
      "In gsub(\"knnImpute\", paste(x$k, \"nearest neighbor imputation\"), : argument 'replacement' has length > 1 and only the first element will be usedWarning message:\n",
      "In gsub(\"knnImpute\", paste(x$k, \"nearest neighbor imputation\"), : argument 'replacement' has length > 1 and only the first element will be used"
     ]
    },
    {
     "data": {
      "text/plain": [
       "Generalized Linear Model \n",
       "\n",
       "4455 samples\n",
       " 224 predictor\n",
       "   2 classes: 'Democrat', 'Republican' \n",
       "\n",
       "Pre-processing: YOB nearest neighbor imputation (224), centered (224),\n",
       " scaled (224) \n",
       "Resampling: Cross-Validated (10 fold, repeated 5 times) \n",
       "Summary of sample sizes: 4010, 4010, 4009, 4009, 4010, 4010, ... \n",
       "Resampling results:\n",
       "\n",
       "  ROC        Sens      Spec     \n",
       "  0.6642753  0.647424  0.5806229\n",
       "\n",
       " "
      ]
     },
     "metadata": {},
     "output_type": "display_data"
    }
   ],
   "source": [
    "glm2"
   ]
  },
  {
   "cell_type": "code",
   "execution_count": 10,
   "metadata": {
    "collapsed": false
   },
   "outputs": [
    {
     "data": {
      "text/plain": [
       "Confusion Matrix and Statistics\n",
       "\n",
       "            Reference\n",
       "Prediction   Democrat Republican\n",
       "  Democrat        373        199\n",
       "  Republican      217        324\n",
       "                                          \n",
       "               Accuracy : 0.6262          \n",
       "                 95% CI : (0.5971, 0.6547)\n",
       "    No Information Rate : 0.5301          \n",
       "    P-Value [Acc > NIR] : 5.961e-11       \n",
       "                                          \n",
       "                  Kappa : 0.2512          \n",
       " Mcnemar's Test P-Value : 0.4046          \n",
       "                                          \n",
       "            Sensitivity : 0.6322          \n",
       "            Specificity : 0.6195          \n",
       "         Pos Pred Value : 0.6521          \n",
       "         Neg Pred Value : 0.5989          \n",
       "             Prevalence : 0.5301          \n",
       "         Detection Rate : 0.3351          \n",
       "   Detection Prevalence : 0.5139          \n",
       "      Balanced Accuracy : 0.6259          \n",
       "                                          \n",
       "       'Positive' Class : Democrat        \n",
       "                                          "
      ]
     },
     "metadata": {},
     "output_type": "display_data"
    }
   ],
   "source": [
    "cm.glm2"
   ]
  },
  {
   "cell_type": "code",
   "execution_count": 11,
   "metadata": {
    "collapsed": true
   },
   "outputs": [],
   "source": [
    "set.seed(1056)\n",
    "glm3 <- train(x = train.hc[, -1], y = train.party, method = \"glm\", trControl = trCtrl, metric = \"ROC\",\n",
    "              preProcess = c(\"nzv\", \"knnImpute\"))"
   ]
  },
  {
   "cell_type": "code",
   "execution_count": 12,
   "metadata": {
    "collapsed": false
   },
   "outputs": [
    {
     "name": "stderr",
     "output_type": "stream",
     "text": [
      "Warning message:\n",
      "In predict.lm(object, newdata, se.fit, scale = 1, type = ifelse(type == : prediction from a rank-deficient fit may be misleading"
     ]
    }
   ],
   "source": [
    "pred.glm3 <- predict(glm3, newdata = valid.hc[, -1], na.action = na.pass)\n",
    "cm.glm3 <- confusionMatrix(pred.glm3, valid.party)"
   ]
  },
  {
   "cell_type": "code",
   "execution_count": 13,
   "metadata": {
    "collapsed": false
   },
   "outputs": [
    {
     "name": "stderr",
     "output_type": "stream",
     "text": [
      "Warning message:\n",
      "In gsub(\"knnImpute\", paste(x$k, \"nearest neighbor imputation\"), : argument 'replacement' has length > 1 and only the first element will be usedWarning message:\n",
      "In gsub(\"knnImpute\", paste(x$k, \"nearest neighbor imputation\"), : argument 'replacement' has length > 1 and only the first element will be used"
     ]
    },
    {
     "data": {
      "text/plain": [
       "Generalized Linear Model \n",
       "\n",
       "4455 samples\n",
       " 122 predictor\n",
       "   2 classes: 'Democrat', 'Republican' \n",
       "\n",
       "Pre-processing: YOB nearest neighbor imputation (118), centered (118),\n",
       " scaled (118), remove (4) \n",
       "Resampling: Cross-Validated (10 fold, repeated 5 times) \n",
       "Summary of sample sizes: 4010, 4010, 4009, 4009, 4010, 4010, ... \n",
       "Resampling results:\n",
       "\n",
       "  ROC       Sens       Spec    \n",
       "  0.664667  0.6463234  0.580812\n",
       "\n",
       " "
      ]
     },
     "metadata": {},
     "output_type": "display_data"
    }
   ],
   "source": [
    "glm3"
   ]
  },
  {
   "cell_type": "code",
   "execution_count": 14,
   "metadata": {
    "collapsed": false
   },
   "outputs": [
    {
     "data": {
      "text/plain": [
       "Confusion Matrix and Statistics\n",
       "\n",
       "            Reference\n",
       "Prediction   Democrat Republican\n",
       "  Democrat        384        193\n",
       "  Republican      206        330\n",
       "                                          \n",
       "               Accuracy : 0.6415          \n",
       "                 95% CI : (0.6125, 0.6697)\n",
       "    No Information Rate : 0.5301          \n",
       "    P-Value [Acc > NIR] : 3.674e-14       \n",
       "                                          \n",
       "                  Kappa : 0.2814          \n",
       " Mcnemar's Test P-Value : 0.548           \n",
       "                                          \n",
       "            Sensitivity : 0.6508          \n",
       "            Specificity : 0.6310          \n",
       "         Pos Pred Value : 0.6655          \n",
       "         Neg Pred Value : 0.6157          \n",
       "             Prevalence : 0.5301          \n",
       "         Detection Rate : 0.3450          \n",
       "   Detection Prevalence : 0.5184          \n",
       "      Balanced Accuracy : 0.6409          \n",
       "                                          \n",
       "       'Positive' Class : Democrat        \n",
       "                                          "
      ]
     },
     "metadata": {},
     "output_type": "display_data"
    }
   ],
   "source": [
    "cm.glm3"
   ]
  },
  {
   "cell_type": "code",
   "execution_count": null,
   "metadata": {
    "collapsed": true
   },
   "outputs": [],
   "source": [
    "set.seed(1056)\n",
    "glm4 <- train(x = train.dv2[, -1], y = train.party, method = \"glm\", trControl = trCtrl, metric = \"ROC\",\n",
    "              preProcess = c(\"nzv\", \"knnImpute\"))"
   ]
  },
  {
   "cell_type": "code",
   "execution_count": null,
   "metadata": {
    "collapsed": true
   },
   "outputs": [],
   "source": [
    "pred.glm4 <- predict(glm4, newdata = valid.dv2[, -1], na.action = na.pass)\n",
    "cm.glm4 <- confusionMatrix(pred.glm4, valid.party)"
   ]
  },
  {
   "cell_type": "code",
   "execution_count": null,
   "metadata": {
    "collapsed": true
   },
   "outputs": [],
   "source": [
    "glm4"
   ]
  },
  {
   "cell_type": "code",
   "execution_count": null,
   "metadata": {
    "collapsed": true
   },
   "outputs": [],
   "source": [
    "cm.glm4"
   ]
  },
  {
   "cell_type": "code",
   "execution_count": null,
   "metadata": {
    "collapsed": true
   },
   "outputs": [],
   "source": [
    "set.seed(1056)\n",
    "glm5 <- train(x = train.hc2[, -1], y = train.party, method = \"glm\", trControl = trCtrl, metric = \"ROC\",\n",
    "              preProcess = c(\"nzv\", \"knnImpute\"))"
   ]
  },
  {
   "cell_type": "code",
   "execution_count": null,
   "metadata": {
    "collapsed": true
   },
   "outputs": [],
   "source": [
    "pred.glm5 <- predict(glm5, newdata = valid.hc2[, -1], na.action = na.pass)\n",
    "cm.glm5 <- confusionMatrix(pred.glm5, valid.party)"
   ]
  },
  {
   "cell_type": "code",
   "execution_count": null,
   "metadata": {
    "collapsed": true
   },
   "outputs": [],
   "source": [
    "glm5"
   ]
  },
  {
   "cell_type": "code",
   "execution_count": null,
   "metadata": {
    "collapsed": true
   },
   "outputs": [],
   "source": [
    "cm.glm5"
   ]
  },
  {
   "cell_type": "code",
   "execution_count": null,
   "metadata": {
    "collapsed": true
   },
   "outputs": [],
   "source": [
    "set.seed(1056)\n",
    "glm6 <- train(x = train.lc[, -1], y = train.party, method = \"glm\", trControl = trCtrl, metric = \"ROC\",\n",
    "              preProcess = c(\"nzv\", \"knnImpute\"))"
   ]
  },
  {
   "cell_type": "code",
   "execution_count": null,
   "metadata": {
    "collapsed": true
   },
   "outputs": [],
   "source": [
    "pred.glm6 <- predict(glm6, newdata = valid.lc[, -1], na.action = na.pass)\n",
    "cm.glm6 <- confusionMatrix(pred.glm6, valid.party)"
   ]
  },
  {
   "cell_type": "code",
   "execution_count": null,
   "metadata": {
    "collapsed": true
   },
   "outputs": [],
   "source": [
    "glm6"
   ]
  },
  {
   "cell_type": "code",
   "execution_count": null,
   "metadata": {
    "collapsed": true
   },
   "outputs": [],
   "source": [
    "cm.glm6"
   ]
  },
  {
   "cell_type": "markdown",
   "metadata": {},
   "source": [
    "### Penalized Models"
   ]
  },
  {
   "cell_type": "code",
   "execution_count": null,
   "metadata": {
    "collapsed": true
   },
   "outputs": [],
   "source": [
    "glmnGrid <- expand.grid(.alpha = c(0, 0.1, 0.2, 0.4, 0.6, 0.8, 1), .lambda = seq(0.1, 0.2, length = 40))"
   ]
  },
  {
   "cell_type": "code",
   "execution_count": null,
   "metadata": {
    "collapsed": true
   },
   "outputs": [],
   "source": [
    "set.seed(1056)\n",
    "glmnet1 <- train(x = train.set[, -1], y = train.party, method = \"glmnet\", trControl = trCtrl, metric = \"ROC\",\n",
    "              preProcess = c(\"nzv\", \"knnImpute\"), tuneGrid = glmnGrid)"
   ]
  },
  {
   "cell_type": "code",
   "execution_count": null,
   "metadata": {
    "collapsed": true
   },
   "outputs": [],
   "source": [
    "pred.glmnet1 <- predict(glm6, newdata = valid.lc[, -1], na.action = na.pass)\n",
    "cm.glm6 <- confusionMatrix(pred.glm6, valid.party)\n",
    "\n",
    "run_pred <- function(model, data) {\n",
    "    predict(model, newdata = data[, -1], na.action = na.pass)\n",
    "}\n",
    "\n",
    "run_cm <- function(pred) {\n",
    "    confusionMatrix(pred, valid.party)\n",
    "}"
   ]
  },
  {
   "cell_type": "code",
   "execution_count": null,
   "metadata": {
    "collapsed": true
   },
   "outputs": [],
   "source": [
    "pred.glmnet1 <- run_pred(glmnet1, train.set)"
   ]
  },
  {
   "cell_type": "code",
   "execution_count": null,
   "metadata": {
    "collapsed": true
   },
   "outputs": [],
   "source": [
    "cm.glmnet1 <- run_cm(pred.glmnet1)"
   ]
  },
  {
   "cell_type": "code",
   "execution_count": null,
   "metadata": {
    "collapsed": true
   },
   "outputs": [],
   "source": [
    "set.seed(1056)\n",
    "glmnet2 <- train(x = train.dv[, -1], y = train.party, method = \"glmnet\", trControl = trCtrl, metric = \"ROC\",\n",
    "              preProcess = c(\"nzv\", \"knnImpute\"), tuneGrid = glmnGrid)"
   ]
  },
  {
   "cell_type": "code",
   "execution_count": null,
   "metadata": {
    "collapsed": true
   },
   "outputs": [],
   "source": [
    "set.seed(1056)\n",
    "glmnet3 <- train(x = train.hc[, -1], y = train.party, method = \"glmnet\", trControl = trCtrl, metric = \"ROC\",\n",
    "              preProcess = c(\"nzv\", \"knnImpute\"), tuneGrid = glmnGrid)"
   ]
  },
  {
   "cell_type": "code",
   "execution_count": null,
   "metadata": {
    "collapsed": true
   },
   "outputs": [],
   "source": [
    "set.seed(1056)\n",
    "glmnet4 <- train(x = train.dv2[, -1], y = train.party, method = \"glmnet\", trControl = trCtrl, metric = \"ROC\",\n",
    "              preProcess = c(\"nzv\", \"knnImpute\"), tuneGrid = glmnGrid)"
   ]
  },
  {
   "cell_type": "code",
   "execution_count": null,
   "metadata": {
    "collapsed": true
   },
   "outputs": [],
   "source": [
    "set.seed(1056)\n",
    "glmnet5 <- train(x = train.hc2[, -1], y = train.party, method = \"glmnet\", trControl = trCtrl, metric = \"ROC\",\n",
    "              preProcess = c(\"nzv\", \"knnImpute\"), tuneGrid = glmnGrid)"
   ]
  },
  {
   "cell_type": "code",
   "execution_count": null,
   "metadata": {
    "collapsed": true
   },
   "outputs": [],
   "source": [
    "set.seed(1056)\n",
    "glmnet6 <- train(x = train.lc[, -1], y = train.party, method = \"glmnet\", trControl = trCtrl, metric = \"ROC\",\n",
    "              preProcess = c(\"nzv\", \"knnImpute\"), tuneGrid = glmnGrid)"
   ]
  }
 ],
 "metadata": {
  "kernelspec": {
   "display_name": "R",
   "language": "R",
   "name": "ir"
  },
  "language_info": {
   "codemirror_mode": "r",
   "file_extension": ".r",
   "mimetype": "text/x-r-source",
   "name": "R",
   "pygments_lexer": "r",
   "version": "3.3.0"
  }
 },
 "nbformat": 4,
 "nbformat_minor": 0
}
