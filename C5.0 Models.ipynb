{
 "cells": [
  {
   "cell_type": "code",
   "execution_count": 21,
   "metadata": {
    "collapsed": false
   },
   "outputs": [],
   "source": [
    "source(\"1-data_sets.R\")"
   ]
  },
  {
   "cell_type": "code",
   "execution_count": 2,
   "metadata": {
    "collapsed": false
   },
   "outputs": [],
   "source": [
    "set.seed(123)\n",
    "seeds <- vector(mode = \"list\", length = 51)\n",
    "for(i in 1:50) seeds[[i]] <- sample.int(1000, 22)\n",
    "\n",
    "seeds[[51]] <- sample.int(1000, 1)"
   ]
  },
  {
   "cell_type": "code",
   "execution_count": 15,
   "metadata": {
    "collapsed": true
   },
   "outputs": [],
   "source": [
    "trCtrl <- trainControl(method = \"repeatedcv\", repeats = 5, seeds = seeds, classProbs = TRUE, returnResamp = \"final\", \n",
    "                       summaryFunction = twoClassSummary)"
   ]
  },
  {
   "cell_type": "code",
   "execution_count": 4,
   "metadata": {
    "collapsed": false
   },
   "outputs": [
    {
     "name": "stderr",
     "output_type": "stream",
     "text": [
      "Loading required package: foreach\n",
      "\n",
      "Attaching package: 'foreach'\n",
      "\n",
      "The following objects are masked from 'package:purrr':\n",
      "\n",
      "    accumulate, when\n",
      "\n",
      "Loading required package: iterators\n",
      "Loading required package: parallel\n"
     ]
    }
   ],
   "source": [
    "library(doParallel)\n",
    "registerDoParallel()"
   ]
  },
  {
   "cell_type": "code",
   "execution_count": 16,
   "metadata": {
    "collapsed": false
   },
   "outputs": [
    {
     "name": "stderr",
     "output_type": "stream",
     "text": [
      "Warning message:\n",
      "In train.default(x, y, weights = w, ...): The metric \"Accuracy\" was not in the result set. ROC will be used instead."
     ]
    }
   ],
   "source": [
    "set.seed(1056)\n",
    "c501 <- train(Party ~ ., data = train.data[, -1], method = \"C5.0\", trControl = trCtrl, na.action = na.pass)"
   ]
  },
  {
   "cell_type": "code",
   "execution_count": 17,
   "metadata": {
    "collapsed": false
   },
   "outputs": [],
   "source": [
    "pred.c501 <- predict(c501, newdata = valid.data[, -1], na.action = na.pass)\n",
    "cm.c501 <- confusionMatrix(pred.c501, valid.party)"
   ]
  },
  {
   "cell_type": "code",
   "execution_count": 18,
   "metadata": {
    "collapsed": false
   },
   "outputs": [
    {
     "data": {
      "text/plain": [
       "C5.0 \n",
       "\n",
       "4455 samples\n",
       " 106 predictor\n",
       "   2 classes: 'Democrat', 'Republican' \n",
       "\n",
       "No pre-processing\n",
       "Resampling: Cross-Validated (10 fold, repeated 5 times) \n",
       "Summary of sample sizes: 4010, 4010, 4009, 4009, 4010, 4010, ... \n",
       "Resampling results across tuning parameters:\n",
       "\n",
       "  model  winnow  trials  ROC        Sens       Spec     \n",
       "  rules  FALSE    1      0.5194787  0.7926253  0.4065081\n",
       "  rules  FALSE   10      0.6435077  0.7622978  0.4449952\n",
       "  rules  FALSE   20      0.6608317  0.7461349  0.4655306\n",
       "  rules   TRUE    1      0.5189793  0.7914389  0.4059398\n",
       "  rules   TRUE   10      0.6417477  0.7587406  0.4522529\n",
       "  rules   TRUE   20      0.6470347  0.7430702  0.4732768\n",
       "  tree   FALSE    1      0.6243130  0.7522188  0.4715543\n",
       "  tree   FALSE   10      0.6387190  0.6831849  0.5284707\n",
       "  tree   FALSE   20      0.6388677  0.6833544  0.5286612\n",
       "  tree    TRUE    1      0.6414001  0.7506933  0.4717480\n",
       "  tree    TRUE   10      0.6402312  0.6816531  0.5333333\n",
       "  tree    TRUE   20      0.6402312  0.6816531  0.5333333\n",
       "\n",
       "ROC was used to select the optimal model using  the largest value.\n",
       "The final values used for the model were trials = 20, model = rules and\n",
       " winnow = FALSE. "
      ]
     },
     "metadata": {},
     "output_type": "display_data"
    }
   ],
   "source": [
    "c501"
   ]
  },
  {
   "cell_type": "code",
   "execution_count": 19,
   "metadata": {
    "collapsed": false
   },
   "outputs": [
    {
     "data": {
      "text/plain": [
       "Confusion Matrix and Statistics\n",
       "\n",
       "            Reference\n",
       "Prediction   Democrat Republican\n",
       "  Democrat        434        246\n",
       "  Republican      156        277\n",
       "                                          \n",
       "               Accuracy : 0.6388          \n",
       "                 95% CI : (0.6098, 0.6671)\n",
       "    No Information Rate : 0.5301          \n",
       "    P-Value [Acc > NIR] : 1.467e-13       \n",
       "                                          \n",
       "                  Kappa : 0.2678          \n",
       " Mcnemar's Test P-Value : 9.041e-06       \n",
       "                                          \n",
       "            Sensitivity : 0.7356          \n",
       "            Specificity : 0.5296          \n",
       "         Pos Pred Value : 0.6382          \n",
       "         Neg Pred Value : 0.6397          \n",
       "             Prevalence : 0.5301          \n",
       "         Detection Rate : 0.3899          \n",
       "   Detection Prevalence : 0.6110          \n",
       "      Balanced Accuracy : 0.6326          \n",
       "                                          \n",
       "       'Positive' Class : Democrat        \n",
       "                                          "
      ]
     },
     "metadata": {},
     "output_type": "display_data"
    }
   ],
   "source": [
    "cm.c501"
   ]
  },
  {
   "cell_type": "markdown",
   "metadata": {},
   "source": [
    "#### Notes on C5.0 models\n",
    "\n",
    "* C5.0 can handle missing data\n",
    "* C5.0 produces the same results with factor or numeric data or dummy vars\n",
    "* Using TwoClassSummary (ROC score) improved accuracy"
   ]
  },
  {
   "cell_type": "code",
   "execution_count": 22,
   "metadata": {
    "collapsed": false
   },
   "outputs": [
    {
     "name": "stderr",
     "output_type": "stream",
     "text": [
      "Warning message:\n",
      "In train.default(x = train.set[, -1], y = train.party, method = \"C5.0\", : The metric \"Accuracy\" was not in the result set. ROC will be used instead."
     ]
    }
   ],
   "source": [
    "set.seed(1056)\n",
    "c502 <- train(x = train.set[, -1], y = train.party, method = \"C5.0\", trControl = trCtrl, preProcess = \"knnImpute\")"
   ]
  },
  {
   "cell_type": "code",
   "execution_count": 23,
   "metadata": {
    "collapsed": true
   },
   "outputs": [],
   "source": [
    "pred.c502 <- predict(c502, newdata = valid.set[, -1], na.action = na.pass)\n",
    "cm.c502 <- confusionMatrix(pred.c502, valid.party)"
   ]
  },
  {
   "cell_type": "code",
   "execution_count": 24,
   "metadata": {
    "collapsed": false
   },
   "outputs": [
    {
     "name": "stderr",
     "output_type": "stream",
     "text": [
      "Warning message:\n",
      "In gsub(\"knnImpute\", paste(x$k, \"nearest neighbor imputation\"), : argument 'replacement' has length > 1 and only the first element will be usedWarning message:\n",
      "In gsub(\"knnImpute\", paste(x$k, \"nearest neighbor imputation\"), : argument 'replacement' has length > 1 and only the first element will be used"
     ]
    },
    {
     "data": {
      "text/plain": [
       "C5.0 \n",
       "\n",
       "4455 samples\n",
       " 106 predictor\n",
       "   2 classes: 'Democrat', 'Republican' \n",
       "\n",
       "Pre-processing: YOB nearest neighbor imputation (106), centered (106),\n",
       " scaled (106) \n",
       "Resampling: Cross-Validated (10 fold, repeated 5 times) \n",
       "Summary of sample sizes: 4010, 4010, 4009, 4009, 4010, 4010, ... \n",
       "Resampling results across tuning parameters:\n",
       "\n",
       "  model  winnow  trials  ROC        Sens       Spec     \n",
       "  rules  FALSE    1      0.6127075  0.6666459  0.5414618\n",
       "  rules  FALSE   10      0.6652598  0.6039008  0.6264571\n",
       "  rules  FALSE   20      0.6652815  0.5987313  0.6311465\n",
       "  rules   TRUE    1      0.6203596  0.6369216  0.5730508\n",
       "  rules   TRUE   10      0.6596068  0.6165068  0.6071684\n",
       "  rules   TRUE   20      0.6598027  0.6018458  0.6211852\n",
       "  tree   FALSE    1      0.5784036  0.6592745  0.5382165\n",
       "  tree   FALSE   10      0.6636895  0.5987370  0.6284607\n",
       "  tree   FALSE   20      0.6638206  0.5939895  0.6332381\n",
       "  tree    TRUE    1      0.6128208  0.6354749  0.5700579\n",
       "  tree    TRUE   10      0.6607412  0.5825370  0.6509852\n",
       "  tree    TRUE   20      0.6607766  0.5811811  0.6526120\n",
       "\n",
       "ROC was used to select the optimal model using  the largest value.\n",
       "The final values used for the model were trials = 20, model = rules and\n",
       " winnow = FALSE. "
      ]
     },
     "metadata": {},
     "output_type": "display_data"
    }
   ],
   "source": [
    "c502"
   ]
  },
  {
   "cell_type": "code",
   "execution_count": 25,
   "metadata": {
    "collapsed": false
   },
   "outputs": [
    {
     "data": {
      "text/plain": [
       "Confusion Matrix and Statistics\n",
       "\n",
       "            Reference\n",
       "Prediction   Democrat Republican\n",
       "  Democrat        409        234\n",
       "  Republican      181        289\n",
       "                                         \n",
       "               Accuracy : 0.6271         \n",
       "                 95% CI : (0.598, 0.6556)\n",
       "    No Information Rate : 0.5301         \n",
       "    P-Value [Acc > NIR] : 3.978e-11      \n",
       "                                         \n",
       "                  Kappa : 0.2472         \n",
       " Mcnemar's Test P-Value : 0.01069        \n",
       "                                         \n",
       "            Sensitivity : 0.6932         \n",
       "            Specificity : 0.5526         \n",
       "         Pos Pred Value : 0.6361         \n",
       "         Neg Pred Value : 0.6149         \n",
       "             Prevalence : 0.5301         \n",
       "         Detection Rate : 0.3675         \n",
       "   Detection Prevalence : 0.5777         \n",
       "      Balanced Accuracy : 0.6229         \n",
       "                                         \n",
       "       'Positive' Class : Democrat       \n",
       "                                         "
      ]
     },
     "metadata": {},
     "output_type": "display_data"
    }
   ],
   "source": [
    "cm.c502"
   ]
  },
  {
   "cell_type": "code",
   "execution_count": 26,
   "metadata": {
    "collapsed": false
   },
   "outputs": [
    {
     "name": "stderr",
     "output_type": "stream",
     "text": [
      "Warning message:\n",
      "In train.default(x = train.set[, -1], y = train.party, method = \"C5.0\", : The metric \"Accuracy\" was not in the result set. ROC will be used instead."
     ]
    }
   ],
   "source": [
    "set.seed(1056)\n",
    "c503 <- train(x = train.set[, -1], y = train.party, method = \"C5.0\", trControl = trCtrl, preProcess = \"bagImpute\")"
   ]
  },
  {
   "cell_type": "code",
   "execution_count": 27,
   "metadata": {
    "collapsed": true
   },
   "outputs": [],
   "source": [
    "pred.c503 <- predict(c503, newdata = valid.set[, -1], na.action = na.pass)\n",
    "cm.c503 <- confusionMatrix(pred.c503, valid.party)"
   ]
  },
  {
   "cell_type": "code",
   "execution_count": 28,
   "metadata": {
    "collapsed": false
   },
   "outputs": [
    {
     "data": {
      "text/plain": [
       "C5.0 \n",
       "\n",
       "4455 samples\n",
       " 106 predictor\n",
       "   2 classes: 'Democrat', 'Republican' \n",
       "\n",
       "Pre-processing: bagged tree imputation (106) \n",
       "Resampling: Cross-Validated (10 fold, repeated 5 times) \n",
       "Summary of sample sizes: 4010, 4010, 4009, 4009, 4010, 4010, ... \n",
       "Resampling results across tuning parameters:\n",
       "\n",
       "  model  winnow  trials  ROC        Sens       Spec     \n",
       "  rules  FALSE    1      0.5810521  0.6754834  0.5396737\n",
       "  rules  FALSE   10      0.6621555  0.6240510  0.6029483\n",
       "  rules  FALSE   20      0.6622945  0.6183730  0.6068704\n",
       "  rules   TRUE    1      0.5472484  0.6771730  0.5312003\n",
       "  rules   TRUE   10      0.6576199  0.6332203  0.5978382\n",
       "  rules   TRUE   20      0.6578138  0.6326307  0.6006134\n",
       "  tree   FALSE    1      0.5406335  0.6920114  0.5030581\n",
       "  tree   FALSE   10      0.6637944  0.5794129  0.6532964\n",
       "  tree   FALSE   20      0.6644291  0.5765269  0.6577753\n",
       "  tree    TRUE    1      0.5358964  0.6960731  0.5084621\n",
       "  tree    TRUE   10      0.6543775  0.5715193  0.6572859\n",
       "  tree    TRUE   20      0.6550113  0.5691483  0.6605300\n",
       "\n",
       "ROC was used to select the optimal model using  the largest value.\n",
       "The final values used for the model were trials = 20, model = tree and winnow\n",
       " = FALSE. "
      ]
     },
     "metadata": {},
     "output_type": "display_data"
    }
   ],
   "source": [
    "c503"
   ]
  },
  {
   "cell_type": "code",
   "execution_count": 29,
   "metadata": {
    "collapsed": false
   },
   "outputs": [
    {
     "data": {
      "text/plain": [
       "Confusion Matrix and Statistics\n",
       "\n",
       "            Reference\n",
       "Prediction   Democrat Republican\n",
       "  Democrat        341        167\n",
       "  Republican      249        356\n",
       "                                          \n",
       "               Accuracy : 0.6262          \n",
       "                 95% CI : (0.5971, 0.6547)\n",
       "    No Information Rate : 0.5301          \n",
       "    P-Value [Acc > NIR] : 5.961e-11       \n",
       "                                          \n",
       "                  Kappa : 0.2564          \n",
       " Mcnemar's Test P-Value : 7.147e-05       \n",
       "                                          \n",
       "            Sensitivity : 0.5780          \n",
       "            Specificity : 0.6807          \n",
       "         Pos Pred Value : 0.6713          \n",
       "         Neg Pred Value : 0.5884          \n",
       "             Prevalence : 0.5301          \n",
       "         Detection Rate : 0.3064          \n",
       "   Detection Prevalence : 0.4564          \n",
       "      Balanced Accuracy : 0.6293          \n",
       "                                          \n",
       "       'Positive' Class : Democrat        \n",
       "                                          "
      ]
     },
     "metadata": {},
     "output_type": "display_data"
    }
   ],
   "source": [
    "cm.c503"
   ]
  },
  {
   "cell_type": "code",
   "execution_count": null,
   "metadata": {
    "collapsed": true
   },
   "outputs": [],
   "source": [
    "set.seed(1056)\n",
    "c504 <- train(x = train.dv[, -1], y = train.party, method = \"C5.0\", trControl = trCtrl, preProcess = \"knnImpute\")"
   ]
  },
  {
   "cell_type": "code",
   "execution_count": null,
   "metadata": {
    "collapsed": true
   },
   "outputs": [],
   "source": [
    "pred.c504 <- predict(c504, newdata = valid.dv[, -1], na.action = na.pass)\n",
    "cm.c504 <- confusionMatrix(pred.c504, valid.party)"
   ]
  },
  {
   "cell_type": "code",
   "execution_count": null,
   "metadata": {
    "collapsed": true
   },
   "outputs": [],
   "source": [
    "c504"
   ]
  },
  {
   "cell_type": "code",
   "execution_count": null,
   "metadata": {
    "collapsed": true
   },
   "outputs": [],
   "source": [
    "cm.c504"
   ]
  },
  {
   "cell_type": "code",
   "execution_count": null,
   "metadata": {
    "collapsed": true
   },
   "outputs": [],
   "source": [
    "set.seed(1056)\n",
    "c505 <- train(x = train.dv[, -1], y = train.party, method = \"C5.0\", trControl = trCtrl, preProcess = \"bagImpute\")"
   ]
  },
  {
   "cell_type": "code",
   "execution_count": null,
   "metadata": {
    "collapsed": true
   },
   "outputs": [],
   "source": [
    "pred.c505 <- predict(c505, newdata = valid.dv[, -1], na.action = na.pass)\n",
    "cm.c505 <- confusionMatrix(pred.c505, valid.party)"
   ]
  },
  {
   "cell_type": "code",
   "execution_count": null,
   "metadata": {
    "collapsed": true
   },
   "outputs": [],
   "source": [
    "c505"
   ]
  },
  {
   "cell_type": "code",
   "execution_count": null,
   "metadata": {
    "collapsed": true
   },
   "outputs": [],
   "source": [
    "cm.c505"
   ]
  }
 ],
 "metadata": {
  "kernelspec": {
   "display_name": "R",
   "language": "R",
   "name": "ir"
  },
  "language_info": {
   "codemirror_mode": "r",
   "file_extension": ".r",
   "mimetype": "text/x-r-source",
   "name": "R",
   "pygments_lexer": "r",
   "version": "3.3.0"
  }
 },
 "nbformat": 4,
 "nbformat_minor": 0
}
