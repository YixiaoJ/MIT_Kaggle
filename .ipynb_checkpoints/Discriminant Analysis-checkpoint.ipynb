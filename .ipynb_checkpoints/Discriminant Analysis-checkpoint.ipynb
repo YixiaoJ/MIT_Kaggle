{
 "cells": [
  {
   "cell_type": "code",
   "execution_count": 11,
   "metadata": {
    "collapsed": false
   },
   "outputs": [],
   "source": [
    "source(\"2-model_tests.R\")"
   ]
  },
  {
   "cell_type": "markdown",
   "metadata": {},
   "source": [
    "### Linear Discriminant Analysis"
   ]
  },
  {
   "cell_type": "markdown",
   "metadata": {},
   "source": [
    "#### Notes on Models\n",
    "\n",
    "* train.set with KNN imputing\n",
    "    - NZV makes no difference\n",
    "    - BoxCox makes no difference\n",
    "    - PCA makes no difference\n",
    "* train.dv improves over train.set but gives warning for collinearity\n",
    "* train.hc improves over train.dv but gives warning for collinearity unless nzv removed\n",
    "    - PCA slightly decreases accuracy, kappa, and specificity; slightly increases sensitivity; no warning for collinearity"
   ]
  },
  {
   "cell_type": "code",
   "execution_count": 6,
   "metadata": {
    "collapsed": false
   },
   "outputs": [
    {
     "name": "stderr",
     "output_type": "stream",
     "text": [
      "Loading required package: MASS\n",
      "\n",
      "Attaching package: 'MASS'\n",
      "\n",
      "The following object is masked from 'package:dplyr':\n",
      "\n",
      "    select\n",
      "\n",
      "Warning message:\n",
      "In train.default(x = train.hc[, -1], y = train.party, method = \"lda\", : The metric \"Accuracy\" was not in the result set. ROC will be used instead.Warning message:\n",
      "In lda.default(x, grouping, ...): variables are collinear"
     ]
    }
   ],
   "source": [
    "set.seed(1056)\n",
    "lda3 <- train(x = train.hc[, -1], y = train.party, method = \"lda\", trControl = trCtrl, metric = \"ROC\",\n",
    "              preProcess = c(\"nzv\", \"knnImpute\"))"
   ]
  },
  {
   "cell_type": "code",
   "execution_count": 7,
   "metadata": {
    "collapsed": true
   },
   "outputs": [],
   "source": [
    "pred.lda3 <- predict(lda3, newdata = valid.hc[, -1], na.action = na.pass)\n",
    "cm.lda3 <- confusionMatrix(pred.lda3, valid.party)"
   ]
  },
  {
   "cell_type": "code",
   "execution_count": 8,
   "metadata": {
    "collapsed": false
   },
   "outputs": [
    {
     "name": "stderr",
     "output_type": "stream",
     "text": [
      "Warning message:\n",
      "In gsub(\"knnImpute\", paste(x$k, \"nearest neighbor imputation\"), : argument 'replacement' has length > 1 and only the first element will be usedWarning message:\n",
      "In gsub(\"knnImpute\", paste(x$k, \"nearest neighbor imputation\"), : argument 'replacement' has length > 1 and only the first element will be used"
     ]
    },
    {
     "data": {
      "text/plain": [
       "Linear Discriminant Analysis \n",
       "\n",
       "4455 samples\n",
       " 122 predictor\n",
       "   2 classes: 'Democrat', 'Republican' \n",
       "\n",
       "Pre-processing: YOB nearest neighbor imputation (118), centered (118),\n",
       " scaled (118), remove (4) \n",
       "Resampling: Cross-Validated (10 fold, repeated 5 times) \n",
       "Summary of sample sizes: 4010, 4010, 4009, 4009, 4010, 4010, ... \n",
       "Resampling results:\n",
       "\n",
       "  ROC        Sens       Spec     \n",
       "  0.6649332  0.6425113  0.5864466\n",
       "\n",
       " "
      ]
     },
     "metadata": {},
     "output_type": "display_data"
    }
   ],
   "source": [
    "lda3"
   ]
  },
  {
   "cell_type": "code",
   "execution_count": 9,
   "metadata": {
    "collapsed": false
   },
   "outputs": [
    {
     "data": {
      "text/plain": [
       "Confusion Matrix and Statistics\n",
       "\n",
       "            Reference\n",
       "Prediction   Democrat Republican\n",
       "  Democrat        380        193\n",
       "  Republican      210        330\n",
       "                                          \n",
       "               Accuracy : 0.6379          \n",
       "                 95% CI : (0.6089, 0.6662)\n",
       "    No Information Rate : 0.5301          \n",
       "    P-Value [Acc > NIR] : 2.309e-13       \n",
       "                                          \n",
       "                  Kappa : 0.2745          \n",
       " Mcnemar's Test P-Value : 0.4254          \n",
       "                                          \n",
       "            Sensitivity : 0.6441          \n",
       "            Specificity : 0.6310          \n",
       "         Pos Pred Value : 0.6632          \n",
       "         Neg Pred Value : 0.6111          \n",
       "             Prevalence : 0.5301          \n",
       "         Detection Rate : 0.3414          \n",
       "   Detection Prevalence : 0.5148          \n",
       "      Balanced Accuracy : 0.6375          \n",
       "                                          \n",
       "       'Positive' Class : Democrat        \n",
       "                                          "
      ]
     },
     "metadata": {},
     "output_type": "display_data"
    }
   ],
   "source": [
    "cm.lda3"
   ]
  },
  {
   "cell_type": "code",
   "execution_count": null,
   "metadata": {
    "collapsed": true
   },
   "outputs": [],
   "source": [
    "predTest <- predict(lda3, newdata = test.set, na.action = na.pass)\n",
    "\n",
    "test.submit <- data_frame(USER_ID = testing$USER_ID, Predictions = predTest)\n",
    "\n",
    "mod <- str_replace_all(as.character(Sys.time()), \"-|:| \", \"\")\n",
    "write_csv(test.submit, paste0(\"submission_\", mod, \".csv\"))\n"
   ]
  },
  {
   "cell_type": "markdown",
   "metadata": {},
   "source": [
    "### Partial Least Squares Discriminant Analysis"
   ]
  },
  {
   "cell_type": "markdown",
   "metadata": {},
   "source": [
    "#### Notes on Models\n",
    "- train.dv2 improves accuracy over top LDA model\n",
    "- train.hc2 improves accuracy over train.dv2"
   ]
  },
  {
   "cell_type": "code",
   "execution_count": 21,
   "metadata": {
    "collapsed": false
   },
   "outputs": [
    {
     "name": "stderr",
     "output_type": "stream",
     "text": [
      "Loading required package: pls\n",
      "\n",
      "Attaching package: 'pls'\n",
      "\n",
      "The following object is masked from 'package:caret':\n",
      "\n",
      "    R2\n",
      "\n",
      "The following object is masked from 'package:stats':\n",
      "\n",
      "    loadings\n",
      "\n"
     ]
    }
   ],
   "source": [
    "set.seed(1056)\n",
    "pls1 <- train(x = train.dv2[, -1], y = train.party, method = \"pls\", trControl = trCtrl, metric = \"ROC\",\n",
    "              preProcess = \"knnImpute\", tuneGrid = expand.grid(.ncomp = 1:10))"
   ]
  },
  {
   "cell_type": "code",
   "execution_count": 22,
   "metadata": {
    "collapsed": true
   },
   "outputs": [],
   "source": [
    "pred.pls1 <- predict(pls1, newdata = valid.dv2[, -1], na.action = na.pass)\n",
    "cm.pls1 <- confusionMatrix(pred.pls1, valid.party)"
   ]
  },
  {
   "cell_type": "code",
   "execution_count": 23,
   "metadata": {
    "collapsed": false
   },
   "outputs": [
    {
     "name": "stderr",
     "output_type": "stream",
     "text": [
      "Warning message:\n",
      "In gsub(\"knnImpute\", paste(x$k, \"nearest neighbor imputation\"), : argument 'replacement' has length > 1 and only the first element will be usedWarning message:\n",
      "In gsub(\"knnImpute\", paste(x$k, \"nearest neighbor imputation\"), : argument 'replacement' has length > 1 and only the first element will be used"
     ]
    },
    {
     "data": {
      "text/plain": [
       "Partial Least Squares \n",
       "\n",
       "4455 samples\n",
       " 329 predictor\n",
       "   2 classes: 'Democrat', 'Republican' \n",
       "\n",
       "Pre-processing: YOB nearest neighbor imputation (329), centered (329),\n",
       " scaled (329) \n",
       "Resampling: Cross-Validated (10 fold, repeated 5 times) \n",
       "Summary of sample sizes: 4010, 4010, 4009, 4009, 4010, 4010, ... \n",
       "Resampling results across tuning parameters:\n",
       "\n",
       "  ncomp  ROC        Sens       Spec     \n",
       "   1     0.6164302  0.7082486  0.4744976\n",
       "   2     0.6707430  0.6835997  0.5556938\n",
       "   3     0.6761090  0.6852975  0.5612276\n",
       "   4     0.6721289  0.6681832  0.5678227\n",
       "   5     0.6650225  0.6583537  0.5627569\n",
       "   6     0.6609039  0.6507277  0.5663800\n",
       "   7     0.6585382  0.6431853  0.5687601\n",
       "   8     0.6582865  0.6448820  0.5655142\n",
       "   9     0.6576116  0.6438672  0.5677102\n",
       "  10     0.6572554  0.6444593  0.5682903\n",
       "\n",
       "ROC was used to select the optimal model using  the largest value.\n",
       "The final value used for the model was ncomp = 3. "
      ]
     },
     "metadata": {},
     "output_type": "display_data"
    }
   ],
   "source": [
    "pls1"
   ]
  },
  {
   "cell_type": "code",
   "execution_count": 24,
   "metadata": {
    "collapsed": false
   },
   "outputs": [
    {
     "data": {
      "text/plain": [
       "Confusion Matrix and Statistics\n",
       "\n",
       "            Reference\n",
       "Prediction   Democrat Republican\n",
       "  Democrat        408        214\n",
       "  Republican      182        309\n",
       "                                          \n",
       "               Accuracy : 0.6442          \n",
       "                 95% CI : (0.6153, 0.6724)\n",
       "    No Information Rate : 0.5301          \n",
       "    P-Value [Acc > NIR] : 8.887e-15       \n",
       "                                          \n",
       "                  Kappa : 0.2833          \n",
       " Mcnemar's Test P-Value : 0.1193          \n",
       "                                          \n",
       "            Sensitivity : 0.6915          \n",
       "            Specificity : 0.5908          \n",
       "         Pos Pred Value : 0.6559          \n",
       "         Neg Pred Value : 0.6293          \n",
       "             Prevalence : 0.5301          \n",
       "         Detection Rate : 0.3666          \n",
       "   Detection Prevalence : 0.5588          \n",
       "      Balanced Accuracy : 0.6412          \n",
       "                                          \n",
       "       'Positive' Class : Democrat        \n",
       "                                          "
      ]
     },
     "metadata": {},
     "output_type": "display_data"
    }
   ],
   "source": [
    "cm.pls1"
   ]
  },
  {
   "cell_type": "code",
   "execution_count": 27,
   "metadata": {
    "collapsed": true
   },
   "outputs": [],
   "source": [
    "set.seed(1056)\n",
    "pls2 <- train(x = train.hc2[, -1], y = train.party, method = \"pls\", trControl = trCtrl, metric = \"ROC\",\n",
    "              preProcess = c(\"nzv\", \"knnImpute\"), tuneGrid = expand.grid(.ncomp = 1:10))"
   ]
  },
  {
   "cell_type": "code",
   "execution_count": 28,
   "metadata": {
    "collapsed": true
   },
   "outputs": [],
   "source": [
    "pred.pls2 <- predict(pls2, newdata = valid.hc2[, -1], na.action = na.pass)\n",
    "cm.pls2 <- confusionMatrix(pred.pls2, valid.party)"
   ]
  },
  {
   "cell_type": "code",
   "execution_count": 29,
   "metadata": {
    "collapsed": false
   },
   "outputs": [
    {
     "name": "stderr",
     "output_type": "stream",
     "text": [
      "Warning message:\n",
      "In gsub(\"knnImpute\", paste(x$k, \"nearest neighbor imputation\"), : argument 'replacement' has length > 1 and only the first element will be usedWarning message:\n",
      "In gsub(\"knnImpute\", paste(x$k, \"nearest neighbor imputation\"), : argument 'replacement' has length > 1 and only the first element will be used"
     ]
    },
    {
     "data": {
      "text/plain": [
       "Partial Least Squares \n",
       "\n",
       "4455 samples\n",
       " 315 predictor\n",
       "   2 classes: 'Democrat', 'Republican' \n",
       "\n",
       "Pre-processing: YOB nearest neighbor imputation (309), centered (309),\n",
       " scaled (309), remove (6) \n",
       "Resampling: Cross-Validated (10 fold, repeated 5 times) \n",
       "Summary of sample sizes: 4010, 4010, 4009, 4009, 4010, 4010, ... \n",
       "Resampling results across tuning parameters:\n",
       "\n",
       "  ncomp  ROC        Sens       Spec     \n",
       "   1     0.6187365  0.7133308  0.4724926\n",
       "   2     0.6713414  0.6855517  0.5472846\n",
       "   3     0.6757346  0.6892791  0.5541572\n",
       "   4     0.6705284  0.6676772  0.5629478\n",
       "   5     0.6641744  0.6579318  0.5581695\n",
       "   6     0.6603100  0.6523407  0.5593119\n",
       "   7     0.6578861  0.6425109  0.5609282\n",
       "   8     0.6575169  0.6430222  0.5578751\n",
       "   9     0.6568918  0.6425967  0.5585455\n",
       "  10     0.6564419  0.6417514  0.5622702\n",
       "\n",
       "ROC was used to select the optimal model using  the largest value.\n",
       "The final value used for the model was ncomp = 3. "
      ]
     },
     "metadata": {},
     "output_type": "display_data"
    }
   ],
   "source": [
    "pls2"
   ]
  },
  {
   "cell_type": "code",
   "execution_count": 30,
   "metadata": {
    "collapsed": false
   },
   "outputs": [
    {
     "data": {
      "text/plain": [
       "Confusion Matrix and Statistics\n",
       "\n",
       "            Reference\n",
       "Prediction   Democrat Republican\n",
       "  Democrat        419        214\n",
       "  Republican      171        309\n",
       "                                         \n",
       "               Accuracy : 0.6541         \n",
       "                 95% CI : (0.6253, 0.682)\n",
       "    No Information Rate : 0.5301         \n",
       "    P-Value [Acc > NIR] : < 2e-16        \n",
       "                                         \n",
       "                  Kappa : 0.3024         \n",
       " Mcnemar's Test P-Value : 0.03231        \n",
       "                                         \n",
       "            Sensitivity : 0.7102         \n",
       "            Specificity : 0.5908         \n",
       "         Pos Pred Value : 0.6619         \n",
       "         Neg Pred Value : 0.6437         \n",
       "             Prevalence : 0.5301         \n",
       "         Detection Rate : 0.3765         \n",
       "   Detection Prevalence : 0.5687         \n",
       "      Balanced Accuracy : 0.6505         \n",
       "                                         \n",
       "       'Positive' Class : Democrat       \n",
       "                                         "
      ]
     },
     "metadata": {},
     "output_type": "display_data"
    }
   ],
   "source": [
    "cm.pls2"
   ]
  },
  {
   "cell_type": "code",
   "execution_count": null,
   "metadata": {
    "collapsed": true
   },
   "outputs": [],
   "source": [
    "set.seed(1056)\n",
    "pls3 <- train(x = train.lc[, -1], y = train.party, method = \"pls\", trControl = trCtrl, metric = \"ROC\",\n",
    "              preProcess = c(\"nzv\", \"knnImpute\"), tuneGrid = expand.grid(.ncomp = 1:10))"
   ]
  },
  {
   "cell_type": "code",
   "execution_count": null,
   "metadata": {
    "collapsed": true
   },
   "outputs": [],
   "source": [
    "pred.pls3 <- predict(pls3, newdata = valid.lc[, -1], na.action = na.pass)\n",
    "cm.pls3 <- confusionMatrix(pred.pls3, valid.party)"
   ]
  },
  {
   "cell_type": "code",
   "execution_count": null,
   "metadata": {
    "collapsed": true
   },
   "outputs": [],
   "source": [
    "pls3"
   ]
  },
  {
   "cell_type": "code",
   "execution_count": null,
   "metadata": {
    "collapsed": true
   },
   "outputs": [],
   "source": [
    "cm.pls3"
   ]
  }
 ],
 "metadata": {
  "kernelspec": {
   "display_name": "R",
   "language": "R",
   "name": "ir"
  },
  "language_info": {
   "codemirror_mode": "r",
   "file_extension": ".r",
   "mimetype": "text/x-r-source",
   "name": "R",
   "pygments_lexer": "r",
   "version": "3.3.0"
  }
 },
 "nbformat": 4,
 "nbformat_minor": 0
}
