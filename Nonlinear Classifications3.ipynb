{
 "cells": [
  {
   "cell_type": "code",
   "execution_count": 1,
   "metadata": {
    "collapsed": false,
    "scrolled": true
   },
   "outputs": [
    {
     "name": "stderr",
     "output_type": "stream",
     "text": [
      "\n",
      "Attaching package: 'dplyr'\n",
      "\n",
      "The following objects are masked from 'package:plyr':\n",
      "\n",
      "    arrange, count, desc, failwith, id, mutate, rename, summarise,\n",
      "    summarize\n",
      "\n",
      "The following objects are masked from 'package:stats':\n",
      "\n",
      "    filter, lag\n",
      "\n",
      "The following objects are masked from 'package:base':\n",
      "\n",
      "    intersect, setdiff, setequal, union\n",
      "\n",
      "\n",
      "Attaching package: 'tibble'\n",
      "\n",
      "The following objects are masked from 'package:dplyr':\n",
      "\n",
      "    as_data_frame, data_frame, data_frame_, frame_data, glimpse,\n",
      "    knit_print.trunc_mat, tbl_df, tibble, trunc_mat, type_sum\n",
      "\n",
      "Loading required package: lattice\n",
      "Loading required package: ggplot2\n",
      "\n",
      "Attaching package: 'purrr'\n",
      "\n",
      "The following object is masked from 'package:caret':\n",
      "\n",
      "    lift\n",
      "\n",
      "The following object is masked from 'package:dplyr':\n",
      "\n",
      "    order_by\n",
      "\n",
      "The following object is masked from 'package:plyr':\n",
      "\n",
      "    compact\n",
      "\n",
      "Loading required package: Rcpp\n",
      "mice 2.25 2015-11-09\n",
      "Loading required package: foreach\n",
      "\n",
      "Attaching package: 'foreach'\n",
      "\n",
      "The following objects are masked from 'package:purrr':\n",
      "\n",
      "    accumulate, when\n",
      "\n",
      "Loading required package: iterators\n",
      "Loading required package: parallel\n"
     ]
    }
   ],
   "source": [
    "source(\"2-model_tests.R\")"
   ]
  },
  {
   "cell_type": "code",
   "execution_count": 3,
   "metadata": {
    "collapsed": true
   },
   "outputs": [],
   "source": [
    "models <- list(\"fda\", \"earth\")\n",
    "noTune <- list(tuneGrid = NULL)\n",
    "# nprune = 11, degree = 1\n",
    "marsGrid <- list(tuneGrid = expand.grid(.degree = 1:2, .nprune = 2:38))\n",
    "tune <- list(noTune, marsGrid)\n",
    "prep <- list(NULL)"
   ]
  },
  {
   "cell_type": "code",
   "execution_count": 2,
   "metadata": {
    "collapsed": true
   },
   "outputs": [],
   "source": [
    "vars <- hc.dv"
   ]
  },
  {
   "cell_type": "code",
   "execution_count": null,
   "metadata": {
    "collapsed": false
   },
   "outputs": [
    {
     "name": "stderr",
     "output_type": "stream",
     "text": [
      "Loading required package: earth\n",
      "Loading required package: plotmo\n",
      "Loading required package: plotrix\n",
      "Loading required package: TeachingDemos\n",
      "Loading required package: mda\n",
      "Loading required package: class\n",
      "Loaded mda 0.4-8\n",
      "\n"
     ]
    }
   ],
   "source": [
    "mods1 <- run_models(train.dv, valid.dv, vars, models, tune, prep, trCtrl)"
   ]
  },
  {
   "cell_type": "code",
   "execution_count": null,
   "metadata": {
    "collapsed": true
   },
   "outputs": [],
   "source": [
    "mods1"
   ]
  },
  {
   "cell_type": "code",
   "execution_count": 4,
   "metadata": {
    "collapsed": false
   },
   "outputs": [
    {
     "name": "stderr",
     "output_type": "stream",
     "text": [
      "\n",
      "Attaching package: 'kernlab'\n",
      "\n",
      "The following object is masked from 'package:ggplot2':\n",
      "\n",
      "    alpha\n",
      "\n"
     ]
    }
   ],
   "source": [
    "models <- list(\"svmRadial\")\n",
    "library(kernlab)\n",
    "sigmaRangeReduced <- sigest(as.matrix(train.dv[, -c(1, vars)]))\n",
    "svmGrid <- list(tuneGrid = expand.grid(.sigma = sigmaRangeReduced, .C = 2^(seq(-4, 4))))\n",
    "tune <- list(svmGrid)\n",
    "prep <- list(list(c(\"center\", \"scale\")))"
   ]
  },
  {
   "cell_type": "code",
   "execution_count": 5,
   "metadata": {
    "collapsed": false
   },
   "outputs": [
    {
     "name": "stderr",
     "output_type": "stream",
     "text": [
      "Loading required package: caretEnsemble\n",
      "\n",
      "Attaching package: 'caretEnsemble'\n",
      "\n",
      "The following object is masked from 'package:ggplot2':\n",
      "\n",
      "    autoplot\n",
      "\n",
      "Warning message:\n",
      "In nominalTrainWorkflow(x = x, y = y, wts = weights, info = trainInfo, : There were missing values in resampled performance measures."
     ]
    },
    {
     "data": {
      "text/plain": [
       "$cl\n",
       "$svmRadial\n",
       "Support Vector Machines with Radial Basis Function Kernel \n",
       "\n",
       "4455 samples\n",
       " 315 predictor\n",
       "   2 classes: 'Democrat', 'Republican' \n",
       "\n",
       "Pre-processing: centered (315), scaled (315) \n",
       "Resampling: Cross-Validated (10 fold, repeated 5 times) \n",
       "Summary of sample sizes: 4010, 4009, 4010, 4009, 4010, 4009, ... \n",
       "Resampling results across tuning parameters:\n",
       "\n",
       "  sigma        C        ROC        Sens       Spec     \n",
       "  0.001177882   0.0625  0.6435521  0.6189641  0.5914031\n",
       "  0.001177882   0.1250  0.6469469  0.6581839  0.5666699\n",
       "  0.001177882   0.2500  0.6593611  0.7182906  0.5087245\n",
       "  0.001177882   0.5000  0.6646829  0.7075731  0.5243219\n",
       "  0.001177882   1.0000  0.6656152  0.6919037  0.5312417\n",
       "  0.001177882   2.0000  0.6632109  0.6811234  0.5362162\n",
       "  0.001177882   4.0000  0.6562689  0.6730449  0.5322292\n",
       "  0.001177882   8.0000  0.6436687  0.6744764  0.5133961\n",
       "  0.001177882  16.0000  0.6307638  0.6833320  0.4880145\n",
       "  0.001566434   0.0625  0.6428012  0.6210820  0.5890153\n",
       "  0.001566434   0.1250  0.6478736  0.6747043  0.5519576\n",
       "  0.001566434   0.2500  0.6586541  0.7122773  0.5154781\n",
       "  0.001566434   0.5000  0.6657481  0.7001194  0.5306717\n",
       "  0.001566434   1.0000  0.6658004  0.6868183  0.5344830\n",
       "  0.001566434   2.0000  0.6619857  0.6761435  0.5378287\n",
       "  0.001566434   4.0000  0.6466564  0.6639332  0.5287117\n",
       "  0.001566434   8.0000  0.6355208  0.6781926  0.4968232\n",
       "  0.001566434  16.0000  0.6293105  0.6846685  0.4873338\n",
       "  0.002439976   0.0625  0.6421675  0.6282811  0.5838555\n",
       "  0.002439976   0.1250  0.6470945  0.6734317  0.5539617\n",
       "  0.002439976   0.2500  0.6612431  0.7114689  0.5215913\n",
       "  0.002439976   0.5000  0.6663385  0.6888992  0.5404597\n",
       "  0.002439976   1.0000  0.6650100  0.6780930  0.5439449\n",
       "  0.002439976   2.0000  0.6540489  0.6699166  0.5349156\n",
       "  0.002439976   4.0000  0.6415595  0.6789867  0.5084634\n",
       "  0.002439976   8.0000  0.6368051  0.6838526  0.4992598\n",
       "  0.002439976  16.0000  0.6350146  0.6858583  0.4933082\n",
       "\n",
       "ROC was used to select the optimal model using  the largest value.\n",
       "The final values used for the model were sigma = 0.002439976 and C = 0.5. \n",
       "\n",
       "attr(,\"class\")\n",
       "[1] \"caretList\"\n",
       "\n",
       "$cm\n",
       "$cm$svmRadial\n",
       "Confusion Matrix and Statistics\n",
       "\n",
       "            Reference\n",
       "Prediction   Democrat Republican\n",
       "  Democrat        390        225\n",
       "  Republican      200        298\n",
       "                                          \n",
       "               Accuracy : 0.6181          \n",
       "                 95% CI : (0.5889, 0.6468)\n",
       "    No Information Rate : 0.5301          \n",
       "    P-Value [Acc > NIR] : 1.919e-09       \n",
       "                                          \n",
       "                  Kappa : 0.2314          \n",
       " Mcnemar's Test P-Value : 0.2444          \n",
       "                                          \n",
       "            Sensitivity : 0.6610          \n",
       "            Specificity : 0.5698          \n",
       "         Pos Pred Value : 0.6341          \n",
       "         Neg Pred Value : 0.5984          \n",
       "             Prevalence : 0.5301          \n",
       "         Detection Rate : 0.3504          \n",
       "   Detection Prevalence : 0.5526          \n",
       "      Balanced Accuracy : 0.6154          \n",
       "                                          \n",
       "       'Positive' Class : Democrat        \n",
       "                                          \n",
       "\n"
      ]
     },
     "metadata": {},
     "output_type": "display_data"
    }
   ],
   "source": [
    "mods2 <- run_models(train.dv, valid.dv, vars, models, tune, prep, trCtrl, fit = FALSE)\n",
    "mods2"
   ]
  },
  {
   "cell_type": "code",
   "execution_count": null,
   "metadata": {
    "collapsed": true
   },
   "outputs": [],
   "source": [
    "models <- list(\"knn\")\n",
    "knnGrid <- list(tuneGrid = data.frame(.k = c(4 * (0:5) +1, 20 * (1:5) + 1, 50 * (2:9) + 1)))\n",
    "tune <- list(knnGrid)"
   ]
  },
  {
   "cell_type": "code",
   "execution_count": null,
   "metadata": {
    "collapsed": true
   },
   "outputs": [],
   "source": [
    "mods3 <- run_models(train.dv, valid.dv, vars, models, tune, prep, trCtrl)\n",
    "mods3"
   ]
  },
  {
   "cell_type": "code",
   "execution_count": null,
   "metadata": {
    "collapsed": true
   },
   "outputs": [],
   "source": [
    "models <- list(\"nb\")\n",
    "nbGrid <- list(tuneGrid = expand.grid(.fL = c(0, 2), .userkernal = c(TRUE, FALSE), .adjust = 1))\n",
    "vars <- NULL"
   ]
  },
  {
   "cell_type": "code",
   "execution_count": null,
   "metadata": {
    "collapsed": true
   },
   "outputs": [],
   "source": [
    "mods4 <- run_models(train.set, valid.set, vars, models, tune, prep, trCtrl)\n",
    "mods4"
   ]
  },
  {
   "cell_type": "code",
   "execution_count": null,
   "metadata": {
    "collapsed": true
   },
   "outputs": [],
   "source": [
    "models <- list(\"nnet\")\n",
    "# nnetGrid <- list(tuneGrid = expand.grid(.size = 1:10, .decay = c(0, 0.1, 1, 2)))\n",
    "# previous model found size = 1 and decay = 2 produced best fit\n",
    "nnetGrid <- list(tuneGrid = expand.grid(.size = 1, .decay = 2))\n",
    "tune <- list(nnetGrid)\n",
    "prep <- list(list(c(\"center\", \"scale\", \"spatialSign\")))\n",
    "maxSize <- max(nnetGrid$tuneGrid$.size)\n",
    "numWts <- 1 * (maxSize * (length(train.dv[, -c(1, vars)]) + 1) + maxSize + 1)\n",
    "mods5 <- run_models(train.dv, valid.dv, vars, models, tune, prep, trCtrl, trace = FALSE, maxit = 2000, MaxNWts = numWts)\n",
    "mods5"
   ]
  }
 ],
 "metadata": {
  "kernelspec": {
   "display_name": "R",
   "language": "R",
   "name": "ir"
  },
  "language_info": {
   "codemirror_mode": "r",
   "file_extension": ".r",
   "mimetype": "text/x-r-source",
   "name": "R",
   "pygments_lexer": "r",
   "version": "3.3.0"
  }
 },
 "nbformat": 4,
 "nbformat_minor": 0
}
