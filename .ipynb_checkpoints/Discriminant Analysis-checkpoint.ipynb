{
 "cells": [
  {
   "cell_type": "code",
   "execution_count": 51,
   "metadata": {
    "collapsed": false
   },
   "outputs": [],
   "source": [
    "source(\"1-data_sets.R\")"
   ]
  },
  {
   "cell_type": "code",
   "execution_count": 2,
   "metadata": {
    "collapsed": false
   },
   "outputs": [
    {
     "data": {
      "text/plain": [
       "                       \n",
       "                        Democrat Republican\n",
       "  Current K-12               350        318\n",
       "  High School Diploma        270        270\n",
       "  Current Undergraduate      338        288\n",
       "  Associate's Degree         149        162\n",
       "  Bachelor's Degree          518        434\n",
       "  Master's Degree            296        207\n",
       "  Doctoral Degree             86         74"
      ]
     },
     "metadata": {},
     "output_type": "display_data"
    }
   ],
   "source": [
    "table(train.data$EducationLevel, train.data$Party)"
   ]
  },
  {
   "cell_type": "code",
   "execution_count": 4,
   "metadata": {
    "collapsed": false,
    "scrolled": true
   },
   "outputs": [
    {
     "name": "stdout",
     "output_type": "stream",
     "text": [
      "                                Stratified by Party\n",
      "                                 Democrat        Republican      p      test\n",
      "  n                                 2361            2094                    \n",
      "  YOB (mean (sd))                1979.64 (15.12) 1980.09 (14.89)  0.335     \n",
      "  Gender = Male (%)                 1294 (56.0)     1356 (66.0)  <0.001     \n",
      "  Income (%)                                                      0.418     \n",
      "     under 25                        328 (17.1)      301 (17.6)             \n",
      "     25-50                           314 (16.4)      259 (15.1)             \n",
      "     50-74                           352 (18.4)      312 (18.2)             \n",
      "     75-100                          316 (16.5)      261 (15.3)             \n",
      "     100-150                         317 (16.5)      278 (16.3)             \n",
      "     over 150                        290 (15.1)      299 (17.5)             \n",
      "  HouseholdStatus (%)                                            <0.001     \n",
      "     Domestic Partners (no kids)     104 ( 4.8)       38 ( 2.0)             \n",
      "     Domestic Partners (w/kids)       32 ( 1.5)       21 ( 1.1)             \n",
      "     Married (no kids)               279 (12.9)      240 (12.5)             \n",
      "     Married (w/kids)                600 (27.6)      672 (35.0)             \n",
      "     Single (no kids)               1065 (49.1)      881 (45.8)             \n",
      "     Single (w/kids)                  90 ( 4.1)       70 ( 3.6)             \n",
      "  EducationLevel (%)                                              0.043     \n",
      "     Current K-12                    350 (17.4)      318 (18.1)             \n",
      "     High School Diploma             270 (13.5)      270 (15.4)             \n",
      "     Current Undergraduate           338 (16.8)      288 (16.4)             \n",
      "     Associate's Degree              149 ( 7.4)      162 ( 9.2)             \n",
      "     Bachelor's Degree               518 (25.8)      434 (24.8)             \n",
      "     Master's Degree                 296 (14.7)      207 (11.8)             \n",
      "     Doctoral Degree                  86 ( 4.3)       74 ( 4.2)             \n",
      "  Q124742 = Yes (%)                  293 (33.2)      292 (37.1)   0.108     \n",
      "  Q124122 = Yes (%)                  741 (57.7)      627 (53.8)   0.058     \n",
      "  Q123464 = Yes (%)                   95 ( 7.1)       71 ( 5.7)   0.194     \n",
      "  Q123621 = Yes (%)                  647 (49.5)      641 (53.4)   0.055     \n",
      "  Q122769 = Yes (%)                  518 (37.4)      505 (39.7)   0.240     \n",
      "  Q122770 = Yes (%)                  833 (57.1)      770 (58.3)   0.548     \n",
      "  Q122771 = Public (%)              1228 (84.1)     1078 (81.1)   0.041     \n",
      "  Q122120 = Yes (%)                  361 (24.5)      349 (26.0)   0.389     \n",
      "  Q121699 = Yes (%)                 1190 (75.7)     1004 (71.6)   0.013     \n",
      "  Q121700 = Yes (%)                  246 (15.9)      187 (13.4)   0.064     \n",
      "  Q120978 = Yes (%)                  889 (57.5)      790 (55.8)   0.345     \n",
      "  Q121011 = Yes (%)                  902 (57.5)      788 (55.5)   0.288     \n",
      "  Q120379 = Yes (%)                  782 (51.1)      586 (41.9)  <0.001     \n",
      "  Q120650 = Yes (%)                 1398 (90.3)     1315 (92.0)   0.115     \n",
      "  Q120472 = Science (%)              981 (65.5)     1003 (72.2)  <0.001     \n",
      "  Q120194 = Try first (%)            584 (39.9)      584 (44.2)   0.023     \n",
      "  Q120012 = Yes (%)                  743 (48.0)      636 (45.6)   0.199     \n",
      "  Q120014 = Yes (%)                  855 (58.4)      836 (62.8)   0.021     \n",
      "  Q119334 = Yes (%)                  721 (48.6)      690 (50.0)   0.483     \n",
      "  Q119851 = Yes (%)                  715 (45.5)      565 (39.0)  <0.001     \n",
      "  Q119650 = Receiving (%)            365 (24.3)      320 (22.7)   0.344     \n",
      "  Q118892 = Yes (%)                 1022 (64.4)      839 (58.5)   0.001     \n",
      "  Q118117 = Yes (%)                  612 (39.8)      598 (42.8)   0.112     \n",
      "  Q118232 = Pragmatist (%)           706 (53.1)      680 (57.2)   0.042     \n",
      "  Q118233 = Yes (%)                  400 (27.9)      355 (27.2)   0.708     \n",
      "  Q118237 = Yes (%)                  693 (47.8)      597 (44.8)   0.125     \n",
      "  Q117186 = Hot headed (%)           461 (33.6)      437 (35.2)   0.433     \n",
      "  Q117193 = Standard hours (%)       802 (57.5)      726 (57.5)   1.000     \n",
      "  Q116797 = Yes (%)                  493 (35.3)      439 (34.7)   0.761     \n",
      "  Q116881 = Right (%)                355 (26.0)      421 (34.5)  <0.001     \n",
      "  Q116953 = Yes (%)                  941 (68.9)      804 (64.8)   0.031     \n",
      "  Q116601 = Yes (%)                 1234 (84.7)     1072 (82.0)   0.060     \n",
      "  Q116441 = Yes (%)                  498 (34.7)      496 (38.4)   0.052     \n",
      "  Q116448 = Yes (%)                  670 (47.1)      544 (42.5)   0.017     \n",
      "  Q116197 = P.M. (%)                 955 (66.9)      866 (66.2)   0.742     \n",
      "  Q115602 = Yes (%)                 1156 (79.2)     1017 (78.0)   0.476     \n",
      "  Q115777 = Start (%)                819 (58.5)      729 (57.3)   0.530     \n",
      "  Q115610 = Yes (%)                 1206 (82.9)     1069 (81.5)   0.360     \n",
      "  Q115611 = Yes (%)                  393 (25.9)      631 (46.3)  <0.001     \n",
      "  Q115899 = Me (%)                   734 (52.4)      752 (59.8)  <0.001     \n",
      "  Q115390 = Yes (%)                  862 (62.1)      709 (57.5)   0.016     \n",
      "  Q114961 = Yes (%)                  724 (50.2)      617 (48.2)   0.323     \n",
      "  Q114748 = Yes (%)                  853 (56.0)      764 (56.6)   0.779     \n",
      "  Q115195 = Yes (%)                  978 (67.1)      800 (61.5)   0.003     \n",
      "  Q114517 = Yes (%)                  461 (30.7)      406 (31.2)   0.831     \n",
      "  Q114386 = TMI (%)                  646 (44.2)      544 (42.3)   0.315     \n",
      "  Q113992 = Yes (%)                  455 (29.8)      412 (30.8)   0.573     \n",
      "  Q114152 = Yes (%)                  419 (29.8)      399 (31.9)   0.239     \n",
      "  Q113583 = Tunes (%)               1014 (69.3)      830 (64.2)   0.005     \n",
      "  Q113584 = Technology (%)           734 (50.6)      645 (49.8)   0.727     \n",
      "  Q113181 = Yes (%)                  495 (33.7)      662 (50.3)  <0.001     \n",
      "  Q112478 = Yes (%)                  858 (62.5)      740 (58.7)   0.050     \n",
      "  Q112512 = Yes (%)                 1160 (81.2)     1041 (81.1)   0.989     \n",
      "  Q112270 = Yes (%)                  608 (43.8)      576 (46.8)   0.140     \n",
      "  Q111848 = Yes (%)                  952 (62.4)      788 (58.7)   0.046     \n",
      "  Q111580 = Supportive (%)           916 (64.6)      853 (66.3)   0.352     \n",
      "  Q111220 = Yes (%)                  419 (28.5)      328 (24.8)   0.030     \n",
      "  Q110740 = PC (%)                   827 (55.6)      821 (60.3)   0.012     \n",
      "  Q109367 = Yes (%)                  918 (63.0)      783 (60.4)   0.174     \n",
      "  Q108950 = Risk-friendly (%)        460 (31.7)      426 (32.8)   0.549     \n",
      "  Q109244 = Yes (%)                  592 (41.7)      144 (11.2)  <0.001     \n",
      "  Q108855 = Yes! (%)                 742 (57.1)      749 (61.9)   0.017     \n",
      "  Q108617 = Yes (%)                  184 (13.0)      147 (11.5)   0.242     \n",
      "  Q108856 = Space (%)                928 (71.1)      832 (69.0)   0.278     \n",
      "  Q108754 = Yes (%)                  472 (33.9)      408 (32.4)   0.444     \n",
      "  Q108342 = Online (%)               465 (33.1)      361 (28.8)   0.018     \n",
      "  Q108343 = Yes (%)                  554 (39.4)      512 (40.3)   0.647     \n",
      "  Q107869 = Yes (%)                  725 (51.5)      708 (55.9)   0.025     \n",
      "  Q107491 = Yes (%)                 1262 (87.6)     1120 (86.6)   0.430     \n",
      "  Q106993 = Yes (%)                 1184 (82.5)     1081 (83.3)   0.600     \n",
      "  Q106997 = Yay people! (%)          683 (47.5)      582 (45.2)   0.228     \n",
      "  Q106272 = Yes (%)                  967 (68.3)      959 (74.9)  <0.001     \n",
      "  Q106388 = Yes (%)                  364 (26.5)      382 (30.3)   0.031     \n",
      "  Q106389 = Yes (%)                  660 (48.8)      562 (45.3)   0.085     \n",
      "  Q106042 = Yes (%)                  691 (49.5)      563 (44.1)   0.006     \n",
      "  Q105840 = Yes (%)                  678 (49.3)      513 (41.4)  <0.001     \n",
      "  Q105655 = Yes (%)                  807 (55.1)      723 (55.3)   0.949     \n",
      "  Q104996 = Yes (%)                  768 (53.0)      662 (50.7)   0.232     \n",
      "  Q103293 = Yes (%)                  683 (47.2)      573 (44.3)   0.145     \n",
      "  Q102906 = Yes (%)                  493 (35.5)      439 (35.3)   0.959     \n",
      "  Q102674 = Yes (%)                  491 (35.8)      427 (34.6)   0.546     \n",
      "  Q102687 = Yes (%)                  741 (51.7)      615 (48.8)   0.149     \n",
      "  Q102289 = Yes (%)                  410 (29.5)      392 (31.5)   0.298     \n",
      "  Q102089 = Rent (%)                 486 (34.4)      371 (29.2)   0.005     \n",
      "  Q101162 = Pessimist (%)            517 (37.3)      475 (38.2)   0.681     \n",
      "  Q101163 = Mom (%)                  632 (47.5)      445 (37.1)  <0.001     \n",
      "  Q101596 = Yes (%)                  443 (32.5)      488 (38.6)   0.001     \n",
      "  Q100689 = Yes (%)                  925 (62.3)      759 (58.4)   0.039     \n",
      "  Q100680 = Yes (%)                  870 (62.1)      726 (57.7)   0.025     \n",
      "  Q100562 = Yes (%)                 1139 (81.2)     1015 (81.3)   0.997     \n",
      "  Q99982 = Nope (%)                  640 (46.9)      607 (49.0)   0.293     \n",
      "  Q100010 = Yes (%)                 1142 (79.1)     1035 (81.0)   0.232     \n",
      "  Q99716 = Yes (%)                   183 (12.9)      122 ( 9.8)   0.014     \n",
      "  Q99581 = Yes (%)                   190 (13.2)      185 (14.4)   0.432     \n",
      "  Q99480 = Yes (%)                  1070 (74.9)     1062 (82.3)  <0.001     \n",
      "  Q98869 = Yes (%)                   996 (72.4)     1006 (82.6)  <0.001     \n",
      "  Q98578 = Yes (%)                   500 (36.4)      452 (36.4)   1.000     \n",
      "  Q98059 = Yes (%)                  1334 (90.2)     1164 (90.9)   0.550     \n",
      "  Q98078 = Yes (%)                   607 (44.4)      489 (40.9)   0.073     \n",
      "  Q98197 = Yes (%)                   442 (31.2)      597 (48.8)  <0.001     \n",
      "  Q96024 = Yes (%)                   818 (58.6)      765 (63.0)   0.024     \n"
     ]
    }
   ],
   "source": [
    "library(tableone)\n",
    "vars <- names(train.data)[-c(1, 7)]\n",
    "fvars <- vars[-1]\n",
    "tbl <- CreateTableOne(vars, \"Party\", train.data, fvars)\n",
    "print(tbl)"
   ]
  },
  {
   "cell_type": "code",
   "execution_count": 5,
   "metadata": {
    "collapsed": true
   },
   "outputs": [],
   "source": [
    "mod.glm <- glm(Party ~ ., data = train.data[, -1], family = \"binomial\")"
   ]
  },
  {
   "cell_type": "code",
   "execution_count": 6,
   "metadata": {
    "collapsed": false,
    "scrolled": true
   },
   "outputs": [
    {
     "data": {
      "text/plain": [
       "\n",
       "Call:\n",
       "glm(formula = Party ~ ., family = \"binomial\", data = train.data[, \n",
       "    -1])\n",
       "\n",
       "Deviance Residuals: \n",
       "    Min       1Q   Median       3Q      Max  \n",
       "-2.5822  -0.8599  -0.1507   0.8821   2.7772  \n",
       "\n",
       "Coefficients:\n",
       "                                           Estimate Std. Error z value Pr(>|z|)\n",
       "(Intercept)                                2.108249  30.838118   0.068   0.9455\n",
       "YOB                                       -0.001423   0.015519  -0.092   0.9269\n",
       "GenderMale                                -0.763292   0.334798  -2.280   0.0226\n",
       "Income.L                                  -0.688942   0.376289  -1.831   0.0671\n",
       "Income.Q                                   0.670283   0.311310   2.153   0.0313\n",
       "Income.C                                  -0.338258   0.294258  -1.150   0.2503\n",
       "Income^4                                  -0.059439   0.282202  -0.211   0.8332\n",
       "Income^5                                  -0.068248   0.283464  -0.241   0.8097\n",
       "HouseholdStatusDomestic Partners (w/kids) -2.825776   1.547785  -1.826   0.0679\n",
       "HouseholdStatusMarried (no kids)           0.473434   0.704832   0.672   0.5018\n",
       "HouseholdStatusMarried (w/kids)            0.352923   0.630228   0.560   0.5755\n",
       "HouseholdStatusSingle (no kids)            0.524720   0.607134   0.864   0.3874\n",
       "HouseholdStatusSingle (w/kids)            -0.878110   0.842920  -1.042   0.2975\n",
       "EducationLevel.L                          -0.614061   0.575317  -1.067   0.2858\n",
       "EducationLevel.Q                          -0.427637   0.515846  -0.829   0.4071\n",
       "EducationLevel.C                          -0.108986   0.407761  -0.267   0.7893\n",
       "EducationLevel^4                          -0.495775   0.367676  -1.348   0.1775\n",
       "EducationLevel^5                          -0.044052   0.334581  -0.132   0.8953\n",
       "EducationLevel^6                           0.225284   0.348460   0.647   0.5179\n",
       "Q124742Yes                                -0.105357   0.262887  -0.401   0.6886\n",
       "Q124122Yes                                 0.017879   0.238439   0.075   0.9402\n",
       "Q123464Yes                                -0.204903   0.495356  -0.414   0.6791\n",
       "Q123621Yes                                 0.183447   0.321881   0.570   0.5687\n",
       "Q122769Yes                                 0.358976   0.246796   1.455   0.1458\n",
       "Q122770Yes                                -0.559613   0.253020  -2.212   0.0270\n",
       "Q122771Public                             -0.236919   0.325054  -0.729   0.4661\n",
       "Q122120Yes                                -0.065621   0.293247  -0.224   0.8229\n",
       "Q121699Yes                                -0.514120   0.311405  -1.651   0.0987\n",
       "Q121700Yes                                -0.125195   0.357324  -0.350   0.7261\n",
       "Q120978Yes                                 0.243285   0.242635   1.003   0.3160\n",
       "Q121011Yes                                -0.125688   0.248881  -0.505   0.6136\n",
       "Q120379Yes                                -0.228216   0.301850  -0.756   0.4496\n",
       "Q120650Yes                                -0.293469   0.411856  -0.713   0.4761\n",
       "Q120472Science                             0.142319   0.277933   0.512   0.6086\n",
       "Q120194Try first                          -0.204904   0.240808  -0.851   0.3948\n",
       "Q120012Yes                                 0.147608   0.240565   0.614   0.5395\n",
       "Q120014Yes                                 0.269606   0.260747   1.034   0.3011\n",
       "Q119334Yes                                 0.003027   0.260271   0.012   0.9907\n",
       "Q119851Yes                                -0.567113   0.248667  -2.281   0.0226\n",
       "Q119650Receiving                          -0.646159   0.298798  -2.163   0.0306\n",
       "Q118892Yes                                -0.344528   0.249837  -1.379   0.1679\n",
       "Q118117Yes                                 0.019887   0.269128   0.074   0.9411\n",
       "Q118232Pragmatist                          0.184973   0.250980   0.737   0.4611\n",
       "Q118233Yes                                -0.121521   0.289680  -0.420   0.6748\n",
       "Q118237Yes                                 0.580934   0.276301   2.103   0.0355\n",
       "Q117186Hot headed                         -0.548680   0.261930  -2.095   0.0362\n",
       "Q117193Standard hours                      0.098436   0.252408   0.390   0.6965\n",
       "Q116797Yes                                 0.250022   0.251767   0.993   0.3207\n",
       "Q116881Right                               0.379348   0.270593   1.402   0.1609\n",
       "Q116953Yes                                -0.060913   0.266765  -0.228   0.8194\n",
       "Q116601Yes                                 0.286640   0.320149   0.895   0.3706\n",
       "Q116441Yes                                 0.580484   0.262817   2.209   0.0272\n",
       "Q116448Yes                                -0.024105   0.241483  -0.100   0.9205\n",
       "Q116197P.M.                                0.140912   0.261657   0.539   0.5902\n",
       "Q115602Yes                                -0.236401   0.301917  -0.783   0.4336\n",
       "Q115777Start                               0.117722   0.226005   0.521   0.6024\n",
       "Q115610Yes                                 0.170311   0.303637   0.561   0.5749\n",
       "Q115611Yes                                 0.012910   0.267561   0.048   0.9615\n",
       "Q115899Me                                  0.129925   0.246350   0.527   0.5979\n",
       "Q115390Yes                                 0.178585   0.241316   0.740   0.4593\n",
       "Q114961Yes                                -0.306100   0.251122  -1.219   0.2229\n",
       "Q114748Yes                                 0.004211   0.230457   0.018   0.9854\n",
       "Q115195Yes                                 0.228614   0.251676   0.908   0.3637\n",
       "Q114517Yes                                 0.095403   0.270711   0.352   0.7245\n",
       "Q114386TMI                                 0.248901   0.249407   0.998   0.3183\n",
       "Q113992Yes                                 0.286140   0.268825   1.064   0.2871\n",
       "Q114152Yes                                -0.386239   0.288557  -1.339   0.1807\n",
       "Q113583Tunes                              -0.302174   0.276287  -1.094   0.2741\n",
       "Q113584Technology                          0.421867   0.261950   1.610   0.1073\n",
       "Q113181Yes                                 0.379210   0.413271   0.918   0.3588\n",
       "Q112478Yes                                -0.110395   0.246720  -0.447   0.6546\n",
       "Q112512Yes                                 0.114501   0.313817   0.365   0.7152\n",
       "Q112270Yes                                 0.226261   0.235760   0.960   0.3372\n",
       "Q111848Yes                                 0.160159   0.254494   0.629   0.5291\n",
       "Q111580Supportive                         -0.107463   0.260388  -0.413   0.6798\n",
       "Q111220Yes                                -0.609672   0.270538  -2.254   0.0242\n",
       "Q110740PC                                  0.117078   0.230994   0.507   0.6123\n",
       "Q109367Yes                                 0.042448   0.286711   0.148   0.8823\n",
       "Q108950Risk-friendly                       0.314946   0.290952   1.082   0.2790\n",
       "Q109244Yes                                -2.029853   0.342268  -5.931 3.02e-09\n",
       "Q108855Yes!                                0.388965   0.263148   1.478   0.1394\n",
       "Q108617Yes                                 0.759356   0.417736   1.818   0.0691\n",
       "Q108856Space                              -0.205170   0.288267  -0.712   0.4766\n",
       "Q108754Yes                                -0.067169   0.268254  -0.250   0.8023\n",
       "Q108342Online                             -0.266394   0.281566  -0.946   0.3441\n",
       "Q108343Yes                                -0.172461   0.301441  -0.572   0.5672\n",
       "Q107869Yes                                 0.171409   0.252916   0.678   0.4979\n",
       "Q107491Yes                                 0.957807   0.378637   2.530   0.0114\n",
       "Q106993Yes                                 0.013458   0.317567   0.042   0.9662\n",
       "Q106997Yay people!                        -0.350012   0.266894  -1.311   0.1897\n",
       "Q106272Yes                                -0.237525   0.290541  -0.818   0.4136\n",
       "Q106388Yes                                 0.157313   0.289359   0.544   0.5867\n",
       "Q106389Yes                                -0.173736   0.244983  -0.709   0.4782\n",
       "Q106042Yes                                -0.458044   0.261786  -1.750   0.0802\n",
       "Q105840Yes                                -0.363395   0.260702  -1.394   0.1633\n",
       "Q105655Yes                                 0.454835   0.241069   1.887   0.0592\n",
       "Q104996Yes                                -0.145477   0.246975  -0.589   0.5558\n",
       "Q103293Yes                                -0.004399   0.244969  -0.018   0.9857\n",
       "Q102906Yes                                 0.207856   0.273264   0.761   0.4469\n",
       "Q102674Yes                                -0.340365   0.302253  -1.126   0.2601\n",
       "Q102687Yes                                -0.110620   0.249225  -0.444   0.6571\n",
       "Q102289Yes                                -0.220597   0.292997  -0.753   0.4515\n",
       "Q102089Rent                               -0.451247   0.303103  -1.489   0.1366\n",
       "Q101162Pessimist                           0.122833   0.262764   0.467   0.6402\n",
       "Q101163Mom                                -0.523916   0.245465  -2.134   0.0328\n",
       "Q101596Yes                                 0.517401   0.270715   1.911   0.0560\n",
       "Q100689Yes                                 0.151887   0.265377   0.572   0.5671\n",
       "Q100680Yes                                 0.111091   0.251182   0.442   0.6583\n",
       "Q100562Yes                                 0.195979   0.330956   0.592   0.5537\n",
       "Q99982Nope                                 0.010408   0.244119   0.043   0.9660\n",
       "Q100010Yes                                 0.363483   0.298470   1.218   0.2233\n",
       "Q99716Yes                                 -0.170676   0.411550  -0.415   0.6783\n",
       "Q99581Yes                                 -0.063120   0.343894  -0.184   0.8544\n",
       "Q99480Yes                                 -0.384792   0.307075  -1.253   0.2102\n",
       "Q98869Yes                                  0.141303   0.332903   0.424   0.6712\n",
       "Q98578Yes                                  0.005545   0.263343   0.021   0.9832\n",
       "Q98059Yes                                  0.320655   0.415097   0.772   0.4398\n",
       "Q98078Yes                                 -0.014314   0.245124  -0.058   0.9534\n",
       "Q98197Yes                                  0.144756   0.408223   0.355   0.7229\n",
       "Q96024Yes                                  0.152861   0.257590   0.593   0.5529\n",
       "                                             \n",
       "(Intercept)                                  \n",
       "YOB                                          \n",
       "GenderMale                                *  \n",
       "Income.L                                  .  \n",
       "Income.Q                                  *  \n",
       "Income.C                                     \n",
       "Income^4                                     \n",
       "Income^5                                     \n",
       "HouseholdStatusDomestic Partners (w/kids) .  \n",
       "HouseholdStatusMarried (no kids)             \n",
       "HouseholdStatusMarried (w/kids)              \n",
       "HouseholdStatusSingle (no kids)              \n",
       "HouseholdStatusSingle (w/kids)               \n",
       "EducationLevel.L                             \n",
       "EducationLevel.Q                             \n",
       "EducationLevel.C                             \n",
       "EducationLevel^4                             \n",
       "EducationLevel^5                             \n",
       "EducationLevel^6                             \n",
       "Q124742Yes                                   \n",
       "Q124122Yes                                   \n",
       "Q123464Yes                                   \n",
       "Q123621Yes                                   \n",
       "Q122769Yes                                   \n",
       "Q122770Yes                                *  \n",
       "Q122771Public                                \n",
       "Q122120Yes                                   \n",
       "Q121699Yes                                .  \n",
       "Q121700Yes                                   \n",
       "Q120978Yes                                   \n",
       "Q121011Yes                                   \n",
       "Q120379Yes                                   \n",
       "Q120650Yes                                   \n",
       "Q120472Science                               \n",
       "Q120194Try first                             \n",
       "Q120012Yes                                   \n",
       "Q120014Yes                                   \n",
       "Q119334Yes                                   \n",
       "Q119851Yes                                *  \n",
       "Q119650Receiving                          *  \n",
       "Q118892Yes                                   \n",
       "Q118117Yes                                   \n",
       "Q118232Pragmatist                            \n",
       "Q118233Yes                                   \n",
       "Q118237Yes                                *  \n",
       "Q117186Hot headed                         *  \n",
       "Q117193Standard hours                        \n",
       "Q116797Yes                                   \n",
       "Q116881Right                                 \n",
       "Q116953Yes                                   \n",
       "Q116601Yes                                   \n",
       "Q116441Yes                                *  \n",
       "Q116448Yes                                   \n",
       "Q116197P.M.                                  \n",
       "Q115602Yes                                   \n",
       "Q115777Start                                 \n",
       "Q115610Yes                                   \n",
       "Q115611Yes                                   \n",
       "Q115899Me                                    \n",
       "Q115390Yes                                   \n",
       "Q114961Yes                                   \n",
       "Q114748Yes                                   \n",
       "Q115195Yes                                   \n",
       "Q114517Yes                                   \n",
       "Q114386TMI                                   \n",
       "Q113992Yes                                   \n",
       "Q114152Yes                                   \n",
       "Q113583Tunes                                 \n",
       "Q113584Technology                            \n",
       "Q113181Yes                                   \n",
       "Q112478Yes                                   \n",
       "Q112512Yes                                   \n",
       "Q112270Yes                                   \n",
       "Q111848Yes                                   \n",
       "Q111580Supportive                            \n",
       "Q111220Yes                                *  \n",
       "Q110740PC                                    \n",
       "Q109367Yes                                   \n",
       "Q108950Risk-friendly                         \n",
       "Q109244Yes                                ***\n",
       "Q108855Yes!                                  \n",
       "Q108617Yes                                .  \n",
       "Q108856Space                                 \n",
       "Q108754Yes                                   \n",
       "Q108342Online                                \n",
       "Q108343Yes                                   \n",
       "Q107869Yes                                   \n",
       "Q107491Yes                                *  \n",
       "Q106993Yes                                   \n",
       "Q106997Yay people!                           \n",
       "Q106272Yes                                   \n",
       "Q106388Yes                                   \n",
       "Q106389Yes                                   \n",
       "Q106042Yes                                .  \n",
       "Q105840Yes                                   \n",
       "Q105655Yes                                .  \n",
       "Q104996Yes                                   \n",
       "Q103293Yes                                   \n",
       "Q102906Yes                                   \n",
       "Q102674Yes                                   \n",
       "Q102687Yes                                   \n",
       "Q102289Yes                                   \n",
       "Q102089Rent                                  \n",
       "Q101162Pessimist                             \n",
       "Q101163Mom                                *  \n",
       "Q101596Yes                                .  \n",
       "Q100689Yes                                   \n",
       "Q100680Yes                                   \n",
       "Q100562Yes                                   \n",
       "Q99982Nope                                   \n",
       "Q100010Yes                                   \n",
       "Q99716Yes                                    \n",
       "Q99581Yes                                    \n",
       "Q99480Yes                                    \n",
       "Q98869Yes                                    \n",
       "Q98578Yes                                    \n",
       "Q98059Yes                                    \n",
       "Q98078Yes                                    \n",
       "Q98197Yes                                    \n",
       "Q96024Yes                                    \n",
       "---\n",
       "Signif. codes:  0 '***' 0.001 '**' 0.01 '*' 0.05 '.' 0.1 ' ' 1\n",
       "\n",
       "(Dispersion parameter for binomial family taken to be 1)\n",
       "\n",
       "    Null deviance: 767.94  on 553  degrees of freedom\n",
       "Residual deviance: 585.40  on 434  degrees of freedom\n",
       "  (3901 observations deleted due to missingness)\n",
       "AIC: 825.4\n",
       "\n",
       "Number of Fisher Scoring iterations: 5\n"
      ]
     },
     "metadata": {},
     "output_type": "display_data"
    }
   ],
   "source": [
    "summary(mod.glm)"
   ]
  },
  {
   "cell_type": "code",
   "execution_count": 7,
   "metadata": {
    "collapsed": true
   },
   "outputs": [],
   "source": [
    "set.seed(123)\n",
    "seeds <- vector(mode = \"list\", length = 51)\n",
    "for(i in 1:50) seeds[[i]] <- sample.int(1000, 22)\n",
    "\n",
    "seeds[[51]] <- sample.int(1000, 1)"
   ]
  },
  {
   "cell_type": "code",
   "execution_count": 8,
   "metadata": {
    "collapsed": false
   },
   "outputs": [],
   "source": [
    "trCtrl <- trainControl(method = \"repeatedcv\", repeats = 5, seeds = seeds, classProbs = TRUE, returnResamp = \"final\", \n",
    "                       summaryFunction = twoClassSummary)"
   ]
  },
  {
   "cell_type": "code",
   "execution_count": 9,
   "metadata": {
    "collapsed": false
   },
   "outputs": [
    {
     "name": "stderr",
     "output_type": "stream",
     "text": [
      "Loading required package: foreach\n",
      "\n",
      "Attaching package: 'foreach'\n",
      "\n",
      "The following objects are masked from 'package:purrr':\n",
      "\n",
      "    accumulate, when\n",
      "\n",
      "Loading required package: iterators\n",
      "Loading required package: parallel\n"
     ]
    }
   ],
   "source": [
    "library(doParallel)\n",
    "registerDoParallel()"
   ]
  },
  {
   "cell_type": "markdown",
   "metadata": {},
   "source": [
    "### LDA"
   ]
  },
  {
   "cell_type": "markdown",
   "metadata": {},
   "source": [
    "#### Notes on Models\n",
    "\n",
    "* train.set with KNN imputing\n",
    "    - NZV makes no difference\n",
    "    - BoxCox makes no difference\n",
    "    - PCA makes no difference\n",
    "* train.dv improves over train.set but gives warning for collinearity\n",
    "* train.hc improves over train.dv but gives warning for collinearity\n",
    "    - PCA slightly decreases accuracy, kappa, and specificity; slightly increases sensitivity; no warning for collinearity"
   ]
  },
  {
   "cell_type": "code",
   "execution_count": 30,
   "metadata": {
    "collapsed": false
   },
   "outputs": [
    {
     "name": "stderr",
     "output_type": "stream",
     "text": [
      "Warning message:\n",
      "In train.default(x = train.set[, -1], y = train.party, method = \"lda\", : The metric \"Accuracy\" was not in the result set. ROC will be used instead."
     ]
    }
   ],
   "source": [
    "set.seed(1056)\n",
    "lda1 <- train(x = train.set[, -1], y = train.party, method = \"lda\", trControl = trCtrl, preProcess = \"knnImpute\")"
   ]
  },
  {
   "cell_type": "code",
   "execution_count": 31,
   "metadata": {
    "collapsed": false
   },
   "outputs": [],
   "source": [
    "pred.lda1 <- predict(lda1, newdata = valid.set[, -1], na.action = na.pass)\n",
    "cm.lda1 <- confusionMatrix(pred.lda1, valid.party)"
   ]
  },
  {
   "cell_type": "code",
   "execution_count": 32,
   "metadata": {
    "collapsed": false
   },
   "outputs": [
    {
     "name": "stderr",
     "output_type": "stream",
     "text": [
      "Warning message:\n",
      "In gsub(\"knnImpute\", paste(x$k, \"nearest neighbor imputation\"), : argument 'replacement' has length > 1 and only the first element will be usedWarning message:\n",
      "In gsub(\"knnImpute\", paste(x$k, \"nearest neighbor imputation\"), : argument 'replacement' has length > 1 and only the first element will be used"
     ]
    },
    {
     "data": {
      "text/plain": [
       "Linear Discriminant Analysis \n",
       "\n",
       "4455 samples\n",
       " 106 predictor\n",
       "   2 classes: 'Democrat', 'Republican' \n",
       "\n",
       "Pre-processing: YOB nearest neighbor imputation (106), centered (106),\n",
       " scaled (106) \n",
       "Resampling: Cross-Validated (10 fold, repeated 5 times) \n",
       "Summary of sample sizes: 4010, 4010, 4009, 4009, 4010, 4010, ... \n",
       "Resampling results:\n",
       "\n",
       "  ROC        Sens       Spec     \n",
       "  0.6652186  0.6391196  0.5836564\n",
       "\n",
       " "
      ]
     },
     "metadata": {},
     "output_type": "display_data"
    }
   ],
   "source": [
    "lda1"
   ]
  },
  {
   "cell_type": "code",
   "execution_count": 33,
   "metadata": {
    "collapsed": false
   },
   "outputs": [
    {
     "data": {
      "text/plain": [
       "Confusion Matrix and Statistics\n",
       "\n",
       "            Reference\n",
       "Prediction   Democrat Republican\n",
       "  Democrat        362        194\n",
       "  Republican      228        329\n",
       "                                          \n",
       "               Accuracy : 0.6208          \n",
       "                 95% CI : (0.5916, 0.6494)\n",
       "    No Information Rate : 0.5301          \n",
       "    P-Value [Acc > NIR] : 6.24e-10        \n",
       "                                          \n",
       "                  Kappa : 0.2417          \n",
       " Mcnemar's Test P-Value : 0.1082          \n",
       "                                          \n",
       "            Sensitivity : 0.6136          \n",
       "            Specificity : 0.6291          \n",
       "         Pos Pred Value : 0.6511          \n",
       "         Neg Pred Value : 0.5907          \n",
       "             Prevalence : 0.5301          \n",
       "         Detection Rate : 0.3252          \n",
       "   Detection Prevalence : 0.4996          \n",
       "      Balanced Accuracy : 0.6213          \n",
       "                                          \n",
       "       'Positive' Class : Democrat        \n",
       "                                          "
      ]
     },
     "metadata": {},
     "output_type": "display_data"
    }
   ],
   "source": [
    "cm.lda1"
   ]
  },
  {
   "cell_type": "code",
   "execution_count": 34,
   "metadata": {
    "collapsed": false
   },
   "outputs": [
    {
     "name": "stderr",
     "output_type": "stream",
     "text": [
      "Warning message:\n",
      "In train.default(x = train.dv[, -1], y = train.party, method = \"lda\", : The metric \"Accuracy\" was not in the result set. ROC will be used instead.Warning message:\n",
      "In lda.default(x, grouping, ...): variables are collinear"
     ]
    }
   ],
   "source": [
    "set.seed(1056)\n",
    "lda2 <- train(x = train.dv[, -1], y = train.party, method = \"lda\", trControl = trCtrl, preProcess = c(\"knnImpute\"))"
   ]
  },
  {
   "cell_type": "code",
   "execution_count": 36,
   "metadata": {
    "collapsed": false
   },
   "outputs": [],
   "source": [
    "pred.lda2 <- predict(lda2, newdata = valid.dv[, -1], na.action = na.pass)\n",
    "cm.lda2 <- confusionMatrix(pred.lda2, valid.party)"
   ]
  },
  {
   "cell_type": "code",
   "execution_count": 37,
   "metadata": {
    "collapsed": false
   },
   "outputs": [
    {
     "name": "stderr",
     "output_type": "stream",
     "text": [
      "Warning message:\n",
      "In gsub(\"knnImpute\", paste(x$k, \"nearest neighbor imputation\"), : argument 'replacement' has length > 1 and only the first element will be usedWarning message:\n",
      "In gsub(\"knnImpute\", paste(x$k, \"nearest neighbor imputation\"), : argument 'replacement' has length > 1 and only the first element will be used"
     ]
    },
    {
     "data": {
      "text/plain": [
       "Linear Discriminant Analysis \n",
       "\n",
       "4455 samples\n",
       " 224 predictor\n",
       "   2 classes: 'Democrat', 'Republican' \n",
       "\n",
       "Pre-processing: YOB nearest neighbor imputation (224), centered (224),\n",
       " scaled (224) \n",
       "Resampling: Cross-Validated (10 fold, repeated 5 times) \n",
       "Summary of sample sizes: 4010, 4010, 4009, 4009, 4010, 4010, ... \n",
       "Resampling results:\n",
       "\n",
       "  ROC        Sens       Spec     \n",
       "  0.6646455  0.6450526  0.5853985\n",
       "\n",
       " "
      ]
     },
     "metadata": {},
     "output_type": "display_data"
    }
   ],
   "source": [
    "lda2"
   ]
  },
  {
   "cell_type": "code",
   "execution_count": 38,
   "metadata": {
    "collapsed": false
   },
   "outputs": [
    {
     "data": {
      "text/plain": [
       "Confusion Matrix and Statistics\n",
       "\n",
       "            Reference\n",
       "Prediction   Democrat Republican\n",
       "  Democrat        371        197\n",
       "  Republican      219        326\n",
       "                                          \n",
       "               Accuracy : 0.6262          \n",
       "                 95% CI : (0.5971, 0.6547)\n",
       "    No Information Rate : 0.5301          \n",
       "    P-Value [Acc > NIR] : 5.961e-11       \n",
       "                                          \n",
       "                  Kappa : 0.2515          \n",
       " Mcnemar's Test P-Value : 0.3032          \n",
       "                                          \n",
       "            Sensitivity : 0.6288          \n",
       "            Specificity : 0.6233          \n",
       "         Pos Pred Value : 0.6532          \n",
       "         Neg Pred Value : 0.5982          \n",
       "             Prevalence : 0.5301          \n",
       "         Detection Rate : 0.3333          \n",
       "   Detection Prevalence : 0.5103          \n",
       "      Balanced Accuracy : 0.6261          \n",
       "                                          \n",
       "       'Positive' Class : Democrat        \n",
       "                                          "
      ]
     },
     "metadata": {},
     "output_type": "display_data"
    }
   ],
   "source": [
    "cm.lda2"
   ]
  },
  {
   "cell_type": "code",
   "execution_count": 41,
   "metadata": {
    "collapsed": false
   },
   "outputs": [],
   "source": [
    "hcor <- cor(train.dv, use = \"na.or.complete\")\n",
    "hc <- findCorrelation(hcor)\n",
    "train.hc <- train.dv[, -hc]\n",
    "valid.hc <- valid.dv[, -hc]"
   ]
  },
  {
   "cell_type": "code",
   "execution_count": 42,
   "metadata": {
    "collapsed": false
   },
   "outputs": [
    {
     "name": "stderr",
     "output_type": "stream",
     "text": [
      "Warning message:\n",
      "In train.default(x = train.hc[, -1], y = train.party, method = \"lda\", : The metric \"Accuracy\" was not in the result set. ROC will be used instead.Warning message:\n",
      "In lda.default(x, grouping, ...): variables are collinear"
     ]
    }
   ],
   "source": [
    "set.seed(1056)\n",
    "lda3 <- train(x = train.hc[, -1], y = train.party, method = \"lda\", trControl = trCtrl, \n",
    "              preProcess = \"knnImpute\")"
   ]
  },
  {
   "cell_type": "code",
   "execution_count": 43,
   "metadata": {
    "collapsed": true
   },
   "outputs": [],
   "source": [
    "pred.lda3 <- predict(lda3, newdata = valid.hc[, -1], na.action = na.pass)\n",
    "cm.lda3 <- confusionMatrix(pred.lda3, valid.party)"
   ]
  },
  {
   "cell_type": "code",
   "execution_count": 44,
   "metadata": {
    "collapsed": false
   },
   "outputs": [
    {
     "name": "stderr",
     "output_type": "stream",
     "text": [
      "Warning message:\n",
      "In gsub(\"knnImpute\", paste(x$k, \"nearest neighbor imputation\"), : argument 'replacement' has length > 1 and only the first element will be usedWarning message:\n",
      "In gsub(\"knnImpute\", paste(x$k, \"nearest neighbor imputation\"), : argument 'replacement' has length > 1 and only the first element will be used"
     ]
    },
    {
     "data": {
      "text/plain": [
       "Linear Discriminant Analysis \n",
       "\n",
       "4455 samples\n",
       " 122 predictor\n",
       "   2 classes: 'Democrat', 'Republican' \n",
       "\n",
       "Pre-processing: YOB nearest neighbor imputation (122), centered (122),\n",
       " scaled (122) \n",
       "Resampling: Cross-Validated (10 fold, repeated 5 times) \n",
       "Summary of sample sizes: 4010, 4010, 4009, 4009, 4010, 4010, ... \n",
       "Resampling results:\n",
       "\n",
       "  ROC        Sens       Spec     \n",
       "  0.6659793  0.6410738  0.5885436\n",
       "\n",
       " "
      ]
     },
     "metadata": {},
     "output_type": "display_data"
    }
   ],
   "source": [
    "lda3"
   ]
  },
  {
   "cell_type": "code",
   "execution_count": 45,
   "metadata": {
    "collapsed": false
   },
   "outputs": [
    {
     "data": {
      "text/plain": [
       "Confusion Matrix and Statistics\n",
       "\n",
       "            Reference\n",
       "Prediction   Democrat Republican\n",
       "  Democrat        384        199\n",
       "  Republican      206        324\n",
       "                                          \n",
       "               Accuracy : 0.6361          \n",
       "                 95% CI : (0.6071, 0.6644)\n",
       "    No Information Rate : 0.5301          \n",
       "    P-Value [Acc > NIR] : 5.658e-13       \n",
       "                                          \n",
       "                  Kappa : 0.2701          \n",
       " Mcnemar's Test P-Value : 0.7656          \n",
       "                                          \n",
       "            Sensitivity : 0.6508          \n",
       "            Specificity : 0.6195          \n",
       "         Pos Pred Value : 0.6587          \n",
       "         Neg Pred Value : 0.6113          \n",
       "             Prevalence : 0.5301          \n",
       "         Detection Rate : 0.3450          \n",
       "   Detection Prevalence : 0.5238          \n",
       "      Balanced Accuracy : 0.6352          \n",
       "                                          \n",
       "       'Positive' Class : Democrat        \n",
       "                                          "
      ]
     },
     "metadata": {},
     "output_type": "display_data"
    }
   ],
   "source": [
    "cm.lda3"
   ]
  },
  {
   "cell_type": "code",
   "execution_count": 47,
   "metadata": {
    "collapsed": false
   },
   "outputs": [
    {
     "name": "stderr",
     "output_type": "stream",
     "text": [
      "Warning message:\n",
      "In train.default(x = train.hc[, -1], y = train.party, method = \"lda\", : The metric \"Accuracy\" was not in the result set. ROC will be used instead."
     ]
    }
   ],
   "source": [
    "set.seed(1056)\n",
    "lda4 <- train(x = train.hc[, -1], y = train.party, method = \"lda\", trControl = trCtrl, \n",
    "              preProcess = c(\"knnImpute\", \"pca\"))"
   ]
  },
  {
   "cell_type": "code",
   "execution_count": 48,
   "metadata": {
    "collapsed": true
   },
   "outputs": [],
   "source": [
    "pred.lda4 <- predict(lda4, newdata = valid.hc[, -1], na.action = na.pass)\n",
    "cm.lda4 <- confusionMatrix(pred.lda4, valid.party)"
   ]
  },
  {
   "cell_type": "code",
   "execution_count": 49,
   "metadata": {
    "collapsed": false
   },
   "outputs": [
    {
     "name": "stderr",
     "output_type": "stream",
     "text": [
      "Warning message:\n",
      "In gsub(\"knnImpute\", paste(x$k, \"nearest neighbor imputation\"), : argument 'replacement' has length > 1 and only the first element will be usedWarning message:\n",
      "In gsub(\"knnImpute\", paste(x$k, \"nearest neighbor imputation\"), : argument 'replacement' has length > 1 and only the first element will be used"
     ]
    },
    {
     "data": {
      "text/plain": [
       "Linear Discriminant Analysis \n",
       "\n",
       "4455 samples\n",
       " 122 predictor\n",
       "   2 classes: 'Democrat', 'Republican' \n",
       "\n",
       "Pre-processing: YOB nearest neighbor imputation (122), principal\n",
       " component signal extraction (122), centered (122), scaled (122) \n",
       "Resampling: Cross-Validated (10 fold, repeated 5 times) \n",
       "Summary of sample sizes: 4010, 4010, 4009, 4009, 4010, 4010, ... \n",
       "Resampling results:\n",
       "\n",
       "  ROC        Sens       Spec     \n",
       "  0.6651858  0.6531052  0.5801463\n",
       "\n",
       " "
      ]
     },
     "metadata": {},
     "output_type": "display_data"
    }
   ],
   "source": [
    "lda4"
   ]
  },
  {
   "cell_type": "code",
   "execution_count": 50,
   "metadata": {
    "collapsed": false
   },
   "outputs": [
    {
     "data": {
      "text/plain": [
       "Confusion Matrix and Statistics\n",
       "\n",
       "            Reference\n",
       "Prediction   Democrat Republican\n",
       "  Democrat        393        210\n",
       "  Republican      197        313\n",
       "                                          \n",
       "               Accuracy : 0.6343          \n",
       "                 95% CI : (0.6053, 0.6627)\n",
       "    No Information Rate : 0.5301          \n",
       "    P-Value [Acc > NIR] : 1.365e-12       \n",
       "                                          \n",
       "                  Kappa : 0.2649          \n",
       " Mcnemar's Test P-Value : 0.552           \n",
       "                                          \n",
       "            Sensitivity : 0.6661          \n",
       "            Specificity : 0.5985          \n",
       "         Pos Pred Value : 0.6517          \n",
       "         Neg Pred Value : 0.6137          \n",
       "             Prevalence : 0.5301          \n",
       "         Detection Rate : 0.3531          \n",
       "   Detection Prevalence : 0.5418          \n",
       "      Balanced Accuracy : 0.6323          \n",
       "                                          \n",
       "       'Positive' Class : Democrat        \n",
       "                                          "
      ]
     },
     "metadata": {},
     "output_type": "display_data"
    }
   ],
   "source": [
    "cm.lda4"
   ]
  },
  {
   "cell_type": "code",
   "execution_count": 52,
   "metadata": {
    "collapsed": false
   },
   "outputs": [
    {
     "name": "stderr",
     "output_type": "stream",
     "text": [
      "Warning message:\n",
      "In train.default(x = train.dv2[, -1], y = train.party, method = \"lda\", : The metric \"Accuracy\" was not in the result set. ROC will be used instead.Warning message:\n",
      "In lda.default(x, grouping, ...): variables are collinear"
     ]
    }
   ],
   "source": [
    "set.seed(1056)\n",
    "lda5 <- train(x = train.dv2[, -1], y = train.party, method = \"lda\", trControl = trCtrl, \n",
    "              preProcess = \"knnImpute\")"
   ]
  },
  {
   "cell_type": "code",
   "execution_count": 53,
   "metadata": {
    "collapsed": true
   },
   "outputs": [],
   "source": [
    "pred.lda5 <- predict(lda5, newdata = valid.dv2[, -1], na.action = na.pass)\n",
    "cm.lda5 <- confusionMatrix(pred.lda5, valid.party)"
   ]
  },
  {
   "cell_type": "code",
   "execution_count": 54,
   "metadata": {
    "collapsed": false
   },
   "outputs": [
    {
     "name": "stderr",
     "output_type": "stream",
     "text": [
      "Warning message:\n",
      "In gsub(\"knnImpute\", paste(x$k, \"nearest neighbor imputation\"), : argument 'replacement' has length > 1 and only the first element will be usedWarning message:\n",
      "In gsub(\"knnImpute\", paste(x$k, \"nearest neighbor imputation\"), : argument 'replacement' has length > 1 and only the first element will be used"
     ]
    },
    {
     "data": {
      "text/plain": [
       "Linear Discriminant Analysis \n",
       "\n",
       "4455 samples\n",
       " 329 predictor\n",
       "   2 classes: 'Democrat', 'Republican' \n",
       "\n",
       "Pre-processing: YOB nearest neighbor imputation (329), centered (329),\n",
       " scaled (329) \n",
       "Resampling: Cross-Validated (10 fold, repeated 5 times) \n",
       "Summary of sample sizes: 4010, 4010, 4009, 4009, 4010, 4010, ... \n",
       "Resampling results:\n",
       "\n",
       "  ROC        Sens       Spec     \n",
       "  0.6567246  0.6444572  0.5693361\n",
       "\n",
       " "
      ]
     },
     "metadata": {},
     "output_type": "display_data"
    }
   ],
   "source": [
    "lda5"
   ]
  },
  {
   "cell_type": "code",
   "execution_count": 55,
   "metadata": {
    "collapsed": false
   },
   "outputs": [
    {
     "data": {
      "text/plain": [
       "Confusion Matrix and Statistics\n",
       "\n",
       "            Reference\n",
       "Prediction   Democrat Republican\n",
       "  Democrat        384        210\n",
       "  Republican      206        313\n",
       "                                          \n",
       "               Accuracy : 0.6262          \n",
       "                 95% CI : (0.5971, 0.6547)\n",
       "    No Information Rate : 0.5301          \n",
       "    P-Value [Acc > NIR] : 5.961e-11       \n",
       "                                          \n",
       "                  Kappa : 0.2494          \n",
       " Mcnemar's Test P-Value : 0.8831          \n",
       "                                          \n",
       "            Sensitivity : 0.6508          \n",
       "            Specificity : 0.5985          \n",
       "         Pos Pred Value : 0.6465          \n",
       "         Neg Pred Value : 0.6031          \n",
       "             Prevalence : 0.5301          \n",
       "         Detection Rate : 0.3450          \n",
       "   Detection Prevalence : 0.5337          \n",
       "      Balanced Accuracy : 0.6247          \n",
       "                                          \n",
       "       'Positive' Class : Democrat        \n",
       "                                          "
      ]
     },
     "metadata": {},
     "output_type": "display_data"
    }
   ],
   "source": [
    "cm.lda5"
   ]
  },
  {
   "cell_type": "code",
   "execution_count": 56,
   "metadata": {
    "collapsed": true
   },
   "outputs": [],
   "source": [
    "hcor2 <- cor(train.dv2, use = \"na.or.complete\")\n",
    "hc2 <- findCorrelation(hcor2)\n",
    "train.hc2 <- train.dv2[, -hc2]\n",
    "valid.hc2 <- valid.dv2[, -hc2]"
   ]
  },
  {
   "cell_type": "code",
   "execution_count": 57,
   "metadata": {
    "collapsed": false
   },
   "outputs": [
    {
     "name": "stderr",
     "output_type": "stream",
     "text": [
      "Warning message:\n",
      "In train.default(x = train.hc2[, -1], y = train.party, method = \"lda\", : The metric \"Accuracy\" was not in the result set. ROC will be used instead.Warning message:\n",
      "In lda.default(x, grouping, ...): variables are collinear"
     ]
    }
   ],
   "source": [
    "set.seed(1056)\n",
    "lda6 <- train(x = train.hc2[, -1], y = train.party, method = \"lda\", trControl = trCtrl, \n",
    "              preProcess = \"knnImpute\")"
   ]
  },
  {
   "cell_type": "code",
   "execution_count": 58,
   "metadata": {
    "collapsed": true
   },
   "outputs": [],
   "source": [
    "pred.lda6 <- predict(lda6, newdata = valid.hc2[, -1], na.action = na.pass)\n",
    "cm.lda6 <- confusionMatrix(pred.lda6, valid.party)"
   ]
  },
  {
   "cell_type": "code",
   "execution_count": 59,
   "metadata": {
    "collapsed": false
   },
   "outputs": [
    {
     "name": "stderr",
     "output_type": "stream",
     "text": [
      "Warning message:\n",
      "In gsub(\"knnImpute\", paste(x$k, \"nearest neighbor imputation\"), : argument 'replacement' has length > 1 and only the first element will be usedWarning message:\n",
      "In gsub(\"knnImpute\", paste(x$k, \"nearest neighbor imputation\"), : argument 'replacement' has length > 1 and only the first element will be used"
     ]
    },
    {
     "data": {
      "text/plain": [
       "Linear Discriminant Analysis \n",
       "\n",
       "4455 samples\n",
       " 315 predictor\n",
       "   2 classes: 'Democrat', 'Republican' \n",
       "\n",
       "Pre-processing: YOB nearest neighbor imputation (315), centered (315),\n",
       " scaled (315) \n",
       "Resampling: Cross-Validated (10 fold, repeated 5 times) \n",
       "Summary of sample sizes: 4010, 4010, 4009, 4009, 4010, 4010, ... \n",
       "Resampling results:\n",
       "\n",
       "  ROC        Sens       Spec    \n",
       "  0.6566775  0.6447958  0.569146\n",
       "\n",
       " "
      ]
     },
     "metadata": {},
     "output_type": "display_data"
    }
   ],
   "source": [
    "lda6"
   ]
  },
  {
   "cell_type": "code",
   "execution_count": 60,
   "metadata": {
    "collapsed": false
   },
   "outputs": [
    {
     "data": {
      "text/plain": [
       "Confusion Matrix and Statistics\n",
       "\n",
       "            Reference\n",
       "Prediction   Democrat Republican\n",
       "  Democrat        383        211\n",
       "  Republican      207        312\n",
       "                                         \n",
       "               Accuracy : 0.6244         \n",
       "                 95% CI : (0.5952, 0.653)\n",
       "    No Information Rate : 0.5301         \n",
       "    P-Value [Acc > NIR] : 1.324e-10      \n",
       "                                         \n",
       "                  Kappa : 0.2458         \n",
       " Mcnemar's Test P-Value : 0.8833         \n",
       "                                         \n",
       "            Sensitivity : 0.6492         \n",
       "            Specificity : 0.5966         \n",
       "         Pos Pred Value : 0.6448         \n",
       "         Neg Pred Value : 0.6012         \n",
       "             Prevalence : 0.5301         \n",
       "         Detection Rate : 0.3441         \n",
       "   Detection Prevalence : 0.5337         \n",
       "      Balanced Accuracy : 0.6229         \n",
       "                                         \n",
       "       'Positive' Class : Democrat       \n",
       "                                         "
      ]
     },
     "metadata": {},
     "output_type": "display_data"
    }
   ],
   "source": [
    "cm.lda6"
   ]
  },
  {
   "cell_type": "code",
   "execution_count": 61,
   "metadata": {
    "collapsed": false
   },
   "outputs": [
    {
     "name": "stderr",
     "output_type": "stream",
     "text": [
      "Warning message:\n",
      "In train.default(x = train.hc2[, -1], y = train.party, method = \"lda\", : The metric \"Accuracy\" was not in the result set. ROC will be used instead."
     ]
    }
   ],
   "source": [
    "set.seed(1056)\n",
    "lda7 <- train(x = train.hc2[, -1], y = train.party, method = \"lda\", trControl = trCtrl, \n",
    "              preProcess = c(\"knnImpute\", \"pca\"))"
   ]
  },
  {
   "cell_type": "code",
   "execution_count": 62,
   "metadata": {
    "collapsed": true
   },
   "outputs": [],
   "source": [
    "pred.lda7 <- predict(lda7, newdata = valid.hc2[, -1], na.action = na.pass)\n",
    "cm.lda7 <- confusionMatrix(pred.lda7, valid.party)"
   ]
  },
  {
   "cell_type": "code",
   "execution_count": 63,
   "metadata": {
    "collapsed": false
   },
   "outputs": [
    {
     "name": "stderr",
     "output_type": "stream",
     "text": [
      "Warning message:\n",
      "In gsub(\"knnImpute\", paste(x$k, \"nearest neighbor imputation\"), : argument 'replacement' has length > 1 and only the first element will be usedWarning message:\n",
      "In gsub(\"knnImpute\", paste(x$k, \"nearest neighbor imputation\"), : argument 'replacement' has length > 1 and only the first element will be used"
     ]
    },
    {
     "data": {
      "text/plain": [
       "Linear Discriminant Analysis \n",
       "\n",
       "4455 samples\n",
       " 315 predictor\n",
       "   2 classes: 'Democrat', 'Republican' \n",
       "\n",
       "Pre-processing: YOB nearest neighbor imputation (315), principal\n",
       " component signal extraction (315), centered (315), scaled (315) \n",
       "Resampling: Cross-Validated (10 fold, repeated 5 times) \n",
       "Summary of sample sizes: 4010, 4010, 4009, 4009, 4010, 4010, ... \n",
       "Resampling results:\n",
       "\n",
       "  ROC        Sens       Spec     \n",
       "  0.6653651  0.6579346  0.5664748\n",
       "\n",
       " "
      ]
     },
     "metadata": {},
     "output_type": "display_data"
    }
   ],
   "source": [
    "lda7"
   ]
  },
  {
   "cell_type": "code",
   "execution_count": 64,
   "metadata": {
    "collapsed": false
   },
   "outputs": [
    {
     "data": {
      "text/plain": [
       "Confusion Matrix and Statistics\n",
       "\n",
       "            Reference\n",
       "Prediction   Democrat Republican\n",
       "  Democrat        383        224\n",
       "  Republican      207        299\n",
       "                                          \n",
       "               Accuracy : 0.6128          \n",
       "                 95% CI : (0.5834, 0.6415)\n",
       "    No Information Rate : 0.5301          \n",
       "    P-Value [Acc > NIR] : 1.643e-08       \n",
       "                                          \n",
       "                  Kappa : 0.2213          \n",
       " Mcnemar's Test P-Value : 0.4409          \n",
       "                                          \n",
       "            Sensitivity : 0.6492          \n",
       "            Specificity : 0.5717          \n",
       "         Pos Pred Value : 0.6310          \n",
       "         Neg Pred Value : 0.5909          \n",
       "             Prevalence : 0.5301          \n",
       "         Detection Rate : 0.3441          \n",
       "   Detection Prevalence : 0.5454          \n",
       "      Balanced Accuracy : 0.6104          \n",
       "                                          \n",
       "       'Positive' Class : Democrat        \n",
       "                                          "
      ]
     },
     "metadata": {},
     "output_type": "display_data"
    }
   ],
   "source": [
    "cm.lda7"
   ]
  }
 ],
 "metadata": {
  "kernelspec": {
   "display_name": "R",
   "language": "R",
   "name": "ir"
  },
  "language_info": {
   "codemirror_mode": "r",
   "file_extension": ".r",
   "mimetype": "text/x-r-source",
   "name": "R",
   "pygments_lexer": "r",
   "version": "3.3.0"
  }
 },
 "nbformat": 4,
 "nbformat_minor": 0
}
