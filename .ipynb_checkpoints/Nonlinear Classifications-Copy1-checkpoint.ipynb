{
 "cells": [
  {
   "cell_type": "markdown",
   "metadata": {},
   "source": [
    "## Nonlinear Classification Models\n",
    "\n",
    "* Quadratic Discriminant Analysis\n",
    "* Regularized Discriminant Analysis\n",
    "* Mixture Discriminant Analysis"
   ]
  },
  {
   "cell_type": "code",
   "execution_count": 1,
   "metadata": {
    "collapsed": false,
    "scrolled": true
   },
   "outputs": [
    {
     "name": "stderr",
     "output_type": "stream",
     "text": [
      "\n",
      "Attaching package: 'dplyr'\n",
      "\n",
      "The following objects are masked from 'package:plyr':\n",
      "\n",
      "    arrange, count, desc, failwith, id, mutate, rename, summarise,\n",
      "    summarize\n",
      "\n",
      "The following objects are masked from 'package:stats':\n",
      "\n",
      "    filter, lag\n",
      "\n",
      "The following objects are masked from 'package:base':\n",
      "\n",
      "    intersect, setdiff, setequal, union\n",
      "\n",
      "\n",
      "Attaching package: 'tibble'\n",
      "\n",
      "The following objects are masked from 'package:dplyr':\n",
      "\n",
      "    as_data_frame, data_frame, data_frame_, frame_data, glimpse,\n",
      "    knit_print.trunc_mat, tbl_df, tibble, trunc_mat, type_sum\n",
      "\n",
      "Loading required package: lattice\n",
      "Loading required package: ggplot2\n",
      "\n",
      "Attaching package: 'purrr'\n",
      "\n",
      "The following object is masked from 'package:caret':\n",
      "\n",
      "    lift\n",
      "\n",
      "The following object is masked from 'package:dplyr':\n",
      "\n",
      "    order_by\n",
      "\n",
      "The following object is masked from 'package:plyr':\n",
      "\n",
      "    compact\n",
      "\n",
      "Loading required package: Rcpp\n",
      "mice 2.25 2015-11-09\n",
      "Loading required package: foreach\n",
      "\n",
      "Attaching package: 'foreach'\n",
      "\n",
      "The following objects are masked from 'package:purrr':\n",
      "\n",
      "    accumulate, when\n",
      "\n",
      "Loading required package: iterators\n",
      "Loading required package: parallel\n"
     ]
    }
   ],
   "source": [
    "source(\"2-model_tests.R\")"
   ]
  },
  {
   "cell_type": "code",
   "execution_count": 4,
   "metadata": {
    "collapsed": true
   },
   "outputs": [],
   "source": [
    "models <- list(\"qda\", \"rda\", \"mda\", \"fda\", \"earth\")\n",
    "noTune <- list(tuneGrid = NULL)\n",
    "rdaGrid <- list(tuneLength = 10)\n",
    "mdaGrid <- list(tuneGrid = expand.grid(.subclasses = 1:8))\n",
    "marsGrid <- list(tuneGrid = expand.grid(.degree = 1:2, .nprune = 2:38))\n",
    "tune <- list(noTune, rdaGrid, mdaGrid, marsGrid, marsGrid)\n",
    "prep <- list(NULL)"
   ]
  },
  {
   "cell_type": "code",
   "execution_count": 5,
   "metadata": {
    "collapsed": false,
    "scrolled": true
   },
   "outputs": [
    {
     "name": "stderr",
     "output_type": "stream",
     "text": [
      "Loading required package: MASS\n",
      "\n",
      "Attaching package: 'MASS'\n",
      "\n",
      "The following object is masked from 'package:dplyr':\n",
      "\n",
      "    select\n",
      "\n",
      "Warning message:\n",
      "In nominalTrainWorkflow(x = x, y = y, wts = weights, info = trainInfo, : There were missing values in resampled performance measures."
     ]
    },
    {
     "name": "stdout",
     "output_type": "stream",
     "text": [
      "Something is wrong; all the ROC metric values are missing:\n",
      "      ROC           Sens          Spec    \n",
      " Min.   : NA   Min.   : NA   Min.   : NA  \n",
      " 1st Qu.: NA   1st Qu.: NA   1st Qu.: NA  \n",
      " Median : NA   Median : NA   Median : NA  \n",
      " Mean   :NaN   Mean   :NaN   Mean   :NaN  \n",
      " 3rd Qu.: NA   3rd Qu.: NA   3rd Qu.: NA  \n",
      " Max.   : NA   Max.   : NA   Max.   : NA  \n",
      " NA's   :1     NA's   :1     NA's   :1    \n"
     ]
    },
    {
     "name": "stderr",
     "output_type": "stream",
     "text": [
      "Loading required package: klaR\n",
      "Loading required package: mda\n",
      "Loading required package: class\n",
      "Loaded mda 0.4-8\n",
      "\n",
      "Warning message:\n",
      "In nominalTrainWorkflow(x = x, y = y, wts = weights, info = trainInfo, : There were missing values in resampled performance measures."
     ]
    },
    {
     "name": "stdout",
     "output_type": "stream",
     "text": [
      "Something is wrong; all the ROC metric values are missing:\n",
      "      ROC           Sens          Spec    \n",
      " Min.   : NA   Min.   : NA   Min.   : NA  \n",
      " 1st Qu.: NA   1st Qu.: NA   1st Qu.: NA  \n",
      " Median : NA   Median : NA   Median : NA  \n",
      " Mean   :NaN   Mean   :NaN   Mean   :NaN  \n",
      " 3rd Qu.: NA   3rd Qu.: NA   3rd Qu.: NA  \n",
      " Max.   : NA   Max.   : NA   Max.   : NA  \n",
      " NA's   :8     NA's   :8     NA's   :8    \n"
     ]
    },
    {
     "name": "stderr",
     "output_type": "stream",
     "text": [
      "Loading required package: earth\n",
      "Loading required package: plotmo\n",
      "Loading required package: plotrix\n",
      "Loading required package: TeachingDemos\n",
      "\n",
      "Attaching package: 'TeachingDemos'\n",
      "\n",
      "The following object is masked from 'package:klaR':\n",
      "\n",
      "    triplot\n",
      "\n"
     ]
    },
    {
     "data": {
      "text/plain": [
       "$cl\n",
       "$earth\n",
       "Multivariate Adaptive Regression Spline \n",
       "\n",
       "4455 samples\n",
       " 315 predictor\n",
       "   2 classes: 'Democrat', 'Republican' \n",
       "\n",
       "No pre-processing\n",
       "Resampling: Cross-Validated (10 fold, repeated 5 times) \n",
       "Summary of sample sizes: 4010, 4009, 4010, 4010, 4010, 4009, ... \n",
       "Resampling results across tuning parameters:\n",
       "\n",
       "  degree  nprune  ROC        Sens       Spec     \n",
       "  1        2      0.4090136  0.2507434  0.9312294\n",
       "  1        3      0.3607258  0.8708138  0.2884320\n",
       "  1        4      0.3444515  0.7704366  0.4402069\n",
       "  1        5      0.4523879  0.7690760  0.4593233\n",
       "  1        6      0.5802722  0.7562833  0.4778560\n",
       "  1        7      0.5976013  0.7340867  0.4940000\n",
       "  1        8      0.6309751  0.7150347  0.5180583\n",
       "  1        9      0.6615922  0.6963080  0.5350595\n",
       "  1       10      0.6562376  0.6924229  0.5401212\n",
       "  1       11      0.6723598  0.6821637  0.5501431\n",
       "  1       12      0.6714347  0.6824272  0.5461353\n",
       "  1       13      0.6710233  0.6762422  0.5519613\n",
       "  1       14      0.6720926  0.6715823  0.5558710\n",
       "  1       15      0.6722628  0.6674330  0.5595995\n",
       "  1       16      0.6716518  0.6658210  0.5612308\n",
       "  1       17      0.6713719  0.6624305  0.5635174\n",
       "  1       18      0.6713159  0.6649728  0.5604662\n",
       "  1       19      0.6710171  0.6650611  0.5622784\n",
       "  1       20      0.6711511  0.6676010  0.5619918\n",
       "  1       21      0.6710279  0.6660774  0.5634222\n",
       "  1       22      0.6705462  0.6648913  0.5621795\n",
       "  1       23      0.6708064  0.6646367  0.5626539\n",
       "  1       24      0.6706691  0.6647218  0.5621777\n",
       "  1       25      0.6706751  0.6646381  0.5620825\n",
       "  1       26      0.6706751  0.6646381  0.5620825\n",
       "  1       27      0.6706751  0.6646381  0.5620825\n",
       "  1       28      0.6706751  0.6646381  0.5620825\n",
       "  1       29      0.6706751  0.6646381  0.5620825\n",
       "  1       30      0.6706751  0.6646381  0.5620825\n",
       "  1       31      0.6706751  0.6646381  0.5620825\n",
       "  1       32      0.6706751  0.6646381  0.5620825\n",
       "  1       33      0.6706751  0.6646381  0.5620825\n",
       "  1       34      0.6706751  0.6646381  0.5620825\n",
       "  1       35      0.6706751  0.6646381  0.5620825\n",
       "  1       36      0.6706751  0.6646381  0.5620825\n",
       "  1       37      0.6706751  0.6646381  0.5620825\n",
       "  1       38      0.6706751  0.6646381  0.5620825\n",
       "  2        2      0.4090136  0.2507434  0.9312294\n",
       "  2        3      0.3607258  0.8708138  0.2884320\n",
       "  2        4      0.3466137  0.7732332  0.4320729\n",
       "  2        5      0.4309608  0.7491472  0.4364361\n",
       "  2        6      0.4372724  0.7615276  0.4344375\n",
       "  2        7      0.4892759  0.7473865  0.4561604\n",
       "  2        8      0.5534447  0.7170729  0.4860729\n",
       "  2        9      0.5661285  0.7280051  0.4729633\n",
       "  2       10      0.5522740  0.7171540  0.4855844\n",
       "  2       11      0.6210381  0.7029368  0.4984812\n",
       "  2       12      0.6134987  0.7017414  0.5027674\n",
       "  2       13      0.6175754  0.6971709  0.5057375\n",
       "  2       14      0.6280290  0.6893807  0.5151675\n",
       "  2       15      0.6384288  0.6899760  0.5144179\n",
       "  2       16      0.6345895  0.6866724  0.5138423\n",
       "  2       17      0.6461608  0.6866627  0.5142283\n",
       "  2       18      0.6466851  0.6835318  0.5206298\n",
       "  2       19      0.6491970  0.6765826  0.5231980\n",
       "  2       20      0.6542615  0.6734474  0.5249278\n",
       "  2       21      0.6500181  0.6775166  0.5222543\n",
       "  2       22      0.6544268  0.6789562  0.5216851\n",
       "  2       23      0.6540455  0.6765047  0.5262648\n",
       "  2       24      0.6527962  0.6773507  0.5222588\n",
       "  2       25      0.6526446  0.6768408  0.5203477\n",
       "  2       26      0.6516593  0.6746449  0.5233060\n",
       "  2       27      0.6522492  0.6730373  0.5256947\n",
       "  2       28      0.6520725  0.6707498  0.5275224\n",
       "  2       29      0.6512523  0.6679532  0.5285742\n",
       "  2       30      0.6505173  0.6676972  0.5283810\n",
       "  2       31      0.6495562  0.6704917  0.5256108\n",
       "  2       32      0.6498358  0.6676947  0.5304762\n",
       "  2       33      0.6492618  0.6687953  0.5283782\n",
       "  2       34      0.6492019  0.6671837  0.5287605\n",
       "  2       35      0.6478341  0.6640553  0.5281900\n",
       "  2       36      0.6471298  0.6650665  0.5283819\n",
       "  2       37      0.6463261  0.6665912  0.5267614\n",
       "  2       38      0.6467655  0.6626071  0.5302875\n",
       "\n",
       "ROC was used to select the optimal model using  the largest value.\n",
       "The final values used for the model were nprune = 11 and degree = 1. \n",
       "\n",
       "attr(,\"class\")\n",
       "[1] \"caretList\"\n",
       "\n",
       "$cm\n",
       "$cm$earth\n",
       "Confusion Matrix and Statistics\n",
       "\n",
       "            Reference\n",
       "Prediction   Democrat Republican\n",
       "  Democrat        399        219\n",
       "  Republican      191        304\n",
       "                                        \n",
       "               Accuracy : 0.6316        \n",
       "                 95% CI : (0.6025, 0.66)\n",
       "    No Information Rate : 0.5301        \n",
       "    P-Value [Acc > NIR] : 4.974e-12     \n",
       "                                        \n",
       "                  Kappa : 0.2583        \n",
       " Mcnemar's Test P-Value : 0.1824        \n",
       "                                        \n",
       "            Sensitivity : 0.6763        \n",
       "            Specificity : 0.5813        \n",
       "         Pos Pred Value : 0.6456        \n",
       "         Neg Pred Value : 0.6141        \n",
       "             Prevalence : 0.5301        \n",
       "         Detection Rate : 0.3585        \n",
       "   Detection Prevalence : 0.5553        \n",
       "      Balanced Accuracy : 0.6288        \n",
       "                                        \n",
       "       'Positive' Class : Democrat      \n",
       "                                        \n",
       "\n"
      ]
     },
     "metadata": {},
     "output_type": "display_data"
    }
   ],
   "source": [
    "vars <- hc2\n",
    "mods1 <- run_models(train.dv2i, valid.dv2i, vars, models, tune, prep, trCtrl)\n",
    "mods1"
   ]
  },
  {
   "cell_type": "code",
   "execution_count": 25,
   "metadata": {
    "collapsed": false
   },
   "outputs": [],
   "source": [
    "train2 <- train.dv2i[, -c(1, hc2)]\n",
    "train2$Party <- train.party\n",
    "library(mda)\n",
    "\n",
    "mdl <- mda(Party ~ ., data = train2, subclasses = 3)\n",
    "\n",
    "#mdl <- train(Party ~ ., data = train2[, -c(1, hc2)], method = \"mda\", metric = \"ROC\", trControl = trCtrl,\n",
    "#             tuneGrid = expand.grid(.subclasses = 1:8))"
   ]
  },
  {
   "cell_type": "code",
   "execution_count": 19,
   "metadata": {
    "collapsed": false
   },
   "outputs": [
    {
     "data": {
      "text/html": [
       "<ol class=list-inline>\n",
       "\t<li>\"mda\"</li>\n",
       "\t<li>\"fda\"</li>\n",
       "</ol>\n"
      ],
      "text/latex": [
       "\\begin{enumerate*}\n",
       "\\item \"mda\"\n",
       "\\item \"fda\"\n",
       "\\end{enumerate*}\n"
      ],
      "text/markdown": [
       "1. \"mda\"\n",
       "2. \"fda\"\n",
       "\n",
       "\n"
      ],
      "text/plain": [
       "[1] \"mda\" \"fda\""
      ]
     },
     "metadata": {},
     "output_type": "display_data"
    }
   ],
   "source": [
    "class(mdl)"
   ]
  },
  {
   "cell_type": "code",
   "execution_count": 27,
   "metadata": {
    "collapsed": false
   },
   "outputs": [
    {
     "ename": "ERROR",
     "evalue": "Error in maxdist[l] <- x[l, i]: NAs are not allowed in subscripted assignments\n",
     "output_type": "error",
     "traceback": [
      "Error in maxdist[l] <- x[l, i]: NAs are not allowed in subscripted assignments\nTraceback:\n",
      "1. predict(mdl, valid.dv2i[, -c(1, hc2)], type = \"class\")",
      "2. predict.mda(mdl, valid.dv2i[, -c(1, hc2)], type = \"class\")",
      "3. softmax(pclass)"
     ]
    }
   ],
   "source": [
    "pred <- predict(mdl, valid.dv2i[, -c(1, hc2)], type = \"class\")\n",
    "pred"
   ]
  },
  {
   "cell_type": "code",
   "execution_count": null,
   "metadata": {
    "collapsed": true
   },
   "outputs": [],
   "source": [
    "models <- list(\"nnet\")\n",
    "nnetGrid <- list(tuneGrid = expand.grid(.size = 1:10, .decay = c(0, 0.1, 1, 2)))\n",
    "tune <- list(nnetGrid)\n",
    "prep <- list(list(c(\"center\", \"scale\", \"spatialSign\")))\n",
    "maxSize <- max(nnetGrid$.size)\n",
    "numWts <- 1 * (maxSize * (length(train.dv2i[, -c(1, vars)]) + 1) + maxSize + 1)\n",
    "mods2 <- run_models(train.dv2i, valid.dv2i, vars, models, tune, prep, trCtrl, trace = FALSE, maxit = 2000, MaxNWts = numWts)\n",
    "mods2"
   ]
  },
  {
   "cell_type": "code",
   "execution_count": null,
   "metadata": {
    "collapsed": true
   },
   "outputs": [],
   "source": [
    "models <- list(\"svmRadial\")"
   ]
  }
 ],
 "metadata": {
  "kernelspec": {
   "display_name": "R",
   "language": "R",
   "name": "ir"
  },
  "language_info": {
   "codemirror_mode": "r",
   "file_extension": ".r",
   "mimetype": "text/x-r-source",
   "name": "R",
   "pygments_lexer": "r",
   "version": "3.3.0"
  }
 },
 "nbformat": 4,
 "nbformat_minor": 0
}
