{
 "cells": [
  {
   "cell_type": "code",
   "execution_count": 14,
   "metadata": {
    "collapsed": false,
    "scrolled": true
   },
   "outputs": [],
   "source": [
    "source(\"2-model_tests.R\")"
   ]
  },
  {
   "cell_type": "code",
   "execution_count": 11,
   "metadata": {
    "collapsed": true
   },
   "outputs": [],
   "source": [
    "models <- list(\"xgbTree\")\n",
    "xgbGrid <- list(tuneGrid = expand.grid(nrounds = 1000, eta = c(0.01, 0.001, 0.0001), max_depth = c(2, 4, 6, 8, 10), \n",
    "                                      gamma = 1, colsample_bytree = 1, \n",
    "                                      min_child_weight = 1))\n",
    "tune <- list(xgbGrid)\n",
    "prep <- list(NULL)\n",
    "vars <- NULL"
   ]
  },
  {
   "cell_type": "code",
   "execution_count": 12,
   "metadata": {
    "collapsed": false
   },
   "outputs": [],
   "source": [
    "mods1 <- run_models(as.matrix(train.dv), as.matrix(valid.dv), vars, models, tune, prep, trCtrl)"
   ]
  },
  {
   "cell_type": "code",
   "execution_count": 13,
   "metadata": {
    "collapsed": false,
    "scrolled": true
   },
   "outputs": [
    {
     "data": {
      "text/plain": [
       "$cl\n",
       "$xgbTree\n",
       "eXtreme Gradient Boosting \n",
       "\n",
       "4455 samples\n",
       " 329 predictor\n",
       "   2 classes: 'Democrat', 'Republican' \n",
       "\n",
       "No pre-processing\n",
       "Resampling: Cross-Validated (10 fold, repeated 5 times) \n",
       "Summary of sample sizes: 4010, 4009, 4010, 4009, 4010, 4009, ... \n",
       "Resampling results across tuning parameters:\n",
       "\n",
       "  eta    max_depth  ROC        Sens       Spec     \n",
       "  1e-04   2         0.3617079  0.8597965  0.2997138\n",
       "  1e-04   4         0.5413733  0.7619559  0.4348713\n",
       "  1e-04   6         0.6203376  0.6933383  0.4741476\n",
       "  1e-04   8         0.6148974  0.6585325  0.4881768\n",
       "  1e-04  10         0.6042617  0.6397172  0.4920866\n",
       "  1e-03   2         0.6594252  0.7484842  0.4747924\n",
       "  1e-03   4         0.6681838  0.7336594  0.4872955\n",
       "  1e-03   6         0.6592980  0.7003651  0.5096468\n",
       "  1e-03   8         0.6519228  0.6788490  0.5216833\n",
       "  1e-03  10         0.6448845  0.6599621  0.5294208\n",
       "  1e-02   2         0.6794653  0.6793699  0.5642807\n",
       "  1e-02   4         0.6735629  0.6637753  0.5759385\n",
       "  1e-02   6         0.6613486  0.6491229  0.5738401\n",
       "  1e-02   8         0.6620978  0.6448852  0.5825268\n",
       "  1e-02  10         0.6612335  0.6416663  0.5835817\n",
       "\n",
       "Tuning parameter 'nrounds' was held constant at a value of 1000\n",
       " parameter 'colsample_bytree' was held constant at a value of 1\n",
       "\n",
       "Tuning parameter 'min_child_weight' was held constant at a value of 1\n",
       "ROC was used to select the optimal model using  the largest value.\n",
       "The final values used for the model were nrounds = 1000, max_depth = 2, eta\n",
       " = 0.01, gamma = 1, colsample_bytree = 1 and min_child_weight = 1. \n",
       "\n",
       "attr(,\"class\")\n",
       "[1] \"caretList\"\n",
       "\n",
       "$cm\n",
       "$cm$xgbTree\n",
       "Confusion Matrix and Statistics\n",
       "\n",
       "            Reference\n",
       "Prediction   Democrat Republican\n",
       "  Democrat        403        212\n",
       "  Republican      187        311\n",
       "                                          \n",
       "               Accuracy : 0.6415          \n",
       "                 95% CI : (0.6125, 0.6697)\n",
       "    No Information Rate : 0.5301          \n",
       "    P-Value [Acc > NIR] : 3.674e-14       \n",
       "                                          \n",
       "                  Kappa : 0.2785          \n",
       " Mcnemar's Test P-Value : 0.2296          \n",
       "                                          \n",
       "            Sensitivity : 0.6831          \n",
       "            Specificity : 0.5946          \n",
       "         Pos Pred Value : 0.6553          \n",
       "         Neg Pred Value : 0.6245          \n",
       "             Prevalence : 0.5301          \n",
       "         Detection Rate : 0.3621          \n",
       "   Detection Prevalence : 0.5526          \n",
       "      Balanced Accuracy : 0.6388          \n",
       "                                          \n",
       "       'Positive' Class : Democrat        \n",
       "                                          \n",
       "\n"
      ]
     },
     "metadata": {},
     "output_type": "display_data"
    }
   ],
   "source": [
    "mods1"
   ]
  },
  {
   "cell_type": "code",
   "execution_count": null,
   "metadata": {
    "collapsed": true
   },
   "outputs": [],
   "source": [
    "models <- list(\"C5.0\")\n",
    "c50Grid <- list(tuneGrid = expand.grid(.winnow = c(TRUE, FALSE), .trials = c(1:9, (1:10)*10), .model = c(\"tree\", \"rules\")))\n",
    "tune <- list(c50Grid)\n",
    "prep <- list(NULL)\n",
    "vars <- NULL"
   ]
  },
  {
   "cell_type": "code",
   "execution_count": null,
   "metadata": {
    "collapsed": true
   },
   "outputs": [],
   "source": [
    "mods2 <- run_models(train.data[, -7], valid.data[, -7], vars, models, tune, prep, trCtrl, na.action = na.pass)\n",
    "mods2"
   ]
  },
  {
   "cell_type": "code",
   "execution_count": null,
   "metadata": {
    "collapsed": true
   },
   "outputs": [],
   "source": [
    "models <- list(\"C5.0\", \"gbm\")\n",
    "gbmGrid <- list(tuneGrid = expand.grid(interaction.depth = c(1, 3, 5, 7, 9), n.trees = (1:20)*100, shrinkage = c(0.01, 0.1)))\n",
    "tune <- list(c50Grid, gbmGrid)"
   ]
  },
  {
   "cell_type": "code",
   "execution_count": null,
   "metadata": {
    "collapsed": true
   },
   "outputs": [],
   "source": [
    "mods3 <- run_models(train.set, valid.set, vars, models, tune, prep, trCtrl)\n",
    "mods3"
   ]
  },
  {
   "cell_type": "code",
   "execution_count": null,
   "metadata": {
    "collapsed": true
   },
   "outputs": [],
   "source": [
    "mods4 <- run_models(train.dv, valid.dv, vars, models, tune, prep, trCtrl)\n",
    "mods4"
   ]
  },
  {
   "cell_type": "code",
   "execution_count": null,
   "metadata": {
    "collapsed": true
   },
   "outputs": [],
   "source": [
    "models <- list(\"rf\")\n",
    "rfGrid <- list(tuneGrid = data.frame(mtry = c(5, 10, 20, 32, 50, 100, 250, 500, 1000)))\n",
    "tune <- list(rfGrid)"
   ]
  },
  {
   "cell_type": "code",
   "execution_count": null,
   "metadata": {
    "collapsed": true
   },
   "outputs": [],
   "source": [
    "mods5 <- run_models(train.set, valid.set, vars, models, tune, prep, trCtrl, ntree = 1000, importance = TRUE)\n",
    "mods5"
   ]
  },
  {
   "cell_type": "code",
   "execution_count": null,
   "metadata": {
    "collapsed": true
   },
   "outputs": [],
   "source": [
    "mods6 <- run_models(train.dv, valid.dv, vars, models, tune, prep, trCtrl, ntree = 1000, importance = TRUE)\n",
    "mods6"
   ]
  }
 ],
 "metadata": {
  "kernelspec": {
   "display_name": "R",
   "language": "R",
   "name": "ir"
  },
  "language_info": {
   "codemirror_mode": "r",
   "file_extension": ".r",
   "mimetype": "text/x-r-source",
   "name": "R",
   "pygments_lexer": "r",
   "version": "3.3.0"
  }
 },
 "nbformat": 4,
 "nbformat_minor": 0
}
