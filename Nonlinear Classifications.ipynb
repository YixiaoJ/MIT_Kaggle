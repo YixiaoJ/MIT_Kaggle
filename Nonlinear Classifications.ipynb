{
 "cells": [
  {
   "cell_type": "markdown",
   "metadata": {},
   "source": [
    "## Nonlinear Classification Models\n",
    "\n",
    "* Quadratic Discriminant Analysis\n",
    "* Regularized Discriminant Analysis\n",
    "* Mixture Discriminant Analysis"
   ]
  },
  {
   "cell_type": "code",
   "execution_count": 1,
   "metadata": {
    "collapsed": false,
    "scrolled": true
   },
   "outputs": [
    {
     "name": "stderr",
     "output_type": "stream",
     "text": [
      "\n",
      "Attaching package: 'dplyr'\n",
      "\n",
      "The following objects are masked from 'package:plyr':\n",
      "\n",
      "    arrange, count, desc, failwith, id, mutate, rename, summarise,\n",
      "    summarize\n",
      "\n",
      "The following objects are masked from 'package:stats':\n",
      "\n",
      "    filter, lag\n",
      "\n",
      "The following objects are masked from 'package:base':\n",
      "\n",
      "    intersect, setdiff, setequal, union\n",
      "\n",
      "\n",
      "Attaching package: 'tibble'\n",
      "\n",
      "The following objects are masked from 'package:dplyr':\n",
      "\n",
      "    as_data_frame, data_frame, data_frame_, frame_data, glimpse,\n",
      "    knit_print.trunc_mat, tibble, trunc_mat, type_sum\n",
      "\n",
      "Loading required package: lattice\n",
      "Loading required package: ggplot2\n",
      "\n",
      "Attaching package: 'purrr'\n",
      "\n",
      "The following object is masked from 'package:caret':\n",
      "\n",
      "    lift\n",
      "\n",
      "The following object is masked from 'package:dplyr':\n",
      "\n",
      "    order_by\n",
      "\n",
      "The following object is masked from 'package:plyr':\n",
      "\n",
      "    compact\n",
      "\n",
      "Loading required package: Rcpp\n",
      "mice 2.25 2015-11-09\n",
      "Loading required package: foreach\n",
      "\n",
      "Attaching package: 'foreach'\n",
      "\n",
      "The following objects are masked from 'package:purrr':\n",
      "\n",
      "    accumulate, when\n",
      "\n",
      "Loading required package: iterators\n",
      "Loading required package: parallel\n"
     ]
    }
   ],
   "source": [
    "source(\"2-model_tests.R\")"
   ]
  },
  {
   "cell_type": "code",
   "execution_count": 2,
   "metadata": {
    "collapsed": true
   },
   "outputs": [],
   "source": [
    "models <- list(\"qda\", \"rda\", \"mda\", \"fda\", \"earth\")\n",
    "noTune <- list(tuneGrid = NULL)\n",
    "rdaGrid <- list(tuneLength = 10)\n",
    "mdaGrid <- list(tuneGrid = expand.grid(.subclasses = 1:8))\n",
    "marsGrid <- list(tuneGrid = expand.grid(.degree = 1:2, .nprune = 2:38))\n",
    "tune <- list(noTune, rdaGrid, mdaGrid, marsGrid, marsGrid)\n",
    "prep <- list(NULL)"
   ]
  },
  {
   "cell_type": "code",
   "execution_count": null,
   "metadata": {
    "collapsed": true
   },
   "outputs": [],
   "source": [
    "vars <- hc2\n",
    "mods1 <- run_models(train.dv2i, valid.dv2i, vars, models, tune, prep, trCtrl)\n",
    "mods1"
   ]
  },
  {
   "cell_type": "code",
   "execution_count": null,
   "metadata": {
    "collapsed": true
   },
   "outputs": [],
   "source": [
    "models <- list(\"nnet\")\n",
    "nnetGrid <- list(tuneGrid = expand.grid(.size = 1:10, .decay = c(0, 0.1, 1, 2)))\n",
    "tune <- list(nnetGrid)\n",
    "prep <- list(list(c(\"center\", \"scale\", \"spatialSign\")))\n",
    "maxSize <- max(nnetGrid$.size)\n",
    "numWts <- 1 * (maxSize * (length(train.dv2i[, -c(1, vars)]) + 1) + maxSize + 1)\n",
    "mods2 <- run_models(train.dv2i, valid.dv2i, vars, models, tune, prep, trCtrl, trace = FALSE, maxit = 2000, MaxNWts = numWts)\n",
    "mods2"
   ]
  },
  {
   "cell_type": "code",
   "execution_count": null,
   "metadata": {
    "collapsed": true
   },
   "outputs": [],
   "source": []
  }
 ],
 "metadata": {
  "kernelspec": {
   "display_name": "R",
   "language": "R",
   "name": "ir"
  },
  "language_info": {
   "codemirror_mode": "r",
   "file_extension": ".r",
   "mimetype": "text/x-r-source",
   "name": "R",
   "pygments_lexer": "r",
   "version": "3.3.0"
  }
 },
 "nbformat": 4,
 "nbformat_minor": 0
}
