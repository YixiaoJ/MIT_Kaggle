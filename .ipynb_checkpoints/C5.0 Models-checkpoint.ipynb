{
 "cells": [
  {
   "cell_type": "code",
   "execution_count": 1,
   "metadata": {
    "collapsed": false
   },
   "outputs": [
    {
     "name": "stderr",
     "output_type": "stream",
     "text": [
      "\n",
      "Attaching package: 'dplyr'\n",
      "\n",
      "The following objects are masked from 'package:plyr':\n",
      "\n",
      "    arrange, count, desc, failwith, id, mutate, rename, summarise,\n",
      "    summarize\n",
      "\n",
      "The following objects are masked from 'package:stats':\n",
      "\n",
      "    filter, lag\n",
      "\n",
      "The following objects are masked from 'package:base':\n",
      "\n",
      "    intersect, setdiff, setequal, union\n",
      "\n",
      "Loading required package: lattice\n",
      "Loading required package: ggplot2\n",
      "\n",
      "Attaching package: 'purrr'\n",
      "\n",
      "The following object is masked from 'package:caret':\n",
      "\n",
      "    lift\n",
      "\n",
      "The following object is masked from 'package:dplyr':\n",
      "\n",
      "    order_by\n",
      "\n",
      "The following object is masked from 'package:plyr':\n",
      "\n",
      "    compact\n",
      "\n"
     ]
    }
   ],
   "source": [
    "source(\"1-data_sets.R\")"
   ]
  },
  {
   "cell_type": "code",
   "execution_count": 3,
   "metadata": {
    "collapsed": false
   },
   "outputs": [],
   "source": [
    "set.seed(123)\n",
    "seeds <- vector(mode = \"list\", length = 51)\n",
    "for(i in 1:50) seeds[[i]] <- sample.int(1000, 22)\n",
    "\n",
    "seeds[[51]] <- sample.int(1000, 1)"
   ]
  },
  {
   "cell_type": "code",
   "execution_count": 4,
   "metadata": {
    "collapsed": true
   },
   "outputs": [],
   "source": [
    "trCtrl <- trainControl(method = \"repeatedcv\", repeats = 5, seeds = seeds, classProbs = TRUE, returnResamp = \"final\")"
   ]
  },
  {
   "cell_type": "code",
   "execution_count": 5,
   "metadata": {
    "collapsed": false
   },
   "outputs": [
    {
     "name": "stderr",
     "output_type": "stream",
     "text": [
      "Loading required package: foreach\n",
      "\n",
      "Attaching package: 'foreach'\n",
      "\n",
      "The following objects are masked from 'package:purrr':\n",
      "\n",
      "    accumulate, when\n",
      "\n",
      "Loading required package: iterators\n",
      "Loading required package: parallel\n"
     ]
    }
   ],
   "source": [
    "library(doParallel)\n",
    "registerDoParallel()"
   ]
  },
  {
   "cell_type": "code",
   "execution_count": 10,
   "metadata": {
    "collapsed": false
   },
   "outputs": [],
   "source": [
    "set.seed(1056)\n",
    "c501 <- train(Party ~ ., data = train.na[, -1], method = \"C5.0\", trControl = trCtrl, na.action = na.pass)\n",
    "pred.c501 <- predict(c501, newdata = valid.na, na.action = na.pass)\n",
    "cm.c501 <- confusionMatrix(pred.c501, valid.party)"
   ]
  },
  {
   "cell_type": "code",
   "execution_count": 11,
   "metadata": {
    "collapsed": false
   },
   "outputs": [
    {
     "data": {
      "text/plain": [
       "C5.0 \n",
       "\n",
       "4455 samples\n",
       " 212 predictor\n",
       "   2 classes: 'Democrat', 'Republican' \n",
       "\n",
       "No pre-processing\n",
       "Resampling: Cross-Validated (10 fold, repeated 5 times) \n",
       "Summary of sample sizes: 4010, 4010, 4009, 4009, 4010, 4010, ... \n",
       "Resampling results across tuning parameters:\n",
       "\n",
       "  model  winnow  trials  Accuracy   Kappa    \n",
       "  rules  FALSE    1      0.6108187  0.2032375\n",
       "  rules  FALSE   10      0.6137399  0.2144993\n",
       "  rules  FALSE   20      0.6128873  0.2143211\n",
       "  rules   TRUE    1      0.6075866  0.1973264\n",
       "  rules   TRUE   10      0.6122123  0.2106787\n",
       "  rules   TRUE   20      0.6113129  0.2099999\n",
       "  tree   FALSE    1      0.6162076  0.2181845\n",
       "  tree   FALSE   10      0.6125251  0.2162009\n",
       "  tree   FALSE   20      0.6112235  0.2133915\n",
       "  tree    TRUE    1      0.6130200  0.2125313\n",
       "  tree    TRUE   10      0.6092021  0.2094235\n",
       "  tree    TRUE   20      0.6087526  0.2085139\n",
       "\n",
       "Accuracy was used to select the optimal model using  the largest value.\n",
       "The final values used for the model were trials = 1, model = tree and winnow\n",
       " = FALSE. "
      ]
     },
     "metadata": {},
     "output_type": "display_data"
    }
   ],
   "source": [
    "c501"
   ]
  },
  {
   "cell_type": "code",
   "execution_count": 12,
   "metadata": {
    "collapsed": false
   },
   "outputs": [
    {
     "data": {
      "text/plain": [
       "Confusion Matrix and Statistics\n",
       "\n",
       "            Reference\n",
       "Prediction   Democrat Republican\n",
       "  Democrat        449        277\n",
       "  Republican      141        246\n",
       "                                         \n",
       "               Accuracy : 0.6244         \n",
       "                 95% CI : (0.5952, 0.653)\n",
       "    No Information Rate : 0.5301         \n",
       "    P-Value [Acc > NIR] : 1.324e-10      \n",
       "                                         \n",
       "                  Kappa : 0.2348         \n",
       " Mcnemar's Test P-Value : 4.027e-11      \n",
       "                                         \n",
       "            Sensitivity : 0.7610         \n",
       "            Specificity : 0.4704         \n",
       "         Pos Pred Value : 0.6185         \n",
       "         Neg Pred Value : 0.6357         \n",
       "             Prevalence : 0.5301         \n",
       "         Detection Rate : 0.4034         \n",
       "   Detection Prevalence : 0.6523         \n",
       "      Balanced Accuracy : 0.6157         \n",
       "                                         \n",
       "       'Positive' Class : Democrat       \n",
       "                                         "
      ]
     },
     "metadata": {},
     "output_type": "display_data"
    }
   ],
   "source": [
    "cm.c501"
   ]
  },
  {
   "cell_type": "markdown",
   "metadata": {},
   "source": [
    "C5.0 can handle missing data; produces the same results with factor or numeric data"
   ]
  },
  {
   "cell_type": "code",
   "execution_count": 14,
   "metadata": {
    "collapsed": false
   },
   "outputs": [],
   "source": [
    "set.seed(1056)\n",
    "c502 <- train(x = train.set[, -1], y = train.party, method = \"C5.0\", trControl = trCtrl, na.action = na.pass)\n",
    "pred.c502 <- predict(c502, newdata = valid.set, na.action = na.pass)\n",
    "cm.c502 <- confusionMatrix(pred.c502, valid.party)"
   ]
  },
  {
   "cell_type": "code",
   "execution_count": 15,
   "metadata": {
    "collapsed": false
   },
   "outputs": [
    {
     "data": {
      "text/plain": [
       "C5.0 \n",
       "\n",
       "4455 samples\n",
       " 106 predictor\n",
       "   2 classes: 'Democrat', 'Republican' \n",
       "\n",
       "No pre-processing\n",
       "Resampling: Cross-Validated (10 fold, repeated 5 times) \n",
       "Summary of sample sizes: 4010, 4010, 4009, 4009, 4010, 4010, ... \n",
       "Resampling results across tuning parameters:\n",
       "\n",
       "  model  winnow  trials  Accuracy   Kappa    \n",
       "  rules  FALSE    1      0.6111326  0.2032625\n",
       "  rules  FALSE   10      0.6162496  0.2172268\n",
       "  rules  FALSE   20      0.6169243  0.2194106\n",
       "  rules   TRUE    1      0.6107293  0.2024606\n",
       "  rules   TRUE   10      0.6177792  0.2206376\n",
       "  rules   TRUE   20      0.6179576  0.2221530\n",
       "  tree   FALSE    1      0.6202921  0.2269724\n",
       "  tree   FALSE   10      0.6129274  0.2179403\n",
       "  tree   FALSE   20      0.6129274  0.2179403\n",
       "  tree    TRUE    1      0.6192610  0.2249008\n",
       "  tree    TRUE   10      0.6126616  0.2172238\n",
       "  tree    TRUE   20      0.6126616  0.2172238\n",
       "\n",
       "Accuracy was used to select the optimal model using  the largest value.\n",
       "The final values used for the model were trials = 1, model = tree and winnow\n",
       " = FALSE. "
      ]
     },
     "metadata": {},
     "output_type": "display_data"
    }
   ],
   "source": [
    "c502"
   ]
  },
  {
   "cell_type": "code",
   "execution_count": 16,
   "metadata": {
    "collapsed": false
   },
   "outputs": [
    {
     "data": {
      "text/plain": [
       "Confusion Matrix and Statistics\n",
       "\n",
       "            Reference\n",
       "Prediction   Democrat Republican\n",
       "  Democrat        449        277\n",
       "  Republican      141        246\n",
       "                                         \n",
       "               Accuracy : 0.6244         \n",
       "                 95% CI : (0.5952, 0.653)\n",
       "    No Information Rate : 0.5301         \n",
       "    P-Value [Acc > NIR] : 1.324e-10      \n",
       "                                         \n",
       "                  Kappa : 0.2348         \n",
       " Mcnemar's Test P-Value : 4.027e-11      \n",
       "                                         \n",
       "            Sensitivity : 0.7610         \n",
       "            Specificity : 0.4704         \n",
       "         Pos Pred Value : 0.6185         \n",
       "         Neg Pred Value : 0.6357         \n",
       "             Prevalence : 0.5301         \n",
       "         Detection Rate : 0.4034         \n",
       "   Detection Prevalence : 0.6523         \n",
       "      Balanced Accuracy : 0.6157         \n",
       "                                         \n",
       "       'Positive' Class : Democrat       \n",
       "                                         "
      ]
     },
     "metadata": {},
     "output_type": "display_data"
    }
   ],
   "source": [
    "cm.c502"
   ]
  }
 ],
 "metadata": {
  "kernelspec": {
   "display_name": "R",
   "language": "R",
   "name": "ir"
  },
  "language_info": {
   "codemirror_mode": "r",
   "file_extension": ".r",
   "mimetype": "text/x-r-source",
   "name": "R",
   "pygments_lexer": "r",
   "version": "3.3.0"
  }
 },
 "nbformat": 4,
 "nbformat_minor": 0
}
