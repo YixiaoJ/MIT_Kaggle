{
 "cells": [
  {
   "cell_type": "markdown",
   "metadata": {},
   "source": [
    "## Dummy Vars"
   ]
  },
  {
   "cell_type": "code",
   "execution_count": 1,
   "metadata": {
    "collapsed": false
   },
   "outputs": [
    {
     "name": "stderr",
     "output_type": "stream",
     "text": [
      "\n",
      "Attaching package: 'dplyr'\n",
      "\n",
      "The following objects are masked from 'package:plyr':\n",
      "\n",
      "    arrange, count, desc, failwith, id, mutate, rename, summarise,\n",
      "    summarize\n",
      "\n",
      "The following objects are masked from 'package:stats':\n",
      "\n",
      "    filter, lag\n",
      "\n",
      "The following objects are masked from 'package:base':\n",
      "\n",
      "    intersect, setdiff, setequal, union\n",
      "\n",
      "Loading required package: lattice\n",
      "Loading required package: ggplot2\n",
      "\n",
      "Attaching package: 'purrr'\n",
      "\n",
      "The following object is masked from 'package:caret':\n",
      "\n",
      "    lift\n",
      "\n",
      "The following object is masked from 'package:dplyr':\n",
      "\n",
      "    order_by\n",
      "\n",
      "The following object is masked from 'package:plyr':\n",
      "\n",
      "    compact\n",
      "\n",
      "\n",
      "Attaching package: 'tibble'\n",
      "\n",
      "The following objects are masked from 'package:dplyr':\n",
      "\n",
      "    as_data_frame, data_frame, data_frame_, frame_data, glimpse,\n",
      "    knit_print.trunc_mat, tbl_df, tibble, trunc_mat, type_sum\n",
      "\n"
     ]
    }
   ],
   "source": [
    "source(\"1-data_sets.R\")\n",
    "\n",
    "library(tibble)\n",
    "\n",
    "# use unordered levels\n",
    "tmp <- train.data %>%\n",
    "    mutate(Income = factor(Income, ordered = FALSE),\n",
    "           EducationLevel = factor(EducationLevel, ordered = FALSE))\n",
    "\n",
    "dv <- dummyVars(~ ., data = tmp[, -7])\n",
    "train.dv <- predict(dv, newdata = tmp[, -7]) %>% as_data_frame()\n",
    "train.dv$Party <- train.party\n",
    "\n",
    "tmp <- valid.data %>% mutate(Income = factor(Income, ordered = FALSE), EducationLevel = factor(EducationLevel, ordered = FALSE))\n",
    "\n",
    "valid.dv <- predict(dv, newdata = tmp) %>% as_data_frame()\n",
    "\n",
    "rm(tmp)"
   ]
  },
  {
   "cell_type": "markdown",
   "metadata": {},
   "source": [
    "#### Make a data set without highly correlated variables"
   ]
  },
  {
   "cell_type": "code",
   "execution_count": 2,
   "metadata": {
    "collapsed": true
   },
   "outputs": [],
   "source": [
    "hcor <- cor(train.dv[, -226], use = \"na.or.complete\")\n",
    "hc <- findCorrelation(hcor)\n",
    "train.hc <- train.dv[, -hc]\n",
    "valid.hc <- valid.dv[, -hc]"
   ]
  },
  {
   "cell_type": "markdown",
   "metadata": {},
   "source": [
    "#### Set seeds"
   ]
  },
  {
   "cell_type": "code",
   "execution_count": 3,
   "metadata": {
    "collapsed": true
   },
   "outputs": [],
   "source": [
    "set.seed(123)\n",
    "seeds <- vector(mode = \"list\", length = 51)\n",
    "for(i in 1:50) seeds[[i]] <- sample.int(1000, 22)\n",
    "\n",
    "seeds[[51]] <- sample.int(1000, 1)"
   ]
  },
  {
   "cell_type": "markdown",
   "metadata": {},
   "source": [
    "#### Set train control parameters"
   ]
  },
  {
   "cell_type": "code",
   "execution_count": 4,
   "metadata": {
    "collapsed": true
   },
   "outputs": [],
   "source": [
    "trCtrl <- trainControl(method = \"repeatedcv\", repeats = 5, seeds = seeds, classProbs = TRUE, returnResamp = \"all\")"
   ]
  },
  {
   "cell_type": "markdown",
   "metadata": {},
   "source": [
    "### Fit Models"
   ]
  },
  {
   "cell_type": "code",
   "execution_count": 5,
   "metadata": {
    "collapsed": false
   },
   "outputs": [
    {
     "name": "stderr",
     "output_type": "stream",
     "text": [
      "Loading required package: foreach\n",
      "\n",
      "Attaching package: 'foreach'\n",
      "\n",
      "The following objects are masked from 'package:purrr':\n",
      "\n",
      "    accumulate, when\n",
      "\n",
      "Loading required package: iterators\n",
      "Loading required package: parallel\n"
     ]
    }
   ],
   "source": [
    "library(doParallel)\n",
    "registerDoParallel()"
   ]
  },
  {
   "cell_type": "markdown",
   "metadata": {},
   "source": [
    "#### GLM"
   ]
  },
  {
   "cell_type": "code",
   "execution_count": 6,
   "metadata": {
    "collapsed": false
   },
   "outputs": [
    {
     "name": "stderr",
     "output_type": "stream",
     "text": [
      "Warning message:\n",
      "In predict.lm(object, newdata, se.fit, scale = 1, type = ifelse(type == : prediction from a rank-deficient fit may be misleading"
     ]
    }
   ],
   "source": [
    "set.seed(1056)\n",
    "glm1 <- train(Party ~ ., data = train.dv[, -1], method = \"glm\", trControl = trCtrl,            preProcess = c(\"nzv\", \"BoxCox\", \"knnImpute\"))\n",
    "pred <- predict(model, newdata = valid.dv, na.action = na.pass)\n",
    "cm <- confusionMatrix(pred, valid.party)"
   ]
  },
  {
   "cell_type": "code",
   "execution_count": 7,
   "metadata": {
    "collapsed": false
   },
   "outputs": [
    {
     "name": "stderr",
     "output_type": "stream",
     "text": [
      "Warning message:\n",
      "In gsub(\"knnImpute\", paste(x$k, \"nearest neighbor imputation\"), : argument 'replacement' has length > 1 and only the first element will be usedWarning message:\n",
      "In gsub(\"knnImpute\", paste(x$k, \"nearest neighbor imputation\"), : argument 'replacement' has length > 1 and only the first element will be used"
     ]
    },
    {
     "data": {
      "text/plain": [
       "Generalized Linear Model \n",
       "\n",
       "4455 samples\n",
       " 224 predictor\n",
       "   2 classes: 'Democrat', 'Republican' \n",
       "\n",
       "Pre-processing: Box-Cox transformation (1), YOB nearest neighbor\n",
       " imputation (220), centered (220), scaled (220), remove (4) \n",
       "Resampling: Cross-Validated (10 fold, repeated 5 times) \n",
       "Summary of sample sizes: 498, 499, 499, 498, 499, 499, ... \n",
       "Resampling results:\n",
       "\n",
       "  Accuracy   Kappa    \n",
       "  0.5479286  0.0959749\n",
       "\n",
       " "
      ]
     },
     "metadata": {},
     "output_type": "display_data"
    }
   ],
   "source": [
    "modelGLM"
   ]
  },
  {
   "cell_type": "code",
   "execution_count": 8,
   "metadata": {
    "collapsed": false
   },
   "outputs": [
    {
     "data": {
      "text/plain": [
       "Confusion Matrix and Statistics\n",
       "\n",
       "            Reference\n",
       "Prediction   Democrat Republican\n",
       "  Democrat        360        234\n",
       "  Republican      230        289\n",
       "                                          \n",
       "               Accuracy : 0.5831          \n",
       "                 95% CI : (0.5535, 0.6123)\n",
       "    No Information Rate : 0.5301          \n",
       "    P-Value [Acc > NIR] : 0.0002131       \n",
       "                                          \n",
       "                  Kappa : 0.1628          \n",
       " Mcnemar's Test P-Value : 0.8892356       \n",
       "                                          \n",
       "            Sensitivity : 0.6102          \n",
       "            Specificity : 0.5526          \n",
       "         Pos Pred Value : 0.6061          \n",
       "         Neg Pred Value : 0.5568          \n",
       "             Prevalence : 0.5301          \n",
       "         Detection Rate : 0.3235          \n",
       "   Detection Prevalence : 0.5337          \n",
       "      Balanced Accuracy : 0.5814          \n",
       "                                          \n",
       "       'Positive' Class : Democrat        \n",
       "                                          "
      ]
     },
     "metadata": {},
     "output_type": "display_data"
    }
   ],
   "source": [
    "cmGLM"
   ]
  },
  {
   "cell_type": "code",
   "execution_count": 9,
   "metadata": {
    "collapsed": false
   },
   "outputs": [
    {
     "name": "stderr",
     "output_type": "stream",
     "text": [
      "Warning message:\n",
      "In predict.lm(object, newdata, se.fit, scale = 1, type = ifelse(type == : prediction from a rank-deficient fit may be misleading"
     ]
    }
   ],
   "source": [
    "modelGLM <- train(Party ~ ., data = train.hc[, -1], method = \"glm\", trControl = trCtrl,\n",
    "                  preProcess = c(\"nzv\", \"BoxCox\", \"knnImpute\"))\n",
    "predGLM <- predict(modelGLM, newdata = valid.dv, na.action = na.pass)\n",
    "cmGLM <- confusionMatrix(predGLM, valid.party)"
   ]
  },
  {
   "cell_type": "code",
   "execution_count": 10,
   "metadata": {
    "collapsed": false
   },
   "outputs": [
    {
     "name": "stderr",
     "output_type": "stream",
     "text": [
      "Warning message:\n",
      "In gsub(\"knnImpute\", paste(x$k, \"nearest neighbor imputation\"), : argument 'replacement' has length > 1 and only the first element will be usedWarning message:\n",
      "In gsub(\"knnImpute\", paste(x$k, \"nearest neighbor imputation\"), : argument 'replacement' has length > 1 and only the first element will be used"
     ]
    },
    {
     "data": {
      "text/plain": [
       "Generalized Linear Model \n",
       "\n",
       "4455 samples\n",
       " 122 predictor\n",
       "   2 classes: 'Democrat', 'Republican' \n",
       "\n",
       "Pre-processing: Box-Cox transformation (1), YOB nearest neighbor\n",
       " imputation (118), centered (118), scaled (118), remove (4) \n",
       "Resampling: Cross-Validated (10 fold, repeated 5 times) \n",
       "Summary of sample sizes: 499, 499, 499, 498, 499, 498, ... \n",
       "Resampling results:\n",
       "\n",
       "  Accuracy   Kappa    \n",
       "  0.5621039  0.1238417\n",
       "\n",
       " "
      ]
     },
     "metadata": {},
     "output_type": "display_data"
    }
   ],
   "source": [
    "modelGLM"
   ]
  },
  {
   "cell_type": "code",
   "execution_count": 11,
   "metadata": {
    "collapsed": false
   },
   "outputs": [
    {
     "data": {
      "text/plain": [
       "Confusion Matrix and Statistics\n",
       "\n",
       "            Reference\n",
       "Prediction   Democrat Republican\n",
       "  Democrat        361        242\n",
       "  Republican      229        281\n",
       "                                          \n",
       "               Accuracy : 0.5768          \n",
       "                 95% CI : (0.5472, 0.6061)\n",
       "    No Information Rate : 0.5301          \n",
       "    P-Value [Acc > NIR] : 0.000967        \n",
       "                                          \n",
       "                  Kappa : 0.1494          \n",
       " Mcnemar's Test P-Value : 0.580311        \n",
       "                                          \n",
       "            Sensitivity : 0.6119          \n",
       "            Specificity : 0.5373          \n",
       "         Pos Pred Value : 0.5987          \n",
       "         Neg Pred Value : 0.5510          \n",
       "             Prevalence : 0.5301          \n",
       "         Detection Rate : 0.3243          \n",
       "   Detection Prevalence : 0.5418          \n",
       "      Balanced Accuracy : 0.5746          \n",
       "                                          \n",
       "       'Positive' Class : Democrat        \n",
       "                                          "
      ]
     },
     "metadata": {},
     "output_type": "display_data"
    }
   ],
   "source": [
    "cmGLM"
   ]
  },
  {
   "cell_type": "markdown",
   "metadata": {},
   "source": [
    "#### Random Forest"
   ]
  },
  {
   "cell_type": "code",
   "execution_count": 12,
   "metadata": {
    "collapsed": false
   },
   "outputs": [
    {
     "name": "stderr",
     "output_type": "stream",
     "text": [
      "Loading required package: randomForest\n",
      "randomForest 4.6-12\n",
      "Type rfNews() to see new features/changes/bug fixes.\n",
      "\n",
      "Attaching package: 'randomForest'\n",
      "\n",
      "The following object is masked from 'package:ggplot2':\n",
      "\n",
      "    margin\n",
      "\n",
      "The following object is masked from 'package:dplyr':\n",
      "\n",
      "    combine\n",
      "\n"
     ]
    }
   ],
   "source": [
    "set.seed(1056)\n",
    "model <- train(Party ~ ., data = train.dv[, -1], method = \"rf\", trControl = trCtrl, preProcess = c(\"nzv\", \"BoxCox\", \"knnImpute\"))\n",
    "pred <- predict(model, newdata = valid.dv, na.action = na.pass)\n",
    "cm <- confusionMatrix(pred, valid.party)"
   ]
  },
  {
   "cell_type": "code",
   "execution_count": 14,
   "metadata": {
    "collapsed": false
   },
   "outputs": [
    {
     "data": {
      "text/plain": [
       "Confusion Matrix and Statistics\n",
       "\n",
       "            Reference\n",
       "Prediction   Democrat Republican\n",
       "  Democrat        285        153\n",
       "  Republican      305        370\n",
       "                                          \n",
       "               Accuracy : 0.5885          \n",
       "                 95% CI : (0.5589, 0.6176)\n",
       "    No Information Rate : 0.5301          \n",
       "    P-Value [Acc > NIR] : 5.088e-05       \n",
       "                                          \n",
       "                  Kappa : 0.1874          \n",
       " Mcnemar's Test P-Value : 1.717e-12       \n",
       "                                          \n",
       "            Sensitivity : 0.4831          \n",
       "            Specificity : 0.7075          \n",
       "         Pos Pred Value : 0.6507          \n",
       "         Neg Pred Value : 0.5481          \n",
       "             Prevalence : 0.5301          \n",
       "         Detection Rate : 0.2561          \n",
       "   Detection Prevalence : 0.3935          \n",
       "      Balanced Accuracy : 0.5953          \n",
       "                                          \n",
       "       'Positive' Class : Democrat        \n",
       "                                          "
      ]
     },
     "metadata": {},
     "output_type": "display_data"
    }
   ],
   "source": [
    "cm"
   ]
  },
  {
   "cell_type": "markdown",
   "metadata": {},
   "source": [
    "## Model Comparison"
   ]
  },
  {
   "cell_type": "code",
   "execution_count": 15,
   "metadata": {
    "collapsed": false
   },
   "outputs": [
    {
     "name": "stderr",
     "output_type": "stream",
     "text": [
      "Warning message:\n",
      "In resamples.default(list(GLM = modelGLM, RF = model)): 'GLM' did not have 'returnResamp=\"final\"; the optimal tuning parameters are usedWarning message:\n",
      "In resamples.default(list(GLM = modelGLM, RF = model)): 'RF' did not have 'returnResamp=\"final\"; the optimal tuning parameters are used"
     ]
    }
   ],
   "source": [
    "resamp <- resamples(list(GLM = modelGLM, RF = model))"
   ]
  },
  {
   "cell_type": "code",
   "execution_count": 16,
   "metadata": {
    "collapsed": false
   },
   "outputs": [
    {
     "data": {
      "text/plain": [
       "\n",
       "Call:\n",
       "summary.resamples(object = resamp)\n",
       "\n",
       "Models: GLM, RF \n",
       "Number of resamples: 50 \n",
       "\n",
       "Accuracy \n",
       "      Min. 1st Qu. Median   Mean 3rd Qu.   Max. NA's\n",
       "GLM 0.4364  0.5202 0.5675 0.5621  0.6054 0.6909    0\n",
       "RF  0.5000  0.5656 0.6000 0.6047  0.6364 0.7455    0\n",
       "\n",
       "Kappa \n",
       "       Min. 1st Qu. Median   Mean 3rd Qu.   Max. NA's\n",
       "GLM -0.1284 0.03909 0.1366 0.1238  0.2117 0.3796    0\n",
       "RF   0.0000 0.13350 0.2039 0.2114  0.2751 0.4921    0\n"
      ]
     },
     "metadata": {},
     "output_type": "display_data"
    }
   ],
   "source": [
    "summary(resamp)"
   ]
  }
 ],
 "metadata": {
  "kernelspec": {
   "display_name": "R",
   "language": "R",
   "name": "ir"
  },
  "language_info": {
   "codemirror_mode": "r",
   "file_extension": ".r",
   "mimetype": "text/x-r-source",
   "name": "R",
   "pygments_lexer": "r",
   "version": "3.3.0"
  }
 },
 "nbformat": 4,
 "nbformat_minor": 0
}
