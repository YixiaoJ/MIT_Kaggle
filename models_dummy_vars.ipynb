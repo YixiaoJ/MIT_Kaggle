{
 "cells": [
  {
   "cell_type": "markdown",
   "metadata": {},
   "source": [
    "## Dummy Vars"
   ]
  },
  {
   "cell_type": "code",
   "execution_count": 36,
   "metadata": {
    "collapsed": false
   },
   "outputs": [],
   "source": [
    "source(\"1-data_sets.R\")\n",
    "\n",
    "library(tibble)\n",
    "\n",
    "# use unordered levels\n",
    "tmp <- train.na %>%\n",
    "    mutate(Income = factor(Income, ordered = FALSE),\n",
    "           EducationLevel = factor(EducationLevel, ordered = FALSE))\n",
    "\n",
    "dv <- dummyVars(~ ., data = tmp[, -7])\n",
    "train.dv <- predict(dv, newdata = tmp[, -7]) %>% as_data_frame()\n",
    "\n",
    "tmp <- valid.na %>% mutate(Income = factor(Income, ordered = FALSE), EducationLevel = factor(EducationLevel, ordered = FALSE))\n",
    "\n",
    "valid.dv <- predict(dv, newdata = tmp) %>% as_data_frame()\n",
    "\n",
    "rm(tmp)"
   ]
  },
  {
   "cell_type": "markdown",
   "metadata": {},
   "source": [
    "#### Make a data set without highly correlated variables"
   ]
  },
  {
   "cell_type": "code",
   "execution_count": 37,
   "metadata": {
    "collapsed": false
   },
   "outputs": [
    {
     "name": "stderr",
     "output_type": "stream",
     "text": [
      "Warning message:\n",
      "In cor(train.dv, use = \"na.or.complete\"): the standard deviation is zero"
     ]
    }
   ],
   "source": [
    "hcor <- cor(train.dv, use = \"na.or.complete\")\n",
    "hc <- findCorrelation(hcor)\n",
    "train.hc <- train.dv[, -hc]\n",
    "valid.hc <- valid.dv[, -hc]"
   ]
  },
  {
   "cell_type": "code",
   "execution_count": 39,
   "metadata": {
    "collapsed": false
   },
   "outputs": [
    {
     "name": "stdout",
     "output_type": "stream",
     "text": [
      "Classes 'tbl_df', 'tbl' and 'data.frame':\t4455 obs. of  1 variable:\n",
      " $ NA: NULL\n"
     ]
    }
   ],
   "source": [
    "str(train.hc)"
   ]
  },
  {
   "cell_type": "code",
   "execution_count": null,
   "metadata": {
    "collapsed": true
   },
   "outputs": [],
   "source": [
    "train.dv$Party <- train.party"
   ]
  },
  {
   "cell_type": "markdown",
   "metadata": {},
   "source": [
    "#### Set seeds"
   ]
  },
  {
   "cell_type": "code",
   "execution_count": 4,
   "metadata": {
    "collapsed": true
   },
   "outputs": [],
   "source": [
    "set.seed(123)\n",
    "seeds <- vector(mode = \"list\", length = 51)\n",
    "for(i in 1:50) seeds[[i]] <- sample.int(1000, 22)\n",
    "\n",
    "seeds[[51]] <- sample.int(1000, 1)"
   ]
  },
  {
   "cell_type": "markdown",
   "metadata": {},
   "source": [
    "#### Set train control parameters"
   ]
  },
  {
   "cell_type": "code",
   "execution_count": 5,
   "metadata": {
    "collapsed": true
   },
   "outputs": [],
   "source": [
    "trCtrl <- trainControl(method = \"repeatedcv\", repeats = 5, seeds = seeds, classProbs = TRUE, returnResamp = \"final\")"
   ]
  },
  {
   "cell_type": "markdown",
   "metadata": {},
   "source": [
    "### Fit Models"
   ]
  },
  {
   "cell_type": "code",
   "execution_count": 6,
   "metadata": {
    "collapsed": false
   },
   "outputs": [
    {
     "name": "stderr",
     "output_type": "stream",
     "text": [
      "Loading required package: foreach\n",
      "\n",
      "Attaching package: 'foreach'\n",
      "\n",
      "The following objects are masked from 'package:purrr':\n",
      "\n",
      "    accumulate, when\n",
      "\n",
      "Loading required package: iterators\n",
      "Loading required package: parallel\n"
     ]
    }
   ],
   "source": [
    "library(doParallel)\n",
    "registerDoParallel()"
   ]
  },
  {
   "cell_type": "markdown",
   "metadata": {},
   "source": [
    "#### GLM"
   ]
  },
  {
   "cell_type": "code",
   "execution_count": 8,
   "metadata": {
    "collapsed": false
   },
   "outputs": [
    {
     "name": "stderr",
     "output_type": "stream",
     "text": [
      "Warning message:\n",
      "In predict.lm(object, newdata, se.fit, scale = 1, type = ifelse(type == : prediction from a rank-deficient fit may be misleading"
     ]
    }
   ],
   "source": [
    "f"
   ]
  },
  {
   "cell_type": "code",
   "execution_count": 9,
   "metadata": {
    "collapsed": false
   },
   "outputs": [
    {
     "name": "stderr",
     "output_type": "stream",
     "text": [
      "Warning message:\n",
      "In gsub(\"knnImpute\", paste(x$k, \"nearest neighbor imputation\"), : argument 'replacement' has length > 1 and only the first element will be usedWarning message:\n",
      "In gsub(\"knnImpute\", paste(x$k, \"nearest neighbor imputation\"), : argument 'replacement' has length > 1 and only the first element will be used"
     ]
    },
    {
     "data": {
      "text/plain": [
       "Generalized Linear Model \n",
       "\n",
       "4455 samples\n",
       " 224 predictor\n",
       "   2 classes: 'Democrat', 'Republican' \n",
       "\n",
       "Pre-processing: Box-Cox transformation (1), YOB nearest neighbor\n",
       " imputation (220), centered (220), scaled (220), remove (4) \n",
       "Resampling: Cross-Validated (10 fold, repeated 5 times) \n",
       "Summary of sample sizes: 499, 499, 499, 498, 498, 499, ... \n",
       "Resampling results:\n",
       "\n",
       "  Accuracy   Kappa    \n",
       "  0.5570649  0.1140379\n",
       "\n",
       " "
      ]
     },
     "metadata": {},
     "output_type": "display_data"
    }
   ],
   "source": [
    "glm1"
   ]
  },
  {
   "cell_type": "code",
   "execution_count": 10,
   "metadata": {
    "collapsed": false
   },
   "outputs": [
    {
     "data": {
      "text/plain": [
       "Confusion Matrix and Statistics\n",
       "\n",
       "            Reference\n",
       "Prediction   Democrat Republican\n",
       "  Democrat        360        234\n",
       "  Republican      230        289\n",
       "                                          \n",
       "               Accuracy : 0.5831          \n",
       "                 95% CI : (0.5535, 0.6123)\n",
       "    No Information Rate : 0.5301          \n",
       "    P-Value [Acc > NIR] : 0.0002131       \n",
       "                                          \n",
       "                  Kappa : 0.1628          \n",
       " Mcnemar's Test P-Value : 0.8892356       \n",
       "                                          \n",
       "            Sensitivity : 0.6102          \n",
       "            Specificity : 0.5526          \n",
       "         Pos Pred Value : 0.6061          \n",
       "         Neg Pred Value : 0.5568          \n",
       "             Prevalence : 0.5301          \n",
       "         Detection Rate : 0.3235          \n",
       "   Detection Prevalence : 0.5337          \n",
       "      Balanced Accuracy : 0.5814          \n",
       "                                          \n",
       "       'Positive' Class : Democrat        \n",
       "                                          "
      ]
     },
     "metadata": {},
     "output_type": "display_data"
    }
   ],
   "source": [
    "cm.glm1"
   ]
  },
  {
   "cell_type": "code",
   "execution_count": 11,
   "metadata": {
    "collapsed": false
   },
   "outputs": [
    {
     "name": "stderr",
     "output_type": "stream",
     "text": [
      "Warning message:\n",
      "In predict.lm(object, newdata, se.fit, scale = 1, type = ifelse(type == : prediction from a rank-deficient fit may be misleading"
     ]
    }
   ],
   "source": [
    "glm2 <- train(Party ~ ., data = train.hc[, -1], method = \"glm\", trControl = trCtrl, preProcess = c(\"nzv\", \"BoxCox\", \"knnImpute\"))\n",
    "pred.glm2 <- predict(glm2, newdata = valid.dv, na.action = na.pass)\n",
    "cm.glm2 <- confusionMatrix(pred.glm2, valid.party)"
   ]
  },
  {
   "cell_type": "code",
   "execution_count": 12,
   "metadata": {
    "collapsed": false
   },
   "outputs": [
    {
     "name": "stderr",
     "output_type": "stream",
     "text": [
      "Warning message:\n",
      "In gsub(\"knnImpute\", paste(x$k, \"nearest neighbor imputation\"), : argument 'replacement' has length > 1 and only the first element will be usedWarning message:\n",
      "In gsub(\"knnImpute\", paste(x$k, \"nearest neighbor imputation\"), : argument 'replacement' has length > 1 and only the first element will be used"
     ]
    },
    {
     "data": {
      "text/plain": [
       "Generalized Linear Model \n",
       "\n",
       "4455 samples\n",
       " 122 predictor\n",
       "   2 classes: 'Democrat', 'Republican' \n",
       "\n",
       "Pre-processing: Box-Cox transformation (1), YOB nearest neighbor\n",
       " imputation (118), centered (118), scaled (118), remove (4) \n",
       "Resampling: Cross-Validated (10 fold, repeated 5 times) \n",
       "Summary of sample sizes: 499, 499, 499, 498, 499, 498, ... \n",
       "Resampling results:\n",
       "\n",
       "  Accuracy   Kappa    \n",
       "  0.5621039  0.1238417\n",
       "\n",
       " "
      ]
     },
     "metadata": {},
     "output_type": "display_data"
    }
   ],
   "source": [
    "glm2"
   ]
  },
  {
   "cell_type": "code",
   "execution_count": 13,
   "metadata": {
    "collapsed": false
   },
   "outputs": [
    {
     "data": {
      "text/plain": [
       "Confusion Matrix and Statistics\n",
       "\n",
       "            Reference\n",
       "Prediction   Democrat Republican\n",
       "  Democrat        361        242\n",
       "  Republican      229        281\n",
       "                                          \n",
       "               Accuracy : 0.5768          \n",
       "                 95% CI : (0.5472, 0.6061)\n",
       "    No Information Rate : 0.5301          \n",
       "    P-Value [Acc > NIR] : 0.000967        \n",
       "                                          \n",
       "                  Kappa : 0.1494          \n",
       " Mcnemar's Test P-Value : 0.580311        \n",
       "                                          \n",
       "            Sensitivity : 0.6119          \n",
       "            Specificity : 0.5373          \n",
       "         Pos Pred Value : 0.5987          \n",
       "         Neg Pred Value : 0.5510          \n",
       "             Prevalence : 0.5301          \n",
       "         Detection Rate : 0.3243          \n",
       "   Detection Prevalence : 0.5418          \n",
       "      Balanced Accuracy : 0.5746          \n",
       "                                          \n",
       "       'Positive' Class : Democrat        \n",
       "                                          "
      ]
     },
     "metadata": {},
     "output_type": "display_data"
    }
   ],
   "source": [
    "cm.glm2"
   ]
  },
  {
   "cell_type": "markdown",
   "metadata": {},
   "source": [
    "#### Random Forest"
   ]
  },
  {
   "cell_type": "code",
   "execution_count": 14,
   "metadata": {
    "collapsed": false
   },
   "outputs": [
    {
     "name": "stderr",
     "output_type": "stream",
     "text": [
      "Loading required package: randomForest\n",
      "randomForest 4.6-12\n",
      "Type rfNews() to see new features/changes/bug fixes.\n",
      "\n",
      "Attaching package: 'randomForest'\n",
      "\n",
      "The following object is masked from 'package:ggplot2':\n",
      "\n",
      "    margin\n",
      "\n",
      "The following object is masked from 'package:dplyr':\n",
      "\n",
      "    combine\n",
      "\n"
     ]
    }
   ],
   "source": [
    "set.seed(1056)\n",
    "rf1 <- train(Party ~ ., data = train.dv[, -1], method = \"rf\", trControl = trCtrl, preProcess = c(\"nzv\", \"BoxCox\", \"knnImpute\"))\n",
    "pred.rf1 <- predict(rf1, newdata = valid.dv, na.action = na.pass)\n",
    "cm.rf1 <- confusionMatrix(pred.rf1, valid.party)"
   ]
  },
  {
   "cell_type": "code",
   "execution_count": 15,
   "metadata": {
    "collapsed": false
   },
   "outputs": [
    {
     "name": "stderr",
     "output_type": "stream",
     "text": [
      "Warning message:\n",
      "In gsub(\"knnImpute\", paste(x$k, \"nearest neighbor imputation\"), : argument 'replacement' has length > 1 and only the first element will be usedWarning message:\n",
      "In gsub(\"knnImpute\", paste(x$k, \"nearest neighbor imputation\"), : argument 'replacement' has length > 1 and only the first element will be used"
     ]
    },
    {
     "data": {
      "text/plain": [
       "Random Forest \n",
       "\n",
       "4455 samples\n",
       " 224 predictor\n",
       "   2 classes: 'Democrat', 'Republican' \n",
       "\n",
       "Pre-processing: Box-Cox transformation (1), YOB nearest neighbor\n",
       " imputation (220), centered (220), scaled (220), remove (4) \n",
       "Resampling: Cross-Validated (10 fold, repeated 5 times) \n",
       "Summary of sample sizes: 499, 499, 499, 498, 498, 499, ... \n",
       "Resampling results across tuning parameters:\n",
       "\n",
       "  mtry  Accuracy   Kappa    \n",
       "    2   0.5855909  0.1737593\n",
       "  113   0.6082468  0.2187510\n",
       "  224   0.5992208  0.2006682\n",
       "\n",
       "Accuracy was used to select the optimal model using  the largest value.\n",
       "The final value used for the model was mtry = 113. "
      ]
     },
     "metadata": {},
     "output_type": "display_data"
    }
   ],
   "source": [
    "rf1"
   ]
  },
  {
   "cell_type": "code",
   "execution_count": 16,
   "metadata": {
    "collapsed": false
   },
   "outputs": [
    {
     "data": {
      "text/plain": [
       "Confusion Matrix and Statistics\n",
       "\n",
       "            Reference\n",
       "Prediction   Democrat Republican\n",
       "  Democrat        285        153\n",
       "  Republican      305        370\n",
       "                                          \n",
       "               Accuracy : 0.5885          \n",
       "                 95% CI : (0.5589, 0.6176)\n",
       "    No Information Rate : 0.5301          \n",
       "    P-Value [Acc > NIR] : 5.088e-05       \n",
       "                                          \n",
       "                  Kappa : 0.1874          \n",
       " Mcnemar's Test P-Value : 1.717e-12       \n",
       "                                          \n",
       "            Sensitivity : 0.4831          \n",
       "            Specificity : 0.7075          \n",
       "         Pos Pred Value : 0.6507          \n",
       "         Neg Pred Value : 0.5481          \n",
       "             Prevalence : 0.5301          \n",
       "         Detection Rate : 0.2561          \n",
       "   Detection Prevalence : 0.3935          \n",
       "      Balanced Accuracy : 0.5953          \n",
       "                                          \n",
       "       'Positive' Class : Democrat        \n",
       "                                          "
      ]
     },
     "metadata": {},
     "output_type": "display_data"
    }
   ],
   "source": [
    "cm.rf1"
   ]
  },
  {
   "cell_type": "markdown",
   "metadata": {},
   "source": [
    "#### LDA"
   ]
  },
  {
   "cell_type": "code",
   "execution_count": 19,
   "metadata": {
    "collapsed": false
   },
   "outputs": [
    {
     "name": "stderr",
     "output_type": "stream",
     "text": [
      "Loading required package: MASS\n",
      "\n",
      "Attaching package: 'MASS'\n",
      "\n",
      "The following object is masked from 'package:dplyr':\n",
      "\n",
      "    select\n",
      "\n",
      "Warning message:\n",
      "In lda.default(x, grouping, ...): variables are collinear"
     ]
    }
   ],
   "source": [
    "set.seed(1056)\n",
    "lda1 <- train(Party ~ ., data = train.dv[, -1], method = \"lda\", trControl = trCtrl, preProcess = c(\"nzv\", \"BoxCox\", \"knnImpute\"))\n",
    "pred.lda1 <- predict(lda1, newdata = valid.dv, na.action = na.pass)\n",
    "cm.lda1 <- confusionMatrix(pred.lda1, valid.party)"
   ]
  },
  {
   "cell_type": "code",
   "execution_count": 20,
   "metadata": {
    "collapsed": false
   },
   "outputs": [
    {
     "name": "stderr",
     "output_type": "stream",
     "text": [
      "Warning message:\n",
      "In gsub(\"knnImpute\", paste(x$k, \"nearest neighbor imputation\"), : argument 'replacement' has length > 1 and only the first element will be usedWarning message:\n",
      "In gsub(\"knnImpute\", paste(x$k, \"nearest neighbor imputation\"), : argument 'replacement' has length > 1 and only the first element will be used"
     ]
    },
    {
     "data": {
      "text/plain": [
       "Linear Discriminant Analysis \n",
       "\n",
       "4455 samples\n",
       " 224 predictor\n",
       "   2 classes: 'Democrat', 'Republican' \n",
       "\n",
       "Pre-processing: Box-Cox transformation (1), YOB nearest neighbor\n",
       " imputation (220), centered (220), scaled (220), remove (4) \n",
       "Resampling: Cross-Validated (10 fold, repeated 5 times) \n",
       "Summary of sample sizes: 499, 499, 499, 498, 498, 499, ... \n",
       "Resampling results:\n",
       "\n",
       "  Accuracy   Kappa   \n",
       "  0.5574416  0.114963\n",
       "\n",
       " "
      ]
     },
     "metadata": {},
     "output_type": "display_data"
    }
   ],
   "source": [
    "lda1"
   ]
  },
  {
   "cell_type": "code",
   "execution_count": 21,
   "metadata": {
    "collapsed": false
   },
   "outputs": [
    {
     "data": {
      "text/plain": [
       "Confusion Matrix and Statistics\n",
       "\n",
       "            Reference\n",
       "Prediction   Democrat Republican\n",
       "  Democrat        347        229\n",
       "  Republican      243        294\n",
       "                                          \n",
       "               Accuracy : 0.5759          \n",
       "                 95% CI : (0.5463, 0.6052)\n",
       "    No Information Rate : 0.5301          \n",
       "    P-Value [Acc > NIR] : 0.001184        \n",
       "                                          \n",
       "                  Kappa : 0.15            \n",
       " Mcnemar's Test P-Value : 0.549591        \n",
       "                                          \n",
       "            Sensitivity : 0.5881          \n",
       "            Specificity : 0.5621          \n",
       "         Pos Pred Value : 0.6024          \n",
       "         Neg Pred Value : 0.5475          \n",
       "             Prevalence : 0.5301          \n",
       "         Detection Rate : 0.3118          \n",
       "   Detection Prevalence : 0.5175          \n",
       "      Balanced Accuracy : 0.5751          \n",
       "                                          \n",
       "       'Positive' Class : Democrat        \n",
       "                                          "
      ]
     },
     "metadata": {},
     "output_type": "display_data"
    }
   ],
   "source": [
    "cm.lda1"
   ]
  },
  {
   "cell_type": "code",
   "execution_count": 22,
   "metadata": {
    "collapsed": false
   },
   "outputs": [
    {
     "name": "stderr",
     "output_type": "stream",
     "text": [
      "Warning message:\n",
      "In lda.default(x, grouping, ...): variables are collinear"
     ]
    }
   ],
   "source": [
    "set.seed(1056)\n",
    "lda2 <- train(Party ~ ., data = train.hc[, -1], method = \"lda\", trControl = trCtrl, preProcess = c(\"nzv\", \"BoxCox\", \"knnImpute\"))\n",
    "pred.lda2 <- predict(lda2, newdata = valid.dv, na.action = na.pass)\n",
    "cm.lda2 <- confusionMatrix(pred.lda2, valid.party)"
   ]
  },
  {
   "cell_type": "code",
   "execution_count": 23,
   "metadata": {
    "collapsed": false
   },
   "outputs": [
    {
     "name": "stderr",
     "output_type": "stream",
     "text": [
      "Warning message:\n",
      "In gsub(\"knnImpute\", paste(x$k, \"nearest neighbor imputation\"), : argument 'replacement' has length > 1 and only the first element will be usedWarning message:\n",
      "In gsub(\"knnImpute\", paste(x$k, \"nearest neighbor imputation\"), : argument 'replacement' has length > 1 and only the first element will be used"
     ]
    },
    {
     "data": {
      "text/plain": [
       "Linear Discriminant Analysis \n",
       "\n",
       "4455 samples\n",
       " 122 predictor\n",
       "   2 classes: 'Democrat', 'Republican' \n",
       "\n",
       "Pre-processing: Box-Cox transformation (1), YOB nearest neighbor\n",
       " imputation (118), centered (118), scaled (118), remove (4) \n",
       "Resampling: Cross-Validated (10 fold, repeated 5 times) \n",
       "Summary of sample sizes: 499, 499, 499, 498, 498, 499, ... \n",
       "Resampling results:\n",
       "\n",
       "  Accuracy   Kappa   \n",
       "  0.5574416  0.114963\n",
       "\n",
       " "
      ]
     },
     "metadata": {},
     "output_type": "display_data"
    }
   ],
   "source": [
    "lda2"
   ]
  },
  {
   "cell_type": "code",
   "execution_count": 24,
   "metadata": {
    "collapsed": false
   },
   "outputs": [
    {
     "data": {
      "text/plain": [
       "Confusion Matrix and Statistics\n",
       "\n",
       "            Reference\n",
       "Prediction   Democrat Republican\n",
       "  Democrat        344        235\n",
       "  Republican      246        288\n",
       "                                          \n",
       "               Accuracy : 0.5678          \n",
       "                 95% CI : (0.5381, 0.5972)\n",
       "    No Information Rate : 0.5301          \n",
       "    P-Value [Acc > NIR] : 0.006271        \n",
       "                                          \n",
       "                  Kappa : 0.1336          \n",
       " Mcnemar's Test P-Value : 0.648418        \n",
       "                                          \n",
       "            Sensitivity : 0.5831          \n",
       "            Specificity : 0.5507          \n",
       "         Pos Pred Value : 0.5941          \n",
       "         Neg Pred Value : 0.5393          \n",
       "             Prevalence : 0.5301          \n",
       "         Detection Rate : 0.3091          \n",
       "   Detection Prevalence : 0.5202          \n",
       "      Balanced Accuracy : 0.5669          \n",
       "                                          \n",
       "       'Positive' Class : Democrat        \n",
       "                                          "
      ]
     },
     "metadata": {},
     "output_type": "display_data"
    }
   ],
   "source": [
    "cm.lda2"
   ]
  },
  {
   "cell_type": "code",
   "execution_count": 26,
   "metadata": {
    "collapsed": false
   },
   "outputs": [
    {
     "name": "stderr",
     "output_type": "stream",
     "text": [
      "Warning message:\n",
      "In nominalTrainWorkflow(x = x, y = y, wts = weights, info = trainInfo, : There were missing values in resampled performance measures."
     ]
    },
    {
     "name": "stdout",
     "output_type": "stream",
     "text": [
      "Something is wrong; all the Accuracy metric values are missing:\n",
      "    Accuracy       Kappa    \n",
      " Min.   : NA   Min.   : NA  \n",
      " 1st Qu.: NA   1st Qu.: NA  \n",
      " Median : NA   Median : NA  \n",
      " Mean   :NaN   Mean   :NaN  \n",
      " 3rd Qu.: NA   3rd Qu.: NA  \n",
      " Max.   : NA   Max.   : NA  \n",
      " NA's   :3     NA's   :3    \n"
     ]
    },
    {
     "ename": "ERROR",
     "evalue": "Error in train.default(x, y, weights = w, ...): Stopping\n",
     "output_type": "error",
     "traceback": [
      "Error in train.default(x, y, weights = w, ...): Stopping\nTraceback:\n",
      "1. train(Party ~ ., data = train.hc[, -1], method = \"binda\", trControl = trCtrl, \n .     preProcess = c(\"nzv\", \"BoxCox\", \"knnImpute\"))",
      "2. train.formula(Party ~ ., data = train.hc[, -1], method = \"binda\", \n .     trControl = trCtrl, preProcess = c(\"nzv\", \"BoxCox\", \"knnImpute\"))",
      "3. train(x, y, weights = w, ...)",
      "4. train.default(x, y, weights = w, ...)",
      "5. stop(\"Stopping\")"
     ]
    }
   ],
   "source": [
    "set.seed(1056)\n",
    "binda1 <- train(Party ~ ., data = train.hc[, -1], method = \"binda\", trControl = trCtrl, preProcess = c(\"nzv\", \"BoxCox\", \"knnImpute\"))\n",
    "pred.binda1 <- predict(binda1, newdata = valid.dv, na.action = na.pass)\n",
    "cm.binda1 <- confusionMatrix(pred.binda1, valid.party)"
   ]
  },
  {
   "cell_type": "code",
   "execution_count": null,
   "metadata": {
    "collapsed": true
   },
   "outputs": [],
   "source": [
    "binda1"
   ]
  },
  {
   "cell_type": "code",
   "execution_count": null,
   "metadata": {
    "collapsed": true
   },
   "outputs": [],
   "source": [
    "cm.binda1"
   ]
  },
  {
   "cell_type": "markdown",
   "metadata": {},
   "source": [
    "## Model Comparison"
   ]
  },
  {
   "cell_type": "code",
   "execution_count": 17,
   "metadata": {
    "collapsed": false
   },
   "outputs": [
    {
     "name": "stderr",
     "output_type": "stream",
     "text": [
      "Warning message:\n",
      "In resamples.default(list(glm1 = glm1, glm2 = glm2, rf1 = rf1)): 'glm1' did not have 'returnResamp=\"final\"; the optimal tuning parameters are usedWarning message:\n",
      "In resamples.default(list(glm1 = glm1, glm2 = glm2, rf1 = rf1)): 'glm2' did not have 'returnResamp=\"final\"; the optimal tuning parameters are usedWarning message:\n",
      "In resamples.default(list(glm1 = glm1, glm2 = glm2, rf1 = rf1)): 'rf1' did not have 'returnResamp=\"final\"; the optimal tuning parameters are used"
     ]
    }
   ],
   "source": [
    "resamp <- resamples(list(glm1 = glm1, glm2 = glm2, rf1 = rf1))"
   ]
  },
  {
   "cell_type": "code",
   "execution_count": 18,
   "metadata": {
    "collapsed": false
   },
   "outputs": [
    {
     "data": {
      "text/plain": [
       "\n",
       "Call:\n",
       "summary.resamples(object = resamp)\n",
       "\n",
       "Models: glm1, glm2, rf1 \n",
       "Number of resamples: 50 \n",
       "\n",
       "Accuracy \n",
       "       Min. 1st Qu. Median   Mean 3rd Qu.   Max. NA's\n",
       "glm1 0.3750  0.5136 0.5586 0.5571  0.5893 0.7321    0\n",
       "glm2 0.4364  0.5202 0.5675 0.5621  0.6054 0.6909    0\n",
       "rf1  0.4364  0.5656 0.6182 0.6082  0.6516 0.7455    0\n",
       "\n",
       "Kappa \n",
       "        Min. 1st Qu. Median   Mean 3rd Qu.   Max. NA's\n",
       "glm1 -0.2500 0.02419 0.1159 0.1140  0.1786 0.4643    0\n",
       "glm2 -0.1284 0.03909 0.1366 0.1238  0.2117 0.3796    0\n",
       "rf1  -0.1195 0.13530 0.2381 0.2188  0.3061 0.4907    0\n"
      ]
     },
     "metadata": {},
     "output_type": "display_data"
    }
   ],
   "source": [
    "summary(resamp)"
   ]
  }
 ],
 "metadata": {
  "kernelspec": {
   "display_name": "R",
   "language": "R",
   "name": "ir"
  },
  "language_info": {
   "codemirror_mode": "r",
   "file_extension": ".r",
   "mimetype": "text/x-r-source",
   "name": "R",
   "pygments_lexer": "r",
   "version": "3.3.0"
  }
 },
 "nbformat": 4,
 "nbformat_minor": 0
}
